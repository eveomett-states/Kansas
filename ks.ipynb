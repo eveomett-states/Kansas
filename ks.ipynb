{
 "cells": [
  {
   "cell_type": "markdown",
   "id": "48a72edc-10d5-447e-bf59-a42b79b13098",
   "metadata": {},
   "source": [
    "# All the parameters that need to be changed"
   ]
  },
  {
   "cell_type": "code",
   "execution_count": 2,
   "id": "55545525-1a53-4366-88fa-4b4ecc94ecad",
   "metadata": {},
   "outputs": [],
   "source": [
    "# Kansas\n",
    "state_ab = \"ks\""
   ]
  },
  {
   "cell_type": "markdown",
   "id": "c3e1bdeb-55c5-4c10-83b5-de352e6d559d",
   "metadata": {
    "tags": []
   },
   "source": [
    "## Data\n",
    "1. Download all the data in directory \"il_data\"\n",
    "2. Eextract them all"
   ]
  },
  {
   "cell_type": "code",
   "execution_count": 4,
   "id": "1cbb32f0-472b-4441-abf2-6af58699cb5f",
   "metadata": {},
   "outputs": [],
   "source": [
    "data_folder = state_ab + \"_data/\"\n",
    "population1_data = \"./{}{}_pl2020_b/{}_pl2020_p1_b.shp\".format(data_folder, state_ab, state_ab)\n",
    "population2_data = \"./{}{}_pl2020_b/{}_pl2020_p2_b.shp\".format(data_folder, state_ab, state_ab)\n",
    "vap_data =  \"./{}{}_pl2020_b/{}_pl2020_p4_b.shp\".format(data_folder, state_ab, state_ab)\n",
    "vest20_data = \"./{}{}_vest_20/{}_vest_20.shp\".format(data_folder, state_ab, state_ab)\n",
    "vest18_data = \"./{}{}_vest_18/{}_vest_18.shp\".format(data_folder, state_ab, state_ab)\n",
    "vest16_data = \"./{}{}_vest_16/{}_vest_16.shp\".format(data_folder, state_ab, state_ab)\n",
    "cd_data = \"./{}{}_cong_adopted_2022/M3_AdAstra_2 for KLRD TR.shp\".format(data_folder, state_ab)\n",
    "send_data = \"./{}{}_sldu_adopted_2022/Liberty_3 for KLRD TR.shp\".format(data_folder, state_ab)\n",
    "hdist_data = \"./{}{}_sldl_adopted_2022/Freestate 3F for KLRD TR.shp\".format(data_folder, state_ab)\n",
    "vest22_data = \"./{}{}_2022_gen_prec/{}_2022_gen_no_splits_prec/{}_2022_gen_no_splits_prec.shp\".format(data_folder, state_ab, state_ab, state_ab)\n",
    "county_data = \"./{}{}_pl2020_cnty/{}_pl2020_cnty.shp\".format(data_folder, state_ab, state_ab)"
   ]
  },
  {
   "cell_type": "markdown",
   "id": "2594a66a-efb1-443f-8b0a-b2c73257f1cc",
   "metadata": {},
   "source": [
    "## Parameters that needs to be manually checked\n",
    "\n",
    "### base vest data\n",
    "start_col = 5\\\n",
    "vest_base_data = vest20\\\n",
    "year = '20'\n",
    "\n",
    "### district data\n",
    "district column name of cong_df, send, hdist when calling add_dist()"
   ]
  },
  {
   "cell_type": "markdown",
   "id": "d9cfe42b-cfd8-4ad4-b255-31268cb35669",
   "metadata": {},
   "source": [
    "# Program starts"
   ]
  },
  {
   "cell_type": "code",
   "execution_count": 7,
   "id": "49a264d4-c255-4393-b5ae-74b6f7c645da",
   "metadata": {},
   "outputs": [],
   "source": [
    "import pandas as pd\n",
    "import geopandas as gpd\n",
    "import maup\n",
    "import time\n",
    "from maup import smart_repair\n",
    "from gerrychain import Graph\n",
    "import os\n",
    "import math\n",
    "\n",
    "maup.progress.enabled = True"
   ]
  },
  {
   "cell_type": "code",
   "execution_count": 8,
   "id": "f78d28b6-abb4-4444-aa7e-f0eb73dab3f2",
   "metadata": {},
   "outputs": [],
   "source": [
    "import warnings\n",
    "warnings.filterwarnings(\"ignore\")"
   ]
  },
  {
   "cell_type": "code",
   "execution_count": 9,
   "id": "378425b3-9819-41bd-8212-2e031b571cf2",
   "metadata": {},
   "outputs": [],
   "source": [
    "def do_smart_repair(df, min_rook_length = None, snap_precision = 10):\n",
    "    # change it to the UTM it needs for smart_repair\n",
    "    df = df.to_crs(df.estimate_utm_crs())\n",
    "    df = smart_repair(df, min_rook_length = min_rook_length, snap_precision = snap_precision)\n",
    "\n",
    "    if maup.doctor(df) == False:\n",
    "        raise Exception('maup.doctor failed')\n",
    "    \n",
    "    return df"
   ]
  },
  {
   "cell_type": "code",
   "execution_count": 10,
   "id": "df3945da-c3af-41a8-9511-a5aba33fef0b",
   "metadata": {},
   "outputs": [],
   "source": [
    "def add_district(dist_df, dist_name, election_df, col_name):\n",
    "    election_df = election_df.to_crs(election_df.estimate_utm_crs())\n",
    "    dist_df = dist_df.to_crs(dist_df.estimate_utm_crs())\n",
    "    # check if it needs to be smart_repair\n",
    "    if maup.doctor(dist_df) != True:\n",
    "        dist_df = do_smart_repair(dist_df)\n",
    "\n",
    "    # assign the pricincts\n",
    "    precincts_to_district_assignment = maup.assign(election_df.geometry, dist_df.geometry)\n",
    "    election_df[dist_name] = precincts_to_district_assignment\n",
    "    for precinct_index in range(len(election_df)):\n",
    "        if not math.isnan(election_df.at[precinct_index, dist_name]): #Note: added this b/c sen district has a hole over Lake Pontchartrain\n",
    "            election_df.at[precinct_index, dist_name] = dist_df.at[election_df.at[precinct_index, dist_name], col_name]\n",
    "\n",
    "    return election_df"
   ]
  },
  {
   "cell_type": "code",
   "execution_count": 11,
   "id": "29c38a31-6707-4ab3-a9e4-38d69ce6838c",
   "metadata": {},
   "outputs": [],
   "source": [
    "def rename(original, year):\n",
    "    party = original[6]\n",
    "    if party == 'R' or party == 'D':\n",
    "        return original[3:6] + year + original[6]\n",
    "    else:\n",
    "        return original[3:6] + year + 'O'"
   ]
  },
  {
   "cell_type": "code",
   "execution_count": 12,
   "id": "082153c3-29cf-44c5-a604-cc3d144affb8",
   "metadata": {},
   "outputs": [],
   "source": [
    "pop_col = ['TOTPOP', 'HISP', 'NH_WHITE', 'NH_BLACK', 'NH_AMIN', 'NH_ASIAN', 'NH_NHPI', 'NH_OTHER', 'NH_2MORE', 'H_WHITE', 'H_BLACK', 'H_AMIN', 'H_ASIAN', 'H_NHPI', 'H_OTHER', 'H_2MORE', 'VAP', 'HVAP', 'WVAP', 'BVAP', 'AMINVAP', 'ASIANVAP', 'NHPIVAP', 'OTHERVAP', '2MOREVAP']"
   ]
  },
  {
   "cell_type": "code",
   "execution_count": 13,
   "id": "9cbd02f8-308e-4fe9-804a-6bc8474b749b",
   "metadata": {},
   "outputs": [],
   "source": [
    "def check_population(population, df):\n",
    "    pop_check = pd.DataFrame({\n",
    "        'pop_col': pop_col,\n",
    "        'population_df': population[pop_col].sum(), \n",
    "        'vest_base': df[pop_col].sum(),\n",
    "        'equal': [x == y for x, y in zip(population[pop_col].sum(), df[pop_col].sum())]\n",
    "    })\n",
    "    if pop_check['equal'].mean() < 1:\n",
    "        print(pop_check)\n",
    "        raise Exception(\"population doesn't agree\")\n",
    "\n",
    "    else:\n",
    "        print(\"population agrees\")"
   ]
  },
  {
   "cell_type": "code",
   "execution_count": 14,
   "id": "c4508baf-84cd-4a31-97ad-059164232e8e",
   "metadata": {},
   "outputs": [],
   "source": [
    "def add_vest(vest, df, year, population, start_col, end_col = None, snap_precision = 10):\n",
    "    df = df.to_crs(df.estimate_utm_crs())\n",
    "    vest = vest.to_crs(vest.estimate_utm_crs())\n",
    "    population = population.to_crs(population.estimate_utm_crs())\n",
    "    df_crs = df.crs\n",
    "    vest_crs = vest.crs\n",
    "    \n",
    "     # check if it needs to be smart_repair\n",
    "    if maup.doctor(vest) != True:\n",
    "        vest = do_smart_repair(vest, snap_precision = snap_precision)\n",
    "    \n",
    "    # rename the columns\n",
    "    original_col = vest.columns[start_col:-1]\n",
    "    if end_col is not None:\n",
    "        original_col = vest.columns[start_col:end_col]\n",
    "    new_col = [rename(i, year) for i in original_col]\n",
    "    rename_dict = dict(zip(original_col, new_col))\n",
    "    vest = vest.rename(columns=rename_dict)\n",
    "    vest = vest.groupby(level=0, axis=1).sum() # combine all the other party's vote into columns with sufix \"O\"\n",
    "    col_name = list(set(new_col))\n",
    "    col_name.sort()\n",
    "    \n",
    "    # make the blocks from precincts by weight\n",
    "    vest = gpd.GeoDataFrame(vest, crs=vest_crs)\n",
    "    election_in_block = population[[\"VAP\", 'geometry']] # population_df is in block scale\n",
    "    blocks_to_precincts_assignment = maup.assign(election_in_block.geometry, vest.geometry)\n",
    "    weights = election_in_block[\"VAP\"] / blocks_to_precincts_assignment.map(election_in_block[\"VAP\"].groupby(blocks_to_precincts_assignment).sum())\n",
    "    weights = weights.fillna(0)\n",
    "    prorated = maup.prorate(blocks_to_precincts_assignment, vest[col_name], weights)\n",
    "    election_in_block[col_name] = prorated\n",
    "    \n",
    "    # assign blocks to precincts\n",
    "    election_in_block = gpd.GeoDataFrame(election_in_block, crs=vest_crs)\n",
    "    df = gpd.GeoDataFrame(df, crs=df_crs)\n",
    "    block_to_pricinct_assginment = maup.assign(election_in_block.geometry, df.geometry)\n",
    "    df[col_name] = election_in_block[col_name].groupby(block_to_pricinct_assginment).sum()\n",
    "    df = df.groupby(level=0, axis=1).sum()\n",
    "    df = gpd.GeoDataFrame(df, crs = df_crs)\n",
    "    # check if population agrees\n",
    "    check_population(population, df)\n",
    "    \n",
    "    return df"
   ]
  },
  {
   "cell_type": "code",
   "execution_count": 15,
   "id": "a497839c-636c-4cd6-be72-a97b7bf81a69",
   "metadata": {},
   "outputs": [],
   "source": [
    "def add_vest_base(vest, start_col, year, county = None, min_rook_length = None, snap_precision = 10):\n",
    "    vest = vest.to_crs(vest.estimate_utm_crs())\n",
    "    vest_crs = vest.crs\n",
    "    original_col = vest.columns[start_col:-1]\n",
    "    new_col = [rename(i, year) for i in original_col]\n",
    "    rename_dict = dict(zip(original_col, new_col))\n",
    "    vest = vest.rename(columns=rename_dict)\n",
    "    vest = vest.groupby(level=0, axis=1).sum()\n",
    "    vest = gpd.GeoDataFrame(vest, crs=vest_crs)\n",
    "\n",
    "    if county is not None:\n",
    "        county = county.to_crs(county.estimate_utm_crs())\n",
    "        vest = smart_repair(vest, nest_within_regions = county, min_rook_length = min_rook_length, snap_precision = snap_precision) # nest precincts within counties\n",
    "\n",
    "    else:\n",
    "        vest = smart_repair(vest, min_rook_length = min_rook_length, snap_precision = snap_precision) \n",
    "    \n",
    "    return vest"
   ]
  },
  {
   "cell_type": "code",
   "execution_count": 16,
   "id": "6e08f61e-5c7e-4860-9dc4-538f1f47dd77",
   "metadata": {},
   "outputs": [],
   "source": [
    "def check_small_boundary_lengths(vest_base):\n",
    "    import copy\n",
    "    vest_base = vest_base.to_crs(vest_base.estimate_utm_crs())\n",
    "\n",
    "    boundaries = copy.deepcopy(vest_base)\n",
    "    boundaries[\"geometry\"] = boundaries.geometry.boundary  # get boundaries\n",
    "    neighbors = gpd.sjoin(boundaries, vest_base, predicate=\"intersects\") # find boundaries that intersect\n",
    "    neighbors = neighbors[neighbors.index != neighbors.index_right] # remove boundaries of a region with itself\n",
    "\n",
    "    # compute shared border length using intersection\n",
    "    borders = list(neighbors.apply(\n",
    "        lambda row: row.geometry.intersection(vest_base.loc[row.index_right, \"geometry\"]).length, axis=1\n",
    "    ))\n",
    "\n",
    "    borders.sort()\n",
    "    \n",
    "    return borders"
   ]
  },
  {
   "cell_type": "markdown",
   "id": "ab6ce8f5-f237-4d6c-8425-cd8a0b080f65",
   "metadata": {},
   "source": [
    "## Read the census data"
   ]
  },
  {
   "cell_type": "code",
   "execution_count": 18,
   "id": "185d2b84-d37f-4f24-86c1-1bcd0b4347e2",
   "metadata": {},
   "outputs": [],
   "source": [
    "population1_df = gpd.read_file(population1_data)\n",
    "population2_df = gpd.read_file(population2_data)\n",
    "vap_df = gpd.read_file(vap_data)\n",
    "county_df = gpd.read_file(county_data)"
   ]
  },
  {
   "cell_type": "code",
   "execution_count": 19,
   "id": "57b3b9bb-9721-469d-8eee-0dd5eb0e6015",
   "metadata": {},
   "outputs": [],
   "source": [
    "population2_df = population2_df.drop(columns=['SUMLEV', 'LOGRECNO', 'GEOID', 'COUNTY', 'geometry'])\n",
    "vap_df = vap_df.drop(columns=['SUMLEV', 'LOGRECNO', 'GEOID', 'COUNTY', 'geometry'])"
   ]
  },
  {
   "cell_type": "code",
   "execution_count": 20,
   "id": "daa935f7-bc02-4856-adb0-9cc9cf31ffca",
   "metadata": {},
   "outputs": [],
   "source": [
    "population_df = pd.merge(population1_df, population2_df, on='GEOID20')\n",
    "population_df = pd.merge(population_df, vap_df, on='GEOID20')\n",
    "population_df = population_df.to_crs(population_df.estimate_utm_crs())"
   ]
  },
  {
   "cell_type": "code",
   "execution_count": 21,
   "id": "0845f50e-9920-404a-8284-c47df7b0f6ce",
   "metadata": {},
   "outputs": [],
   "source": [
    "rename_dict = {'P0020001': 'TOTPOP', 'P0020002': 'HISP', 'P0020005': 'NH_WHITE', 'P0020006': 'NH_BLACK', 'P0020007': 'NH_AMIN',\n",
    "               'P0020008': 'NH_ASIAN', 'P0020009': 'NH_NHPI', 'P0020010': 'NH_OTHER', 'P0020011': 'NH_2MORE',\n",
    "               'P0040001': 'VAP', 'P0040002': 'HVAP', 'P0040005': 'WVAP', 'P0040006': 'BVAP', 'P0040007': 'AMINVAP',\n",
    "               'P0040008': 'ASIANVAP', 'P0040009': 'NHPIVAP', 'P0040010': 'OTHERVAP', 'P0040011': '2MOREVAP'}"
   ]
  },
  {
   "cell_type": "code",
   "execution_count": 22,
   "id": "4d4f9723-ad23-46ff-bbd0-8d4ab628b69b",
   "metadata": {},
   "outputs": [],
   "source": [
    "population_df.rename(columns=rename_dict, inplace = True)"
   ]
  },
  {
   "cell_type": "code",
   "execution_count": 23,
   "id": "9550a841-5692-4d5f-a7f1-131d53eb9f12",
   "metadata": {},
   "outputs": [],
   "source": [
    "population_df['H_WHITE'] = population_df.apply(lambda t: t['P0010003'] - t['NH_WHITE'], 1)\n",
    "population_df['H_BLACK'] = population_df.apply(lambda t: t['P0010004'] - t['NH_BLACK'], 1)\n",
    "population_df['H_AMIN'] = population_df.apply(lambda t: t['P0010005'] - t['NH_AMIN'], 1)\n",
    "population_df['H_ASIAN'] = population_df.apply(lambda t: t['P0010006'] - t['NH_ASIAN'], 1)\n",
    "population_df['H_NHPI'] = population_df.apply(lambda t: t['P0010007'] - t['NH_NHPI'], 1)\n",
    "population_df['H_OTHER'] = population_df.apply(lambda t: t['P0010008'] - t['NH_OTHER'], 1)\n",
    "population_df['H_2MORE'] = population_df.apply(lambda t: t['P0010009'] - t['NH_2MORE'], 1)"
   ]
  },
  {
   "cell_type": "code",
   "execution_count": 24,
   "id": "3048fd74-aaeb-4960-b51b-73a8099beba3",
   "metadata": {},
   "outputs": [
    {
     "name": "stderr",
     "output_type": "stream",
     "text": [
      "100%|█████████████████████████████████| 172529/172529 [00:51<00:00, 3331.14it/s]\n"
     ]
    },
    {
     "data": {
      "text/plain": [
       "True"
      ]
     },
     "execution_count": 24,
     "metadata": {},
     "output_type": "execute_result"
    }
   ],
   "source": [
    "maup.doctor(population_df)"
   ]
  },
  {
   "cell_type": "code",
   "execution_count": 25,
   "id": "5147dc0a-71fe-4979-b915-ae93847ee038",
   "metadata": {},
   "outputs": [
    {
     "name": "stderr",
     "output_type": "stream",
     "text": [
      "100%|████████████████████████████████████████| 105/105 [00:00<00:00, 725.90it/s]\n"
     ]
    },
    {
     "data": {
      "text/plain": [
       "True"
      ]
     },
     "execution_count": 25,
     "metadata": {},
     "output_type": "execute_result"
    }
   ],
   "source": [
    "county_df = county_df.to_crs(county_df.estimate_utm_crs())\n",
    "maup.doctor(county_df)"
   ]
  },
  {
   "cell_type": "markdown",
   "id": "e1e89689-06e1-4937-9bee-b0442bfc33d5",
   "metadata": {},
   "source": [
    "# Read the base vest data\n",
    "Now using it as a \"base precinct\", but it could be vest 18 or vest 16 if vest 20 is not working"
   ]
  },
  {
   "cell_type": "markdown",
   "id": "bcfb3af1-db89-4463-98d8-3a0192067bb4",
   "metadata": {},
   "source": [
    "### Check if vest 20 can be used as base"
   ]
  },
  {
   "cell_type": "code",
   "execution_count": 28,
   "id": "397e9936-bfde-4b09-9dcb-207733dfb2dd",
   "metadata": {},
   "outputs": [],
   "source": [
    "vest20 = gpd.read_file(vest20_data)"
   ]
  },
  {
   "cell_type": "markdown",
   "id": "20718edd-b876-4d8d-8509-5eeee4b9b9be",
   "metadata": {},
   "source": [
    "### If it is true for maup doctor, we will use it as the base vest data.\n",
    "Check where the election column starts, this should be the same for all vest data in that state"
   ]
  },
  {
   "cell_type": "code",
   "execution_count": 30,
   "id": "2d744be1-7568-4b94-a383-17d219ac128b",
   "metadata": {},
   "outputs": [
    {
     "data": {
      "text/plain": [
       "Index(['COUNTYFP', 'VTDST', 'NAMELSAD', 'G20PREDBID', 'G20PRERTRU',\n",
       "       'G20PRELJOR', 'G20USSDBOL', 'G20USSRMAR', 'G20USSLBUC', 'geometry'],\n",
       "      dtype='object')"
      ]
     },
     "execution_count": 30,
     "metadata": {},
     "output_type": "execute_result"
    }
   ],
   "source": [
    "vest20.columns"
   ]
  },
  {
   "cell_type": "markdown",
   "id": "65620cab-599f-4232-818e-e85846d02694",
   "metadata": {},
   "source": [
    "## Parameters that need to be checked"
   ]
  },
  {
   "cell_type": "code",
   "execution_count": 32,
   "id": "4200a0f8-29dd-42f9-96e4-ff27188ce32a",
   "metadata": {},
   "outputs": [],
   "source": [
    "start_col = 3\n",
    "vest_base_data = vest20\n",
    "year = '20'"
   ]
  },
  {
   "cell_type": "code",
   "execution_count": 33,
   "id": "728420ec-9df2-4771-ae4c-1832fe3fb12f",
   "metadata": {},
   "outputs": [
    {
     "name": "stderr",
     "output_type": "stream",
     "text": [
      "100%|████████████████████████████████████████| 105/105 [00:00<00:00, 720.41it/s]\n"
     ]
    },
    {
     "name": "stdout",
     "output_type": "stream",
     "text": [
      "Snapping all geometries to a grid with precision 10^( -5 ) to avoid GEOS errors.\n"
     ]
    },
    {
     "name": "stderr",
     "output_type": "stream",
     "text": [
      "100%|████████████████████████████████████████| 105/105 [00:00<00:00, 267.05it/s]\n",
      "100%|████████████████████████████████████████| 105/105 [00:00<00:00, 837.29it/s]\n"
     ]
    },
    {
     "name": "stdout",
     "output_type": "stream",
     "text": [
      "Identifying overlaps...\n"
     ]
    },
    {
     "name": "stderr",
     "output_type": "stream",
     "text": [
      "100%|█████████████████████████████████████| 7003/7003 [00:02<00:00, 2630.07it/s]\n"
     ]
    },
    {
     "name": "stdout",
     "output_type": "stream",
     "text": [
      "Resolving overlaps and filling gaps...\n"
     ]
    },
    {
     "name": "stderr",
     "output_type": "stream",
     "text": [
      "100%|████████████████████████████████████████| 105/105 [00:00<00:00, 299.38it/s]\n",
      "100%|████████████████████████████████████████| 105/105 [00:00<00:00, 925.57it/s]\n",
      "Gaps to simplify in region 0: 100%|███████████████| 1/1 [00:00<00:00, 90.66it/s]\n",
      "Gaps to fill: 0it [00:00, ?it/s]\n",
      "Gaps to simplify: 0it [00:00, ?it/s]\n",
      "Gaps to fill: 0it [00:00, ?it/s]\n",
      "Gaps to simplify: 0it [00:00, ?it/s]\n",
      "Gaps to fill: 0it [00:00, ?it/s]\n",
      "Gaps to simplify: 0it [00:00, ?it/s]\n",
      "Gaps to fill: 0it [00:00, ?it/s]\n",
      "Gaps to simplify in region 4: 100%|██████████████| 1/1 [00:00<00:00, 130.87it/s]\n",
      "Gaps to fill: 0it [00:00, ?it/s]\n",
      "Gaps to simplify: 0it [00:00, ?it/s]\n",
      "Gaps to fill: 0it [00:00, ?it/s]\n",
      "Gaps to simplify in region 6: 100%|███████████████| 1/1 [00:00<00:00, 56.67it/s]\n",
      "Gaps to fill: 0it [00:00, ?it/s]\n",
      "Gaps to simplify: 0it [00:00, ?it/s]\n",
      "Gaps to fill: 0it [00:00, ?it/s]\n",
      "Gaps to simplify in region 8: 100%|███████████████| 1/1 [00:00<00:00, 77.75it/s]\n",
      "Gaps to fill: 0it [00:00, ?it/s]\n",
      "Gaps to simplify in region 9: 100%|██████████████| 1/1 [00:00<00:00, 115.94it/s]\n",
      "Gaps to fill: 0it [00:00, ?it/s]\n",
      "Gaps to simplify in region 10: 100%|█████████████| 3/3 [00:00<00:00, 111.07it/s]\n",
      "Gaps to fill: 0it [00:00, ?it/s]\n",
      "Gaps to simplify in region 11: 207it [06:59,  2.03s/it]                         \n",
      "Gaps to fill in region 11: 100%|████████████████| 34/34 [00:07<00:00,  4.59it/s]\n",
      "Gaps to simplify in region 12: 100%|█████████████| 4/4 [00:00<00:00, 172.81it/s]\n",
      "Gaps to fill: 0it [00:00, ?it/s]\n",
      "Gaps to simplify in region 13: 100%|█████████████| 3/3 [00:00<00:00, 117.54it/s]\n",
      "Gaps to fill in region 13: 100%|██████████████████| 1/1 [00:00<00:00, 93.43it/s]\n",
      "Gaps to simplify: 0it [00:00, ?it/s]\n",
      "Gaps to fill: 0it [00:00, ?it/s]\n",
      "Gaps to simplify in region 15: 100%|█████████████| 2/2 [00:00<00:00, 163.37it/s]\n",
      "Gaps to fill: 0it [00:00, ?it/s]\n",
      "Gaps to simplify: 0it [00:00, ?it/s]\n",
      "Gaps to fill: 0it [00:00, ?it/s]\n",
      "Gaps to simplify in region 17: 100%|██████████| 818/818 [00:58<00:00, 14.06it/s]\n",
      "Gaps to fill in region 17: 100%|████████████████| 16/16 [00:01<00:00, 14.06it/s]\n",
      "Gaps to simplify in region 18: 100%|█████████████| 9/9 [00:00<00:00, 111.98it/s]\n",
      "Gaps to fill: 0it [00:00, ?it/s]\n",
      "Gaps to simplify in region 19: 100%|████████████| 67/67 [00:05<00:00, 11.60it/s]\n",
      "Gaps to fill in region 19: 100%|████████████████| 78/78 [00:00<00:00, 86.21it/s]\n",
      "Gaps to simplify in region 20: 100%|█████████████| 2/2 [00:00<00:00, 127.10it/s]\n",
      "Gaps to fill in region 20: 100%|█████████████████| 1/1 [00:00<00:00, 100.50it/s]\n",
      "Gaps to simplify in region 21: 100%|██████████████| 3/3 [00:00<00:00, 95.46it/s]\n",
      "Gaps to fill: 0it [00:00, ?it/s]\n",
      "Gaps to simplify: 0it [00:00, ?it/s]\n",
      "Gaps to fill: 0it [00:00, ?it/s]\n",
      "Gaps to simplify: 0it [00:00, ?it/s]\n",
      "Gaps to fill: 0it [00:00, ?it/s]\n",
      "Gaps to simplify: 0it [00:00, ?it/s]\n",
      "Gaps to fill: 0it [00:00, ?it/s]\n",
      "Gaps to simplify: 0it [00:00, ?it/s]\n",
      "Gaps to fill: 0it [00:00, ?it/s]\n",
      "Gaps to simplify in region 26: 100%|██████████████| 3/3 [00:00<00:00, 97.40it/s]\n",
      "Gaps to fill in region 26: 100%|██████████████████| 1/1 [00:00<00:00, 77.57it/s]\n",
      "Gaps to simplify in region 27: 100%|█████████████| 1/1 [00:00<00:00, 140.98it/s]\n",
      "Gaps to fill: 0it [00:00, ?it/s]\n",
      "Gaps to simplify in region 28: 100%|█████████████| 1/1 [00:00<00:00, 116.89it/s]\n",
      "Gaps to fill: 0it [00:00, ?it/s]\n",
      "Gaps to simplify in region 29: 100%|█████████████| 1/1 [00:00<00:00, 128.95it/s]\n",
      "Gaps to fill: 0it [00:00, ?it/s]\n",
      "Gaps to simplify in region 30: 100%|█████████████| 1/1 [00:00<00:00, 144.68it/s]\n",
      "Gaps to fill: 0it [00:00, ?it/s]\n",
      "Gaps to simplify in region 31: 100%|█████████████| 4/4 [00:00<00:00, 138.71it/s]\n",
      "Gaps to fill: 0it [00:00, ?it/s]\n",
      "Gaps to simplify in region 32: 100%|█████████████| 3/3 [00:00<00:00, 127.44it/s]\n",
      "Gaps to fill: 0it [00:00, ?it/s]\n",
      "Gaps to simplify in region 33: 100%|██████████| 187/187 [00:03<00:00, 61.44it/s]\n",
      "Gaps to fill in region 33: 100%|████████████████| 47/47 [00:01<00:00, 26.47it/s]\n",
      "Gaps to simplify: 0it [00:00, ?it/s]\n",
      "Gaps to fill: 0it [00:00, ?it/s]\n",
      "Gaps to simplify in region 35: 100%|█████████████| 3/3 [00:00<00:00, 105.53it/s]\n",
      "Gaps to fill: 0it [00:00, ?it/s]\n",
      "Gaps to simplify in region 36: 100%|█████████████| 4/4 [00:00<00:00, 109.94it/s]\n",
      "Gaps to fill: 0it [00:00, ?it/s]\n",
      "Gaps to simplify: 0it [00:00, ?it/s]\n",
      "Gaps to fill: 0it [00:00, ?it/s]\n",
      "Gaps to simplify in region 38: 100%|█████████████| 2/2 [00:00<00:00, 145.99it/s]\n",
      "Gaps to fill: 0it [00:00, ?it/s]\n",
      "Gaps to simplify: 0it [00:00, ?it/s]\n",
      "Gaps to fill: 0it [00:00, ?it/s]\n",
      "Gaps to simplify: 0it [00:00, ?it/s]\n",
      "Gaps to fill: 0it [00:00, ?it/s]\n",
      "Gaps to simplify in region 41: 100%|█████████████| 2/2 [00:00<00:00, 180.03it/s]\n",
      "Gaps to fill: 0it [00:00, ?it/s]\n",
      "Gaps to simplify: 0it [00:00, ?it/s]\n",
      "Gaps to fill: 0it [00:00, ?it/s]\n",
      "Gaps to simplify: 0it [00:00, ?it/s]\n",
      "Gaps to fill: 0it [00:00, ?it/s]\n",
      "Gaps to simplify in region 44: 100%|█████████████| 1/1 [00:00<00:00, 129.50it/s]\n",
      "Gaps to fill: 0it [00:00, ?it/s]\n",
      "Gaps to simplify: 0it [00:00, ?it/s]\n",
      "Gaps to fill: 0it [00:00, ?it/s]\n",
      "Gaps to simplify in region 46: 100%|█████████████| 2/2 [00:00<00:00, 113.08it/s]\n",
      "Gaps to fill: 0it [00:00, ?it/s]\n",
      "Gaps to simplify: 0it [00:00, ?it/s]\n",
      "Gaps to fill: 0it [00:00, ?it/s]\n",
      "Gaps to simplify in region 48: 100%|█████████████| 2/2 [00:00<00:00, 111.05it/s]\n",
      "Gaps to fill: 0it [00:00, ?it/s]\n",
      "Gaps to simplify: 0it [00:00, ?it/s]\n",
      "Gaps to fill: 0it [00:00, ?it/s]\n",
      "Gaps to simplify: 0it [00:00, ?it/s]\n",
      "Gaps to fill: 0it [00:00, ?it/s]\n",
      "Gaps to simplify in region 51: 100%|█████████████| 1/1 [00:00<00:00, 105.96it/s]\n",
      "Gaps to fill: 0it [00:00, ?it/s]\n",
      "Gaps to simplify: 0it [00:00, ?it/s]\n",
      "Gaps to fill: 0it [00:00, ?it/s]\n",
      "Gaps to simplify: 0it [00:00, ?it/s]\n",
      "Gaps to fill: 0it [00:00, ?it/s]\n",
      "Gaps to simplify: 0it [00:00, ?it/s]\n",
      "Gaps to fill: 0it [00:00, ?it/s]\n",
      "Gaps to simplify: 0it [00:00, ?it/s]\n",
      "Gaps to fill: 0it [00:00, ?it/s]\n",
      "Gaps to simplify in region 56: 100%|█████████████| 3/3 [00:00<00:00, 179.56it/s]\n",
      "Gaps to fill: 0it [00:00, ?it/s]\n",
      "Gaps to simplify: 0it [00:00, ?it/s]\n",
      "Gaps to fill: 0it [00:00, ?it/s]\n",
      "Gaps to simplify in region 58: 100%|█████████████| 2/2 [00:00<00:00, 153.85it/s]\n",
      "Gaps to fill: 0it [00:00, ?it/s]\n",
      "Gaps to simplify in region 59: 100%|█████████████| 2/2 [00:00<00:00, 169.12it/s]\n",
      "Gaps to fill: 0it [00:00, ?it/s]\n",
      "Gaps to simplify: 0it [00:00, ?it/s]\n",
      "Gaps to fill: 0it [00:00, ?it/s]\n",
      "Gaps to simplify: 0it [00:00, ?it/s]\n",
      "Gaps to fill: 0it [00:00, ?it/s]\n",
      "Gaps to simplify: 0it [00:00, ?it/s]\n",
      "Gaps to fill: 0it [00:00, ?it/s]\n",
      "Gaps to simplify in region 63: 100%|█████████████| 4/4 [00:00<00:00, 146.65it/s]\n",
      "Gaps to fill: 0it [00:00, ?it/s]\n",
      "Gaps to simplify in region 64: 100%|█████████████| 5/5 [00:00<00:00, 118.29it/s]\n",
      "Gaps to fill: 0it [00:00, ?it/s]\n",
      "Gaps to simplify: 0it [00:00, ?it/s]\n",
      "Gaps to fill: 0it [00:00, ?it/s]\n",
      "Gaps to simplify: 0it [00:00, ?it/s]\n",
      "Gaps to fill: 0it [00:00, ?it/s]\n",
      "Gaps to simplify: 0it [00:00, ?it/s]\n",
      "Gaps to fill: 0it [00:00, ?it/s]\n",
      "Gaps to simplify: 0it [00:00, ?it/s]\n",
      "Gaps to fill: 0it [00:00, ?it/s]\n",
      "Gaps to simplify in region 69: 100%|██████████████| 1/1 [00:00<00:00, 88.87it/s]\n",
      "Gaps to fill: 0it [00:00, ?it/s]\n",
      "Gaps to simplify: 0it [00:00, ?it/s]\n",
      "Gaps to fill: 0it [00:00, ?it/s]\n",
      "Gaps to simplify: 0it [00:00, ?it/s]\n",
      "Gaps to fill: 0it [00:00, ?it/s]\n",
      "Gaps to simplify: 0it [00:00, ?it/s]\n",
      "Gaps to fill: 0it [00:00, ?it/s]\n",
      "Gaps to simplify: 0it [00:00, ?it/s]\n",
      "Gaps to fill: 0it [00:00, ?it/s]\n",
      "Gaps to simplify in region 74: 100%|█████████████| 3/3 [00:00<00:00, 107.70it/s]\n",
      "Gaps to fill: 0it [00:00, ?it/s]\n",
      "Gaps to simplify: 0it [00:00, ?it/s]\n",
      "Gaps to fill: 0it [00:00, ?it/s]\n",
      "Gaps to simplify in region 76: 100%|█████████████| 2/2 [00:00<00:00, 138.44it/s]\n",
      "Gaps to fill: 0it [00:00, ?it/s]\n",
      "Gaps to simplify: 0it [00:00, ?it/s]\n",
      "Gaps to fill: 0it [00:00, ?it/s]\n",
      "Gaps to simplify in region 78: 100%|█████████████| 2/2 [00:00<00:00, 172.38it/s]\n",
      "Gaps to fill: 0it [00:00, ?it/s]\n",
      "Gaps to simplify: 0it [00:00, ?it/s]\n",
      "Gaps to fill: 0it [00:00, ?it/s]\n",
      "Gaps to simplify in region 80: 100%|██████████████| 2/2 [00:00<00:00, 89.51it/s]\n",
      "Gaps to fill in region 80: 100%|██████████████████| 1/1 [00:00<00:00, 98.84it/s]\n",
      "Gaps to simplify: 0it [00:00, ?it/s]\n",
      "Gaps to fill: 0it [00:00, ?it/s]\n",
      "Gaps to simplify: 0it [00:00, ?it/s]\n",
      "Gaps to fill: 0it [00:00, ?it/s]\n",
      "Gaps to simplify: 0it [00:00, ?it/s]\n",
      "Gaps to fill: 0it [00:00, ?it/s]\n",
      "Gaps to simplify: 0it [00:00, ?it/s]\n",
      "Gaps to fill: 0it [00:00, ?it/s]\n",
      "Gaps to simplify in region 85: 100%|██████████████| 2/2 [00:00<00:00, 69.08it/s]\n",
      "Gaps to fill: 0it [00:00, ?it/s]\n",
      "Gaps to simplify: 0it [00:00, ?it/s]\n",
      "Gaps to fill: 0it [00:00, ?it/s]\n",
      "Gaps to simplify: 0it [00:00, ?it/s]\n",
      "Gaps to fill: 0it [00:00, ?it/s]\n",
      "Gaps to simplify: 0it [00:00, ?it/s]\n",
      "Gaps to fill: 0it [00:00, ?it/s]\n",
      "Gaps to simplify: 0it [00:00, ?it/s]\n",
      "Gaps to fill: 0it [00:00, ?it/s]\n",
      "Gaps to simplify: 0it [00:00, ?it/s]\n",
      "Gaps to fill: 0it [00:00, ?it/s]\n",
      "Gaps to simplify in region 91: 100%|█████████████| 3/3 [00:00<00:00, 100.42it/s]\n",
      "Gaps to fill: 0it [00:00, ?it/s]\n",
      "Gaps to simplify: 0it [00:00, ?it/s]\n",
      "Gaps to fill: 0it [00:00, ?it/s]\n",
      "Gaps to simplify: 0it [00:00, ?it/s]\n",
      "Gaps to fill: 0it [00:00, ?it/s]\n",
      "Gaps to simplify: 0it [00:00, ?it/s]\n",
      "Gaps to fill: 0it [00:00, ?it/s]\n",
      "Gaps to simplify: 0it [00:00, ?it/s]\n",
      "Gaps to fill: 0it [00:00, ?it/s]\n",
      "Gaps to simplify: 0it [00:00, ?it/s]\n",
      "Gaps to fill: 0it [00:00, ?it/s]\n",
      "Gaps to simplify: 0it [00:00, ?it/s]\n",
      "Gaps to fill: 0it [00:00, ?it/s]\n",
      "Gaps to simplify in region 98: 100%|██████████████| 4/4 [00:00<00:00, 72.52it/s]\n",
      "Gaps to fill in region 98: 100%|█████████████████| 3/3 [00:00<00:00, 101.78it/s]\n",
      "Gaps to simplify: 0it [00:00, ?it/s]\n",
      "Gaps to fill: 0it [00:00, ?it/s]\n",
      "Gaps to simplify: 0it [00:00, ?it/s]\n",
      "Gaps to fill: 0it [00:00, ?it/s]\n",
      "Gaps to simplify: 0it [00:00, ?it/s]\n",
      "Gaps to fill: 0it [00:00, ?it/s]\n",
      "Gaps to simplify: 0it [00:00, ?it/s]\n",
      "Gaps to fill: 0it [00:00, ?it/s]\n",
      "Gaps to simplify in region 103: 100%|████████████| 1/1 [00:00<00:00, 136.80it/s]\n",
      "Gaps to fill: 0it [00:00, ?it/s]\n",
      "Gaps to simplify: 0it [00:00, ?it/s]\n",
      "Gaps to fill: 0it [00:00, ?it/s]\n"
     ]
    }
   ],
   "source": [
    "vest_base = add_vest_base(vest_base_data, start_col, year, county = county_df)"
   ]
  },
  {
   "cell_type": "code",
   "execution_count": 34,
   "id": "8cfbe75e-6b5e-4e0b-bab9-3fea27e104bb",
   "metadata": {},
   "outputs": [
    {
     "name": "stdout",
     "output_type": "stream",
     "text": [
      "[0.0, 0.0, 0.0, 0.0, 0.0, 0.0, 0.0, 0.0, 0.0, 0.0, 0.0, 0.0, 0.0, 0.0, 0.0, 0.0, 0.0, 0.0, 0.0, 0.0, 0.0, 0.0, 0.0, 0.0, 0.0, 0.0, 0.0, 0.0, 0.0, 0.0, 0.0, 0.0, 0.0, 0.0, 0.0, 0.0, 0.0, 0.0, 0.0, 0.0, 0.0, 0.0, 0.0, 0.0, 0.0, 0.0, 0.0, 0.0, 0.0, 0.0, 0.0, 0.0, 0.0, 0.0, 0.0, 0.0, 0.0, 0.0, 0.0, 0.0, 0.0, 0.0, 0.0, 0.0, 0.0, 0.0, 0.0, 0.0, 0.0, 0.0, 0.0, 0.0, 0.0, 0.0, 0.0, 0.0, 0.0, 0.0, 0.0, 0.0, 0.0, 0.0, 0.0, 0.0, 0.0, 0.0, 0.0, 0.0, 0.0, 0.0, 0.0, 0.0, 0.0, 0.0, 0.0, 0.0, 0.0, 0.0, 7.118981180137513e-05, 7.118981180137513e-05, 0.009502732897204132, 0.009502732897204132, 0.021787872636208874, 0.021787872636208874, 0.026113691188039932, 0.026113691188039932, 0.027107322076849513, 0.027107322076849513, 0.054120966724385725, 0.054120966724385725, 0.11112645906196114, 0.11112645906196114, 0.11122682215466438, 0.11122682215466438, 0.11122682308492504, 0.11122682308492504, 0.207337943001739, 0.207337943001739, 0.2151517930469439, 0.2151517930469439, 0.22164886118583252, 0.22164886118583252, 0.22235375948225686, 0.22235375948225686, 0.23772876115877611, 0.23772876115877611, 0.2604168682568665, 0.2604168682568665, 0.36622498223722744, 0.36622498223722744, 0.5206738192567104, 0.5206738192567104, 0.5557903509041991, 0.5557903509041991, 0.5558482714664978, 0.5558482714664978, 0.6071992184083022, 0.6071992184083022, 0.6076662137208089, 0.6076662137208089, 0.6181752435074859, 0.6181752435074859, 0.6773863001178934, 0.6773863001178934, 0.6907172573843069, 0.6907172573843069, 0.7190813852377359, 0.7190813852377359, 0.72553283927224, 0.72553283927224, 0.7483968395613889, 0.7483968395613889, 0.7624146962076568, 0.7624146962076568, 0.7676815818838265, 0.7676815818838265, 0.7781924815143775, 0.7781924815143775, 0.8675797791437856, 0.8675797791437856, 0.9547915157884929, 0.9547915157884929, 1.1249380890961302, 1.1249380890961302, 1.128421328477522, 1.128421328477522, 1.264889668062125, 1.264889668062125, 1.3333376217954185, 1.3333376217954185, 1.5776568833177484, 1.5776568833177484, 1.6674248592984309, 1.6674248592984309, 1.6705546919789322, 1.6705546919789322, 1.8891750391525808, 1.8891750391525808, 1.8916910733563752, 1.8916910733563752, 1.900431041883324, 1.900431041883324, 1.9984140950853306, 1.9984140950853306, 2.2108714960222544, 2.2108714960222544, 2.29300205382819, 2.29300205382819, 2.330825025525076, 2.330825025525076, 2.446898563054588, 2.446898563054588, 2.4553962904389715, 2.4553962904389715, 2.4617962887400435, 2.4617962887400435, 2.9623903433826224, 2.9623903433826224, 3.13286258929822, 3.13286258929822, 3.219207642247016, 3.219207642247016, 3.400764801829911, 3.400764801829911, 3.43993748218497, 3.43993748218497, 4.507721761667336, 4.507721761667336, 4.88940581430411, 4.88940581430411, 5.415816974917117, 5.415816974917117, 5.640228299236821, 5.640228299236821, 5.837845021188849, 5.837845021188849, 6.074920407845332, 6.074920407845332, 6.1038939605733935, 6.1038939605733935, 6.524623617924489, 6.524623617924489, 6.725935437921819, 6.725935437921819, 7.54739231936638, 7.54739231936638, 7.552092045435876, 7.552092045435876, 7.990739463944663, 7.990739463944663, 7.991247639772253, 7.991247639772253, 8.234661849631518, 8.234661849631518, 8.776148642354343, 8.776148642354343, 9.060917507334427, 9.060917507334427, 9.122763191924372, 9.122763191924372, 9.142102959198095, 9.142102959198095, 9.221928626875627, 9.221928626875627, 9.225706042128287, 9.225706042128287, 9.698358564756086, 9.698358564756086, 9.724418483743992, 9.724418483743992, 9.860288829549443, 9.860288829549443, 9.955215051963568, 9.955215051963568, 9.975220807391057, 9.975220807391057, 9.98935264050282, 9.98935264050282, 10.133714902956259, 10.133714902956259, 10.447265524177322, 10.447265524177322, 10.448509016079653, 10.448509016079653, 10.453695415058547, 10.453695415058547, 10.505187437326704, 10.505187437326704, 10.742359682096026, 10.742359682096026, 10.78118782024288, 10.78118782024288, 10.961969871803964, 10.961969871803964, 10.989532538289962, 10.989532538289962, 11.274906471226192, 11.274906471226192, 11.455373048010335, 11.455373048010335, 12.034332907118609, 12.034332907118609, 12.267183260262236, 12.267183260262236, 12.323711349447777, 12.323711349447777, 12.383491339821118, 12.383491339821118, 12.473453097325244, 12.473453097325244, 12.49568433205675, 12.49568433205675, 12.634525285774039, 12.634525285774039, 13.00701905418718, 13.00701905418718, 13.50493790423159, 13.50493790423159, 13.528034797061354, 13.528034797061354, 13.603906947720597, 13.603906947720597, 13.976914454279202, 13.976914454279202, 13.997925384118275, 13.997925384118275, 14.061375209935179, 14.061375209935179, 14.437321241312453, 14.437321241312453, 14.538645076663956, 14.538645076663956, 15.000286664890469, 15.000286664890469, 15.025987351506046, 15.025987351506046, 15.091386890652345, 15.091386890652345, 15.092169455573568, 15.092169455573568, 15.306931523160621, 15.306931523160621, 15.832090469186523, 15.832090469186523, 15.892106233298954, 15.892106233298954, 16.092425110292993, 16.092425110292993, 16.339941027335133, 16.339941027335133, 16.889583375639315, 16.889583375639315, 17.197131761575132, 17.197131761575132, 17.225228321234894, 17.225228321234894, 17.778409508396983, 17.778409508396983, 17.785208729430558, 17.785208729430558, 17.871402893302733, 17.871402893302733, 17.985267955488354, 17.985267955488354, 18.043913693287184, 18.043913693287184, 18.125931143827522, 18.125931143827522, 18.143673073494874, 18.143673073494874, 18.21158850217083, 18.21158850217083, 18.250604906048025, 18.250604906048025, 18.311433668121794, 18.311433668121794, 18.348891757450566, 18.348891757450566, 18.39590261708243, 18.39590261708243, 18.580895069424354, 18.580895069424354, 18.980497720255116, 18.980497720255116, 18.99763696125445, 18.99763696125445, 19.022355450855763, 19.022355450855763, 19.205254164289677, 19.205254164289677, 19.246143718501198, 19.2461437185012, 19.78373506974544, 19.78373506974544, 20.147648346015472, 20.147648346015472, 20.34121181892316, 20.34121181892316, 20.552290439986333, 20.552290439986333, 20.557040508025402, 20.557040508025402, 21.10664786077473, 21.10664786077473, 21.27977664107515, 21.27977664107515, 21.385752110307997, 21.385752110307997, 21.479330628650278, 21.479330628650278, 21.982627945936713, 21.982627945936713, 22.492204617911188, 22.492204617911188, 22.53506859579128, 22.53506859579128, 22.54980166730016, 22.54980166730016, 22.64828303050394, 22.64828303050394, 22.675492503910615, 22.675492503910615, 22.714522947874787, 22.71452294787479, 22.749180917335924, 22.749180917335927, 22.75287499214029, 22.75287499214029, 22.864222785770785, 22.864222785770785, 22.881962955101358, 22.881962955101358, 22.96653921362939, 22.96653921362939, 23.084114178466034, 23.084114178466034, 23.549964472125346, 23.549964472125346, 23.871636850133587, 23.871636850133587, 24.072675566902607, 24.072675566902607, 24.8501877837929, 24.8501877837929, 24.892269887224735, 24.892269887224735, 25.05767900332775, 25.05767900332775, 25.371755943196465, 25.37175594319647, 25.550166765387583, 25.550166765387583, 25.583918494714545, 25.583918494714545, 25.944034174220953, 25.944034174220953, 26.020141613688065, 26.020141613688065, 26.744676720305428, 26.744676720305428, 26.8534799167263, 26.8534799167263, 26.941471134766374, 26.941471134766378, 27.15729539087118, 27.157295390871184, 27.237362587828642, 27.237362587828642, 27.51317258783507, 27.51317258783507, 27.953959036468365, 27.953959036468365, 28.608817391492195, 28.608817391492195, 29.04775448218833, 29.04775448218833, 29.11328526971923, 29.11328526971923, 29.48024576106119, 29.48024576106119, 30.35338385715781, 30.35338385715781, 30.522636906742285, 30.522636906742285, 30.76631650017605, 30.76631650017605, 31.12427399058667, 31.12427399058667, 31.71447897949738, 31.71447897949738, 32.2177974762273, 32.2177974762273, 32.435040394723956, 32.435040394723956, 32.527707602663995, 32.527707602663995, 32.582701748225034, 32.582701748225034, 32.67828617632884, 32.67828617632884, 32.80468917494758, 32.80468917494758, 32.82016731450818, 32.82016731450818, 33.0468174016991, 33.0468174016991, 33.07275327813331, 33.07275327813332, 33.10801703506578, 33.10801703506578, 33.40253019015252, 33.40253019015252, 33.47741711852103, 33.47741711852103, 33.57687461806296, 33.57687461806296, 33.72821704426902, 33.72821704426902, 33.897830494279944, 33.89783049427995, 33.9258925551955, 33.9258925551955, 34.30875597882162, 34.30875597882162, 34.52671741477919, 34.52671741477919, 34.68761705137766, 34.68761705137766, 35.02721184466952, 35.02721184466952, 35.172771564844965, 35.172771564844965, 35.72224387845257, 35.72224387845257, 36.17527978121605, 36.17527978121605, 36.22462001099698, 36.22462001099698, 36.63768294207855, 36.63768294207855, 36.90904095603099, 36.90904095603099, 36.94845449223715, 36.94845449223715, 37.07568522503563, 37.07568522503563, 37.60159263862103, 37.60159263862103, 37.65953776431108, 37.65953776431108, 37.86158296597569, 37.8615829659757, 38.184789685182, 38.184789685182, 38.307966462375305, 38.307966462375305, 38.65353671531963, 38.65353671531964, 39.66830196443585, 39.66830196443585, 40.01042869468237, 40.01042869468237, 41.745333955986844, 41.74533395598685, 42.119032096358815, 42.119032096358815, 42.39779591267619, 42.39779591267619, 42.702950342259406, 42.702950342259406, 43.20167161390843, 43.20167161390843, 43.61982872225746, 43.61982872225746, 43.71791456305178, 43.71791456305178, 43.76452943508819, 43.76452943508819, 44.00276835454319, 44.00276835454319, 44.51571572339958, 44.51571572339958, 45.23338752248773, 45.23338752248773, 45.32400778492673, 45.32400778492673, 45.34055042814377, 45.34055042814377, 45.45651681943412, 45.45651681943412, 45.75955442541763, 45.75955442541763, 45.80037769894219, 45.8003776989422, 46.020669830595665, 46.020669830595665, 46.06704239059815, 46.067042390598154, 46.3314718811613, 46.3314718811613, 46.69013336286092, 46.69013336286092, 47.09717376130569, 47.09717376130569, 47.16843737348841, 47.16843737348841, 47.25972038806247, 47.25972038806247, 47.71877081278143, 47.71877081278143, 48.13579188502745, 48.13579188502745, 48.41000828387933, 48.41000828387933, 48.567935755739775, 48.56793575573978, 48.750391535720844, 48.75039153572085, 49.044213152256106, 49.044213152256106, 49.32739551771523, 49.32739551771523, 49.33017323365366, 49.33017323365367, 49.35454398216001, 49.35454398216001, 49.503665450767784, 49.50366545076779, 49.99225923257628, 49.99225923257628, 50.25337735162843, 50.25337735162844, 50.49857268158165, 50.49857268158165, 50.6381748653575, 50.6381748653575, 50.63861856610034, 50.63861856610034, 50.907013833912934, 50.907013833912934, 50.98406280832897, 50.98406280832897, 51.24949720351562, 51.24949720351562, 51.76202162245993, 51.76202162245993, 51.8162157484442, 51.81621574844421, 51.83258784464904, 51.83258784464904, 51.895053198494054, 51.895053198494054, 51.967488542008816, 51.96748854200882, 52.593872173306195, 52.593872173306195, 52.620966288879444, 52.620966288879444, 53.19450154184966, 53.194501541849675, 53.31073585909716, 53.31073585909716, 53.39210630900338, 53.39210630900339, 54.014793557981875, 54.014793557981875, 54.632349400113426, 54.632349400113426, 54.82783172274426, 54.82783172274426, 54.934794970344974, 54.934794970344974, 55.36707805226663, 55.36707805226663, 56.23718680196025, 56.23718680196025, 56.50518586535866, 56.50518586535866, 56.58733721443543, 56.587337214435436, 56.60978284521262, 56.60978284521262, 57.552905970967245, 57.552905970967245, 57.75250553741781, 57.75250553741781, 57.873874826103474, 57.873874826103474, 58.62656889241579, 58.62656889241579, 58.6658784579287, 58.665878457928706, 58.83097134024993, 58.83097134024993, 58.97248148102542, 58.97248148102542, 60.02666031448351, 60.02666031448351, 60.239018615776935, 60.23901861577694, 61.21952296696794, 61.21952296696794, 61.37899649320886, 61.37899649320886, 61.9602612510241, 61.9602612510241, 62.06967456859394, 62.06967456859394, 62.23948141202623, 62.23948141202623, 62.29098879490023, 62.29098879490023, 62.511089241865015, 62.511089241865015, 62.81879284068408, 62.81879284068408, 63.61660250707285, 63.61660250707285, 63.63701772363089, 63.63701772363089, 63.893450274103614, 63.893450274103614, 64.1417507219538, 64.1417507219538, 64.22771063530222, 64.22771063530222, 64.27468520296424, 64.27468520296424, 64.59157469958615, 64.59157469958615, 65.23151261237219, 65.23151261237219, 65.25429451831968, 65.25429451831968, 65.77438669453714, 65.77438669453714, 65.85545834682729, 65.85545834682729, 66.51649888600711, 66.51649888600711, 67.27358497542536, 67.27358497542536, 67.37705951857316, 67.37705951857318, 67.39171926655325, 67.39171926655325, 67.62536405176212, 67.62536405176212, 67.76115652847004, 67.76115652847004, 67.90247061881897, 67.90247061881897, 67.91531750791364, 67.91531750791364, 68.7299388345639, 68.7299388345639, 68.81620288580827, 68.81620288580827, 68.84341267914502, 68.84341267914502, 69.28748912260795, 69.28748912260795, 69.79361688265831, 69.79361688265831, 69.79761707816174, 69.79761707816174, 70.26419291363624, 70.26419291363624, 70.56036136382713, 70.56036136382714, 71.04031586347324, 71.04031586347324, 71.30059156019294, 71.30059156019296, 71.49998461123789, 71.49998461123789, 72.11375937072239, 72.11375937072239, 72.1552068605792, 72.1552068605792, 72.5151150161041, 72.5151150161041, 72.51803890119233, 72.51803890119233, 73.0518779079308, 73.0518779079308, 73.18891892870279, 73.18891892870279, 73.76818888998348, 73.76818888998348, 74.20985517616491, 74.20985517616492, 74.38989958271615, 74.38989958271615, 74.40067316597178, 74.40067316597178, 74.57756136397367, 74.57756136397367, 74.75661324039696, 74.75661324039697, 74.87670080055578, 74.87670080055578, 74.94993891337143, 74.94993891337143, 75.22514314650094, 75.22514314650094, 75.54211937382298, 75.54211937382298, 76.19271112431248, 76.19271112431248, 76.27018033526414, 76.27018033526414, 76.67782081203141, 76.67782081203143, 76.69219561752213, 76.69219561752213, 77.69448321120285, 77.69448321120285, 77.86274183734342, 77.86274183734342, 77.87109704650577, 77.87109704650577, 78.2507931671574, 78.2507931671574, 78.70216972058208, 78.70216972058208, 79.00731573920832, 79.00731573920834, 79.05466432783953, 79.05466432783953, 80.07204759519107, 80.07204759519107, 80.42026999646642, 80.42026999646642, 81.19885130195003, 81.19885130195003, 81.26266761676429, 81.26266761676429, 81.52317834693332, 81.52317834693332, 81.72436676147119, 81.7243667614712, 81.87959805102498, 81.87959805102498, 82.76503228429152, 82.76503228429154, 82.9386745060061, 82.9386745060061, 82.9538670745246, 82.9538670745246, 82.95511287169907, 82.95511287169907, 83.50403927348411, 83.50403927348411, 83.92351930365102, 83.92351930365102, 84.6232263396376, 84.6232263396376, 84.86927725548632, 84.86927725548632, 85.1954652245335, 85.1954652245335, 85.76327017296725, 85.76327017296725, 87.09523358090397, 87.09523358090397, 87.20227252632742, 87.20227252632742, 87.28646388075683, 87.28646388075683, 88.06333063754762, 88.06333063754762, 88.52363017253096, 88.52363017253096, 88.65978007494921, 88.65978007494923, 89.20548919855032, 89.20548919855032, 90.33144594603866, 90.33144594603866, 90.39343035030896, 90.39343035030896, 91.19622931694504, 91.19622931694504, 91.29911958624645, 91.29911958624645, 91.37344359868747, 91.37344359868749, 91.43464798973335, 91.43464798973335, 91.53474063496171, 91.53474063496171, 91.89361815297477, 91.89361815297477, 92.427303917578, 92.42730391757802, 93.32570856284973, 93.32570856284973, 93.7658698495492, 93.76586984954922, 95.32783036532032, 95.32783036532034, 95.6006561590761, 95.60065615907611, 95.65235965385862, 95.65235965385864, 95.72954216521039, 95.72954216521039, 96.54422498441522, 96.54422498441524, 96.92054021680738, 96.92054021680738, 97.12360170269308, 97.12360170269308, 97.52485409039014, 97.52485409039016, 97.95300344382818, 97.95300344382818, 98.45138091539145, 98.45138091539147, 98.84905292753245, 98.84905292753245, 99.3608589060406, 99.3608589060406, 99.62581340708317, 99.62581340708319, 99.63406610505822, 99.63406610505822, 99.68166384372165, 99.68166384372165, 99.90984999382918, 99.90984999382918, 100.46660623019568, 100.46660623019568, 100.52931067388828, 100.52931067388829, 100.72220295160601, 100.72220295160601, 100.78100104292535, 100.78100104292535, 100.81911137058746, 100.81911137058746, 101.10668330489054, 101.10668330489054, 101.15014962345535, 101.15014962345535, 101.24641153143307, 101.24641153143308, 101.32765170508014, 101.32765170508014, 101.58159062137759, 101.58159062137759, 101.83024135400997, 101.83024135400997, 102.14474461243988, 102.14474461243988, 102.15175061194049, 102.15175061194049, 102.25638468847707, 102.25638468847707, 102.36473595421349, 102.36473595421349, 102.46483389272493, 102.46483389272493, 102.59144876370624, 102.59144876370625, 102.94578801591113, 102.94578801591113, 103.39274489392409, 103.39274489392409, 103.47345284615764, 103.47345284615764, 103.53877158862521, 103.53877158862521, 103.70761717357641, 103.70761717357641, 104.59741773047375, 104.59741773047375, 105.02316891302769, 105.0231689130277, 105.92535442924144, 105.92535442924145, 106.49350230669198, 106.49350230669198, 106.8739877193934, 106.8739877193934, 106.94016981272257, 106.94016981272259, 107.11257677054381, 107.11257677054381, 107.16494572340599, 107.16494572340599, 107.30874421451831, 107.30874421451831, 107.44518018683198, 107.44518018683198, 108.13740677504336, 108.13740677504336, 108.31806435337656, 108.31806435337656, 108.91561043471876, 108.91561043471876, 109.82327852524551, 109.82327852524551, 110.48147400586024, 110.48147400586024, 110.77515981967066, 110.7751598196707, 110.79063326221178, 110.79063326221178, 110.8363193963167, 110.8363193963167, 110.84847613436247, 110.84847613436247, 110.87798534596467, 110.87798534596467, 110.94926176420412, 110.94926176420414, 111.08324880449342, 111.08324880449344]\n"
     ]
    }
   ],
   "source": [
    "borders = check_small_boundary_lengths(vest_base)\n",
    "print(borders[3500:4500])"
   ]
  },
  {
   "cell_type": "code",
   "execution_count": 35,
   "id": "c3c3d0bc-819f-485e-9d06-6c8866371833",
   "metadata": {},
   "outputs": [
    {
     "name": "stdout",
     "output_type": "stream",
     "text": [
      "Snapping all geometries to a grid with precision 10^( -5 ) to avoid GEOS errors.\n",
      "Identifying overlaps...\n"
     ]
    },
    {
     "name": "stderr",
     "output_type": "stream",
     "text": [
      "100%|█████████████████████████████████████| 4141/4141 [00:00<00:00, 5220.95it/s]\n"
     ]
    },
    {
     "name": "stdout",
     "output_type": "stream",
     "text": [
      "Resolving overlaps...\n",
      "Filling gaps...\n"
     ]
    },
    {
     "name": "stderr",
     "output_type": "stream",
     "text": [
      "Gaps to simplify: 0it [00:00, ?it/s]\n",
      "Gaps to fill: 0it [00:00, ?it/s]\n"
     ]
    },
    {
     "name": "stdout",
     "output_type": "stream",
     "text": [
      "Converting small rook adjacencies to queen...\n"
     ]
    },
    {
     "name": "stderr",
     "output_type": "stream",
     "text": [
      "100%|█████████████████████████████████████| 4062/4062 [00:02<00:00, 1867.45it/s]\n",
      "100%|███████████████████████████████████████████| 4/4 [00:00<00:00, 2991.66it/s]\n",
      "100%|███████████████████████████████████████████| 3/3 [00:00<00:00, 2846.81it/s]\n",
      "100%|███████████████████████████████████████████| 4/4 [00:00<00:00, 1954.25it/s]\n",
      "100%|████████████████████████████████████████████| 4/4 [00:00<00:00, 986.95it/s]\n",
      "100%|███████████████████████████████████████████| 4/4 [00:00<00:00, 2340.57it/s]\n",
      "100%|███████████████████████████████████████████| 4/4 [00:00<00:00, 1473.75it/s]\n",
      "100%|███████████████████████████████████████████| 4/4 [00:00<00:00, 2217.16it/s]\n",
      "100%|███████████████████████████████████████████| 4/4 [00:00<00:00, 2229.53it/s]\n",
      "100%|███████████████████████████████████████████| 4/4 [00:00<00:00, 2447.80it/s]\n",
      "100%|███████████████████████████████████████████| 4/4 [00:00<00:00, 2498.84it/s]\n",
      "100%|███████████████████████████████████████████| 5/5 [00:00<00:00, 2626.36it/s]\n",
      "100%|███████████████████████████████████████████| 7/7 [00:00<00:00, 2815.78it/s]\n",
      "100%|███████████████████████████████████████████| 4/4 [00:00<00:00, 2443.52it/s]\n",
      "100%|███████████████████████████████████████████| 4/4 [00:00<00:00, 2624.72it/s]\n",
      "100%|███████████████████████████████████████████| 4/4 [00:00<00:00, 2680.92it/s]\n",
      "100%|███████████████████████████████████████████| 4/4 [00:00<00:00, 2575.56it/s]\n",
      "100%|███████████████████████████████████████████| 3/3 [00:00<00:00, 2191.00it/s]\n",
      "100%|███████████████████████████████████████████| 5/5 [00:00<00:00, 2713.00it/s]\n",
      "100%|███████████████████████████████████████████| 6/6 [00:00<00:00, 3114.97it/s]\n",
      "100%|███████████████████████████████████████████| 6/6 [00:00<00:00, 3003.08it/s]\n",
      "100%|███████████████████████████████████████████| 4/4 [00:00<00:00, 2920.32it/s]\n",
      "100%|███████████████████████████████████████████| 4/4 [00:00<00:00, 2677.50it/s]\n",
      "100%|███████████████████████████████████████████| 6/6 [00:00<00:00, 3529.07it/s]\n",
      "100%|███████████████████████████████████████████| 4/4 [00:00<00:00, 3239.47it/s]\n",
      "100%|███████████████████████████████████████████| 3/3 [00:00<00:00, 2238.95it/s]\n",
      "100%|███████████████████████████████████████████| 3/3 [00:00<00:00, 2912.04it/s]\n",
      "100%|███████████████████████████████████████████| 4/4 [00:00<00:00, 2556.33it/s]\n",
      "100%|███████████████████████████████████████████| 4/4 [00:00<00:00, 2709.94it/s]\n",
      "100%|███████████████████████████████████████████| 4/4 [00:00<00:00, 3279.36it/s]\n",
      "100%|███████████████████████████████████████████| 4/4 [00:00<00:00, 3267.86it/s]\n",
      "100%|███████████████████████████████████████████| 4/4 [00:00<00:00, 2521.75it/s]\n",
      "100%|███████████████████████████████████████████| 4/4 [00:00<00:00, 2771.72it/s]\n",
      "100%|███████████████████████████████████████████| 3/3 [00:00<00:00, 2364.32it/s]\n",
      "100%|███████████████████████████████████████████| 4/4 [00:00<00:00, 3030.02it/s]\n",
      "100%|███████████████████████████████████████████| 4/4 [00:00<00:00, 3055.96it/s]\n",
      "100%|███████████████████████████████████████████| 4/4 [00:00<00:00, 3064.89it/s]\n",
      "100%|███████████████████████████████████████████| 4/4 [00:00<00:00, 2904.64it/s]\n",
      "100%|███████████████████████████████████████████| 5/5 [00:00<00:00, 3443.03it/s]\n",
      "100%|███████████████████████████████████████████| 5/5 [00:00<00:00, 3109.66it/s]\n",
      "100%|█████████████████████████████████████████| 10/10 [00:00<00:00, 3900.23it/s]\n",
      "100%|███████████████████████████████████████████| 4/4 [00:00<00:00, 3303.90it/s]\n",
      "100%|███████████████████████████████████████████| 4/4 [00:00<00:00, 2067.43it/s]\n",
      "100%|███████████████████████████████████████████| 7/7 [00:00<00:00, 3419.54it/s]\n",
      "100%|███████████████████████████████████████████| 4/4 [00:00<00:00, 3137.10it/s]\n",
      "100%|███████████████████████████████████████████| 3/3 [00:00<00:00, 2521.12it/s]\n",
      "100%|███████████████████████████████████████████| 4/4 [00:00<00:00, 3027.29it/s]\n",
      "100%|███████████████████████████████████████████| 4/4 [00:00<00:00, 3053.73it/s]\n",
      "100%|███████████████████████████████████████████| 4/4 [00:00<00:00, 2986.86it/s]\n",
      "100%|███████████████████████████████████████████| 4/4 [00:00<00:00, 3093.14it/s]\n",
      "100%|███████████████████████████████████████████| 4/4 [00:00<00:00, 2859.10it/s]\n",
      "100%|███████████████████████████████████████████| 4/4 [00:00<00:00, 2631.72it/s]\n",
      "100%|███████████████████████████████████████████| 5/5 [00:00<00:00, 3285.01it/s]\n",
      "100%|███████████████████████████████████████████| 5/5 [00:00<00:00, 3573.88it/s]\n",
      "100%|███████████████████████████████████████████| 6/6 [00:00<00:00, 3158.36it/s]\n",
      "100%|███████████████████████████████████████████| 4/4 [00:00<00:00, 3158.96it/s]\n",
      "100%|███████████████████████████████████████████| 5/5 [00:00<00:00, 2902.23it/s]\n",
      "100%|███████████████████████████████████████████| 4/4 [00:00<00:00, 2871.34it/s]\n",
      "100%|███████████████████████████████████████████| 4/4 [00:00<00:00, 2816.86it/s]\n",
      "100%|███████████████████████████████████████████| 4/4 [00:00<00:00, 2638.34it/s]\n",
      "100%|███████████████████████████████████████████| 5/5 [00:00<00:00, 2989.10it/s]\n",
      "100%|███████████████████████████████████████████| 4/4 [00:00<00:00, 2952.18it/s]\n",
      "100%|███████████████████████████████████████████| 4/4 [00:00<00:00, 3387.28it/s]\n",
      "100%|███████████████████████████████████████████| 6/6 [00:00<00:00, 3391.16it/s]\n",
      "100%|███████████████████████████████████████████| 4/4 [00:00<00:00, 3039.35it/s]\n",
      "100%|███████████████████████████████████████████| 5/5 [00:00<00:00, 3300.52it/s]\n",
      "100%|███████████████████████████████████████████| 4/4 [00:00<00:00, 2841.19it/s]\n",
      "100%|███████████████████████████████████████████| 4/4 [00:00<00:00, 3030.02it/s]\n",
      "100%|███████████████████████████████████████████| 4/4 [00:00<00:00, 2814.97it/s]\n",
      "100%|███████████████████████████████████████████| 4/4 [00:00<00:00, 3442.19it/s]\n",
      "100%|███████████████████████████████████████████| 5/5 [00:00<00:00, 2717.22it/s]\n",
      "100%|███████████████████████████████████████████| 7/7 [00:00<00:00, 3288.18it/s]\n",
      "100%|███████████████████████████████████████████| 4/4 [00:00<00:00, 3262.78it/s]\n",
      "100%|███████████████████████████████████████████| 5/5 [00:00<00:00, 3516.94it/s]\n",
      "100%|███████████████████████████████████████████| 5/5 [00:00<00:00, 3373.80it/s]\n",
      "100%|███████████████████████████████████████████| 4/4 [00:00<00:00, 3154.20it/s]\n",
      "100%|███████████████████████████████████████████| 4/4 [00:00<00:00, 3207.88it/s]\n",
      "100%|███████████████████████████████████████████| 4/4 [00:00<00:00, 3278.08it/s]\n",
      "100%|███████████████████████████████████████████| 4/4 [00:00<00:00, 3287.07it/s]\n",
      "100%|███████████████████████████████████████████| 5/5 [00:00<00:00, 3494.09it/s]\n",
      "100%|███████████████████████████████████████████| 4/4 [00:00<00:00, 3284.50it/s]\n",
      "100%|███████████████████████████████████████████| 3/3 [00:00<00:00, 2921.50it/s]\n",
      "100%|███████████████████████████████████████████| 4/4 [00:00<00:00, 3283.86it/s]\n",
      "100%|███████████████████████████████████████████| 4/4 [00:00<00:00, 3292.23it/s]\n",
      "100%|███████████████████████████████████████████| 4/4 [00:00<00:00, 3176.90it/s]\n",
      "100%|███████████████████████████████████████████| 3/3 [00:00<00:00, 2898.62it/s]\n",
      "100%|███████████████████████████████████████████| 5/5 [00:00<00:00, 3469.81it/s]\n",
      "100%|███████████████████████████████████████████| 5/5 [00:00<00:00, 3380.32it/s]\n",
      "100%|███████████████████████████████████████████| 4/4 [00:00<00:00, 3144.16it/s]\n",
      "100%|███████████████████████████████████████████| 4/4 [00:00<00:00, 2995.93it/s]\n",
      "100%|███████████████████████████████████████████| 3/3 [00:00<00:00, 2599.78it/s]\n",
      "100%|███████████████████████████████████████████| 4/4 [00:00<00:00, 3030.57it/s]\n",
      "100%|███████████████████████████████████████████| 4/4 [00:00<00:00, 2910.69it/s]\n",
      "100%|███████████████████████████████████████████| 4/4 [00:00<00:00, 3318.93it/s]\n",
      "100%|███████████████████████████████████████████| 7/7 [00:00<00:00, 3854.55it/s]\n",
      "100%|███████████████████████████████████████████| 6/6 [00:00<00:00, 3896.24it/s]\n",
      "100%|███████████████████████████████████████████| 5/5 [00:00<00:00, 3310.94it/s]\n",
      "100%|███████████████████████████████████████████| 4/4 [00:00<00:00, 3081.78it/s]\n",
      "100%|███████████████████████████████████████████| 6/6 [00:00<00:00, 3584.36it/s]\n",
      "100%|███████████████████████████████████████████| 5/5 [00:00<00:00, 3339.95it/s]\n",
      "100%|███████████████████████████████████████████| 5/5 [00:00<00:00, 3149.82it/s]\n",
      "100%|███████████████████████████████████████████| 4/4 [00:00<00:00, 3005.59it/s]\n",
      "100%|███████████████████████████████████████████| 4/4 [00:00<00:00, 3113.23it/s]\n",
      "100%|███████████████████████████████████████████| 4/4 [00:00<00:00, 3127.74it/s]\n",
      "100%|███████████████████████████████████████████| 4/4 [00:00<00:00, 3114.97it/s]\n",
      "100%|███████████████████████████████████████████| 4/4 [00:00<00:00, 3238.84it/s]\n",
      "100%|███████████████████████████████████████████| 3/3 [00:00<00:00, 2958.60it/s]\n",
      "100%|███████████████████████████████████████████| 4/4 [00:00<00:00, 3161.93it/s]\n",
      "100%|███████████████████████████████████████████| 5/5 [00:00<00:00, 3533.53it/s]\n",
      "100%|███████████████████████████████████████████| 4/4 [00:00<00:00, 3060.42it/s]\n",
      "100%|███████████████████████████████████████████| 4/4 [00:00<00:00, 3147.10it/s]\n",
      "100%|███████████████████████████████████████████| 3/3 [00:00<00:00, 2907.33it/s]\n",
      "100%|███████████████████████████████████████████| 4/4 [00:00<00:00, 3212.80it/s]\n",
      "100%|███████████████████████████████████████████| 4/4 [00:00<00:00, 3279.36it/s]\n",
      "100%|███████████████████████████████████████████| 4/4 [00:00<00:00, 2719.60it/s]\n",
      "100%|███████████████████████████████████████████| 4/4 [00:00<00:00, 2947.51it/s]\n",
      "100%|███████████████████████████████████████████| 4/4 [00:00<00:00, 3189.58it/s]\n",
      "100%|███████████████████████████████████████████| 5/5 [00:00<00:00, 3474.41it/s]\n",
      "100%|███████████████████████████████████████████| 4/4 [00:00<00:00, 3324.85it/s]\n",
      "100%|███████████████████████████████████████████| 4/4 [00:00<00:00, 3352.76it/s]\n",
      "100%|███████████████████████████████████████████| 4/4 [00:00<00:00, 3239.47it/s]\n",
      "100%|███████████████████████████████████████████| 5/5 [00:00<00:00, 3200.78it/s]\n",
      "100%|███████████████████████████████████████████| 5/5 [00:00<00:00, 3076.81it/s]\n",
      "100%|███████████████████████████████████████████| 5/5 [00:00<00:00, 2829.40it/s]\n",
      "100%|███████████████████████████████████████████| 6/6 [00:00<00:00, 3433.73it/s]\n",
      "100%|███████████████████████████████████████████| 3/3 [00:00<00:00, 2929.67it/s]\n",
      "100%|███████████████████████████████████████████| 4/4 [00:00<00:00, 3127.74it/s]\n",
      "100%|███████████████████████████████████████████| 4/4 [00:00<00:00, 3366.89it/s]\n",
      "100%|███████████████████████████████████████████| 4/4 [00:00<00:00, 3083.48it/s]\n",
      "100%|███████████████████████████████████████████| 4/4 [00:00<00:00, 3230.74it/s]\n",
      "100%|███████████████████████████████████████████| 5/5 [00:00<00:00, 3586.71it/s]\n",
      "100%|███████████████████████████████████████████| 4/4 [00:00<00:00, 3069.38it/s]\n",
      "100%|███████████████████████████████████████████| 5/5 [00:00<00:00, 3168.86it/s]\n",
      "100%|███████████████████████████████████████████| 4/4 [00:00<00:00, 3213.41it/s]\n",
      "100%|███████████████████████████████████████████| 5/5 [00:00<00:00, 3004.95it/s]\n",
      "100%|███████████████████████████████████████████| 4/4 [00:00<00:00, 3313.69it/s]\n",
      "100%|███████████████████████████████████████████| 4/4 [00:00<00:00, 3308.46it/s]\n",
      "100%|███████████████████████████████████████████| 4/4 [00:00<00:00, 3030.02it/s]\n",
      "100%|███████████████████████████████████████████| 4/4 [00:00<00:00, 2937.19it/s]\n",
      "100%|███████████████████████████████████████████| 4/4 [00:00<00:00, 3025.65it/s]\n",
      "100%|███████████████████████████████████████████| 4/4 [00:00<00:00, 2867.41it/s]\n",
      "100%|███████████████████████████████████████████| 5/5 [00:00<00:00, 2768.52it/s]\n",
      "100%|███████████████████████████████████████████| 4/4 [00:00<00:00, 3162.53it/s]\n",
      "100%|███████████████████████████████████████████| 4/4 [00:00<00:00, 2898.12it/s]\n",
      "100%|███████████████████████████████████████████| 4/4 [00:00<00:00, 2881.69it/s]\n",
      "100%|███████████████████████████████████████████| 4/4 [00:00<00:00, 3423.92it/s]\n",
      "100%|███████████████████████████████████████████| 4/4 [00:00<00:00, 3093.71it/s]\n",
      "100%|███████████████████████████████████████████| 4/4 [00:00<00:00, 2791.09it/s]\n",
      "100%|███████████████████████████████████████████| 5/5 [00:00<00:00, 2870.45it/s]\n",
      "100%|███████████████████████████████████████████| 4/4 [00:00<00:00, 2695.14it/s]\n",
      "100%|███████████████████████████████████████████| 5/5 [00:00<00:00, 3355.44it/s]\n",
      "100%|███████████████████████████████████████████| 4/4 [00:00<00:00, 3212.18it/s]\n",
      "100%|███████████████████████████████████████████| 4/4 [00:00<00:00, 3187.16it/s]\n",
      "100%|███████████████████████████████████████████| 4/4 [00:00<00:00, 3014.77it/s]\n",
      "100%|███████████████████████████████████████████| 4/4 [00:00<00:00, 3016.40it/s]\n",
      "100%|███████████████████████████████████████████| 4/4 [00:00<00:00, 3485.09it/s]\n",
      "100%|███████████████████████████████████████████| 4/4 [00:00<00:00, 3196.88it/s]\n",
      "100%|███████████████████████████████████████████| 4/4 [00:00<00:00, 2934.62it/s]\n",
      "100%|███████████████████████████████████████████| 5/5 [00:00<00:00, 2201.73it/s]\n",
      "100%|███████████████████████████████████████████| 4/4 [00:00<00:00, 2158.40it/s]\n",
      "100%|███████████████████████████████████████████| 4/4 [00:00<00:00, 1461.05it/s]\n",
      "100%|███████████████████████████████████████████| 4/4 [00:00<00:00, 2715.64it/s]\n",
      "100%|███████████████████████████████████████████| 4/4 [00:00<00:00, 2000.86it/s]\n",
      "100%|███████████████████████████████████████████| 4/4 [00:00<00:00, 2270.26it/s]\n",
      "100%|███████████████████████████████████████████| 4/4 [00:00<00:00, 2714.32it/s]\n",
      "100%|███████████████████████████████████████████| 4/4 [00:00<00:00, 2706.44it/s]\n",
      "100%|███████████████████████████████████████████| 4/4 [00:00<00:00, 2653.78it/s]\n",
      "100%|███████████████████████████████████████████| 4/4 [00:00<00:00, 2428.66it/s]\n",
      "100%|███████████████████████████████████████████| 4/4 [00:00<00:00, 2888.14it/s]\n",
      "100%|███████████████████████████████████████████| 4/4 [00:00<00:00, 2882.19it/s]\n",
      "100%|███████████████████████████████████████████| 4/4 [00:00<00:00, 2956.34it/s]\n",
      "100%|███████████████████████████████████████████| 4/4 [00:00<00:00, 2484.41it/s]\n",
      "100%|█████████████████████████████████████| 4062/4062 [00:01<00:00, 2042.08it/s]\n"
     ]
    }
   ],
   "source": [
    "vest_base = do_smart_repair(vest_base, min_rook_length = 30)"
   ]
  },
  {
   "cell_type": "code",
   "execution_count": 36,
   "id": "03cb6027-1b3a-415c-ab27-14241a27baf9",
   "metadata": {},
   "outputs": [
    {
     "name": "stderr",
     "output_type": "stream",
     "text": [
      "100%|█████████████████████████████████████| 4062/4062 [00:02<00:00, 2026.80it/s]\n"
     ]
    },
    {
     "data": {
      "text/plain": [
       "True"
      ]
     },
     "execution_count": 36,
     "metadata": {},
     "output_type": "execute_result"
    }
   ],
   "source": [
    "maup.doctor(vest_base)"
   ]
  },
  {
   "cell_type": "code",
   "execution_count": 37,
   "id": "10e48467-d392-4312-b15f-bf18106f354c",
   "metadata": {},
   "outputs": [
    {
     "name": "stderr",
     "output_type": "stream",
     "text": [
      "100%|█████████████████████████████████████| 4062/4062 [00:02<00:00, 1540.14it/s]\n",
      "100%|██████████████████████████████████████| 4062/4062 [00:08<00:00, 463.20it/s]\n"
     ]
    }
   ],
   "source": [
    "# vap and population have the same GEOID20\n",
    "blocks_to_precincts_assignment = maup.assign(population_df.geometry, vest_base.geometry)"
   ]
  },
  {
   "cell_type": "code",
   "execution_count": 38,
   "id": "ac015a92-391c-48c4-b26a-5c511b58e3ab",
   "metadata": {},
   "outputs": [],
   "source": [
    "pop_col = ['TOTPOP', 'HISP', 'NH_WHITE', 'NH_BLACK', 'NH_AMIN', 'NH_ASIAN', 'NH_NHPI', 'NH_OTHER', 'NH_2MORE', 'H_WHITE', 'H_BLACK', 'H_AMIN', 'H_ASIAN', 'H_NHPI', 'H_OTHER', 'H_2MORE', 'VAP', 'HVAP', 'WVAP', 'BVAP', 'AMINVAP', 'ASIANVAP', 'NHPIVAP', 'OTHERVAP', '2MOREVAP']"
   ]
  },
  {
   "cell_type": "code",
   "execution_count": 39,
   "id": "f91b6866-727d-40c9-9d43-4a0e6ae8c0e2",
   "metadata": {},
   "outputs": [],
   "source": [
    "vest_base[pop_col] = population_df[pop_col].groupby(blocks_to_precincts_assignment).sum()"
   ]
  },
  {
   "cell_type": "code",
   "execution_count": 40,
   "id": "ead5880d-f5f1-44f0-8024-ff4789ff2f15",
   "metadata": {},
   "outputs": [],
   "source": [
    "election_df = gpd.GeoDataFrame(vest_base)"
   ]
  },
  {
   "cell_type": "markdown",
   "id": "cf1aefdb-30e0-4d1f-9261-01a513f4e1d3",
   "metadata": {},
   "source": [
    "### Check if the population agrees"
   ]
  },
  {
   "cell_type": "code",
   "execution_count": 42,
   "id": "d6ff200d-d1d6-4f7d-ba3b-142cddc0eb85",
   "metadata": {},
   "outputs": [
    {
     "name": "stdout",
     "output_type": "stream",
     "text": [
      "population agrees\n"
     ]
    }
   ],
   "source": [
    "check_population(population_df, vest_base)"
   ]
  },
  {
   "cell_type": "markdown",
   "id": "2b677d1a-cbe3-47aa-ae8a-761d0dfc7ad1",
   "metadata": {},
   "source": [
    "# Add more vest data"
   ]
  },
  {
   "cell_type": "code",
   "execution_count": 44,
   "id": "a404637a-46a1-41f4-bd81-6842a9a7274c",
   "metadata": {},
   "outputs": [],
   "source": [
    "vest18 = gpd.read_file(vest18_data)"
   ]
  },
  {
   "cell_type": "code",
   "execution_count": 45,
   "id": "d94c3765-b784-4e9b-9b29-0c8a3bbdbf0d",
   "metadata": {},
   "outputs": [
    {
     "data": {
      "text/plain": [
       "Index(['COUNTYFP', 'VTDST', 'NAMELSAD', 'G18GOVDKEL', 'G18GOVRKOB',\n",
       "       'G18GOVIORM', 'G18GOVLCAL', 'G18GOVIKLO', 'G18SOSRSCH', 'G18SOSDMCC',\n",
       "       'G18SOSLHOD', 'G18ATGRSCH', 'G18ATGDSWA', 'G18INSDMCL', 'G18INSRSCH',\n",
       "       'G18TRERLAT', 'G18TREDFRA', 'geometry'],\n",
       "      dtype='object')"
      ]
     },
     "execution_count": 45,
     "metadata": {},
     "output_type": "execute_result"
    }
   ],
   "source": [
    "vest18.columns"
   ]
  },
  {
   "cell_type": "code",
   "execution_count": 46,
   "id": "5528f64a-1b5c-4b9f-b7cf-aefa45d4d25f",
   "metadata": {},
   "outputs": [
    {
     "name": "stderr",
     "output_type": "stream",
     "text": [
      "100%|█████████████████████████████████████| 4051/4051 [00:02<00:00, 1794.82it/s]\n"
     ]
    },
    {
     "name": "stdout",
     "output_type": "stream",
     "text": [
      "There are 1200 overlaps.\n",
      "There are 2357 holes.\n",
      "There are some invalid geometries.\n",
      "Snapping all geometries to a grid with precision 10^( -5 ) to avoid GEOS errors.\n",
      "Identifying overlaps...\n"
     ]
    },
    {
     "name": "stderr",
     "output_type": "stream",
     "text": [
      "100%|█████████████████████████████████████| 6220/6220 [00:01<00:00, 4746.88it/s]\n"
     ]
    },
    {
     "name": "stdout",
     "output_type": "stream",
     "text": [
      "Resolving overlaps...\n",
      "Assigning order 2 pieces...\n",
      "Assigning order 3 pieces...\n",
      "Filling gaps...\n"
     ]
    },
    {
     "name": "stderr",
     "output_type": "stream",
     "text": [
      "Gaps to simplify: 1019it [11:55,  1.42it/s]                                     \n",
      "Gaps to fill: 100%|█████████████████████████████| 72/72 [01:02<00:00,  1.15it/s]\n",
      "100%|█████████████████████████████████████| 4051/4051 [00:02<00:00, 1930.72it/s]\n",
      "100%|█████████████████████████████████████| 4051/4051 [00:02<00:00, 1603.16it/s]\n",
      "100%|██████████████████████████████████████| 4051/4051 [00:08<00:00, 464.74it/s]\n",
      "100%|█████████████████████████████████████| 4062/4062 [00:02<00:00, 1502.77it/s]\n",
      "100%|██████████████████████████████████████| 4062/4062 [00:08<00:00, 474.38it/s]\n"
     ]
    },
    {
     "name": "stdout",
     "output_type": "stream",
     "text": [
      "population agrees\n"
     ]
    }
   ],
   "source": [
    "# check the result here\n",
    "election_df = add_vest(vest18, election_df, '18', population_df, start_col)"
   ]
  },
  {
   "cell_type": "code",
   "execution_count": 47,
   "id": "4d7476dd-c003-4fa5-ab9b-8ed6f75bed39",
   "metadata": {
    "tags": []
   },
   "outputs": [],
   "source": [
    "vest16 = gpd.read_file(vest16_data)"
   ]
  },
  {
   "cell_type": "code",
   "execution_count": 48,
   "id": "11c07719-fa62-4741-9cab-34e379902593",
   "metadata": {},
   "outputs": [
    {
     "data": {
      "text/plain": [
       "Index(['COUNTYFP', 'NAMELSAD', 'G16PREDCLI', 'G16PRERTRU', 'G16PRELJOH',\n",
       "       'G16PREGSTE', 'G16PREOTH', 'G16USSDWIE', 'G16USSRMOR', 'G16USSLGAR',\n",
       "       'G16USSOTH', 'geometry'],\n",
       "      dtype='object')"
      ]
     },
     "execution_count": 48,
     "metadata": {},
     "output_type": "execute_result"
    }
   ],
   "source": [
    "vest16.columns"
   ]
  },
  {
   "cell_type": "code",
   "execution_count": 49,
   "id": "49be3340-a53c-4302-8d8d-4482c712d737",
   "metadata": {},
   "outputs": [
    {
     "name": "stderr",
     "output_type": "stream",
     "text": [
      "100%|█████████████████████████████████████| 4021/4021 [00:02<00:00, 1879.69it/s]\n"
     ]
    },
    {
     "name": "stdout",
     "output_type": "stream",
     "text": [
      "There are 1380 overlaps.\n",
      "There are 2180 holes.\n",
      "There are some invalid geometries.\n",
      "Snapping all geometries to a grid with precision 10^( -5 ) to avoid GEOS errors.\n",
      "Identifying overlaps...\n"
     ]
    },
    {
     "name": "stderr",
     "output_type": "stream",
     "text": [
      "100%|█████████████████████████████████████| 6215/6215 [00:01<00:00, 5001.85it/s]\n"
     ]
    },
    {
     "name": "stdout",
     "output_type": "stream",
     "text": [
      "Resolving overlaps...\n",
      "Assigning order 2 pieces...\n",
      "Assigning order 3 pieces...\n",
      "Filling gaps...\n"
     ]
    },
    {
     "name": "stderr",
     "output_type": "stream",
     "text": [
      "Gaps to simplify: 1024it [11:52,  1.44it/s]                                     \n",
      "Gaps to fill: 100%|█████████████████████████████| 73/73 [01:01<00:00,  1.19it/s]\n",
      "100%|█████████████████████████████████████| 4021/4021 [00:01<00:00, 2059.62it/s]\n",
      "100%|█████████████████████████████████████| 4021/4021 [00:02<00:00, 1525.70it/s]\n",
      "100%|██████████████████████████████████████| 4021/4021 [00:08<00:00, 468.90it/s]\n",
      "100%|█████████████████████████████████████| 4062/4062 [00:02<00:00, 1717.34it/s]\n",
      "100%|██████████████████████████████████████| 4062/4062 [00:08<00:00, 474.61it/s]\n"
     ]
    },
    {
     "name": "stdout",
     "output_type": "stream",
     "text": [
      "population agrees\n"
     ]
    }
   ],
   "source": [
    "election_df = add_vest(vest16, election_df, '16', population_df, 2)"
   ]
  },
  {
   "cell_type": "code",
   "execution_count": 50,
   "id": "0c69ae0d-99e1-4d21-85ab-3d92608da8b2",
   "metadata": {},
   "outputs": [],
   "source": [
    "vest22 = gpd.read_file(vest22_data)"
   ]
  },
  {
   "cell_type": "code",
   "execution_count": 51,
   "id": "a7f520d5-bc4a-4311-ab54-57192a4f3cb6",
   "metadata": {},
   "outputs": [
    {
     "data": {
      "text/plain": [
       "['UNIQUE_ID',\n",
       " 'COUNTYFP',\n",
       " 'COUNTYNA',\n",
       " 'VTDST',\n",
       " 'NAMELSAD',\n",
       " 'CONG_DIST',\n",
       " 'SLDU_DIST',\n",
       " 'REG_DEM',\n",
       " 'REG_REP',\n",
       " 'REG_UNA',\n",
       " 'REG_LIB',\n",
       " 'REG_TOTAL',\n",
       " 'G22USSRMOR',\n",
       " 'G22USSDHOL',\n",
       " 'G22USSLGRA',\n",
       " 'G22GOVDKEL',\n",
       " 'G22GOVRSCH',\n",
       " 'G22GOVIPYL',\n",
       " 'G22GOVLCOR',\n",
       " 'G22SOSRSCH',\n",
       " 'G22SOSDREP',\n",
       " 'G22SOSLLAN',\n",
       " 'G22ATGRKOB',\n",
       " 'G22ATGDMAN',\n",
       " 'G22TRERJOH',\n",
       " 'G22TREDROG',\n",
       " 'G22TRELROB',\n",
       " 'G22INSRSCH',\n",
       " 'G22INSDCOR',\n",
       " 'G22SSC1YES',\n",
       " 'G22SSC1NO',\n",
       " 'G22SSC2YES',\n",
       " 'G22SSC2NO',\n",
       " 'G22SSC3YES',\n",
       " 'G22SSC3NO',\n",
       " 'G22SSC5YES',\n",
       " 'G22SSC5NO',\n",
       " 'G22SSC6YES',\n",
       " 'G22SSC6NO',\n",
       " 'G22SSC7YES',\n",
       " 'G22SSC7NO',\n",
       " 'GCON01DBEA',\n",
       " 'GCON01RMAN',\n",
       " 'GCON02DSCH',\n",
       " 'GCON02RLAT',\n",
       " 'GCON03DDAV',\n",
       " 'GCON03LHOH',\n",
       " 'GCON03RADK',\n",
       " 'GCON04DHER',\n",
       " 'GCON04REST',\n",
       " 'GSU038DLAR',\n",
       " 'GSU038RRYC',\n",
       " 'GSL001DROG',\n",
       " 'GSL001RHOU',\n",
       " 'GSL002RCOL',\n",
       " 'GSL003RSMI',\n",
       " 'GSL004RJAC',\n",
       " 'GSL005OWRI',\n",
       " 'GSL005RBAR',\n",
       " 'GSL006DFRI',\n",
       " 'GSL006RPAR',\n",
       " 'GSL007RGOD',\n",
       " 'GSL008DSHE',\n",
       " 'GSL008OWRI',\n",
       " 'GSL008RCRO',\n",
       " 'GSL009DCLO',\n",
       " 'GSL009RGAR',\n",
       " 'GSL010DHAS',\n",
       " 'GSL011DWIL',\n",
       " 'GSL011RBRY',\n",
       " 'GSL012RBLE',\n",
       " 'GSL013RNEW',\n",
       " 'GSL014DMIL',\n",
       " 'GSL014OWRI',\n",
       " 'GSL014RESA',\n",
       " 'GSL015DHOU',\n",
       " 'GSL015OWRI',\n",
       " 'GSL015RBIN',\n",
       " 'GSL016DFEA',\n",
       " 'GSL016OWRI',\n",
       " 'GSL016RROI',\n",
       " 'GSL017DHOY',\n",
       " 'GSL017LKER',\n",
       " 'GSL017OWRI',\n",
       " 'GSL017RCAR',\n",
       " 'GSL018DNEI',\n",
       " 'GSL018OWRI',\n",
       " 'GSL018RGOR',\n",
       " 'GSL019DCLA',\n",
       " 'GSL019OWRI',\n",
       " 'GSL019RRED',\n",
       " 'GSL020DPOS',\n",
       " 'GSL020OWRI',\n",
       " 'GSL020RRAH',\n",
       " 'GSL021DSTO',\n",
       " 'GSL021OWRI',\n",
       " 'GSL022DVAU',\n",
       " 'GSL022OWRI',\n",
       " 'GSL022RCOL',\n",
       " 'GSL023DRUI',\n",
       " 'GSL023OWRI',\n",
       " 'GSL024DOUS',\n",
       " 'GSL024OWRI',\n",
       " 'GSL025DXU',\n",
       " 'GSL025OWRI',\n",
       " 'GSL026DTIF',\n",
       " 'GSL026OWRI',\n",
       " 'GSL026RTHO',\n",
       " 'GSL027DPRI',\n",
       " 'GSL027OWRI',\n",
       " 'GSL027RTAR',\n",
       " 'GSL028DALL',\n",
       " 'GSL028OWRI',\n",
       " 'GSL028RTUR',\n",
       " 'GSL029DMEY',\n",
       " 'GSL029OWRI',\n",
       " 'GSL029RSOF',\n",
       " 'GSL030DEIT',\n",
       " 'GSL030OWRI',\n",
       " 'GSL030RWIL',\n",
       " 'GSL031DRUI',\n",
       " 'GSL031OWRI',\n",
       " 'GSL031RGRI',\n",
       " 'GSL032DCUR',\n",
       " 'GSL032OWRI',\n",
       " 'GSL033DHUT',\n",
       " 'GSL033LBAR',\n",
       " 'GSL033OWRI',\n",
       " 'GSL033RTHO',\n",
       " 'GSL034DWIN',\n",
       " 'GSL034OWRI',\n",
       " 'GSL034RCAB',\n",
       " 'GSL035DII',\n",
       " 'GSL035OWRI',\n",
       " 'GSL035RSTI',\n",
       " 'GSL036DMEL',\n",
       " 'GSL036OWRI',\n",
       " 'GSL036RBRA',\n",
       " 'GSL037DORO',\n",
       " 'GSL037OWRI',\n",
       " 'GSL037RWHI',\n",
       " 'GSL038OWRI',\n",
       " 'GSL038RJOH',\n",
       " 'GSL039DWES',\n",
       " 'GSL039OWRI',\n",
       " 'GSL039RDON',\n",
       " 'GSL040DALL',\n",
       " 'GSL040RBUE',\n",
       " 'GSL041DSCH',\n",
       " 'GSL041RPRO',\n",
       " 'GSL042RNEE',\n",
       " 'GSL043DDAV',\n",
       " 'GSL043OWRI',\n",
       " 'GSL043RSUT',\n",
       " 'GSL044DBAL',\n",
       " 'GSL045DAMY',\n",
       " 'GSL046DHIG',\n",
       " 'GSL047RELL',\n",
       " 'GSL048DOSM',\n",
       " 'GSL048OWRI',\n",
       " 'GSL048RFRE',\n",
       " 'GSL049DBOY',\n",
       " 'GSL049OWRI',\n",
       " 'GSL049RCLA',\n",
       " 'GSL050OWRI',\n",
       " 'GSL050RPAT',\n",
       " 'GSL051RTIT',\n",
       " 'GSL052DFLE',\n",
       " 'GSL052OWRI',\n",
       " 'GSL052RBOR',\n",
       " 'GSL053DHAS',\n",
       " 'GSL053OWRI',\n",
       " 'GSL053RWIL',\n",
       " 'GSL054DJOH',\n",
       " 'GSL054OWRI',\n",
       " 'GSL054RCOR',\n",
       " 'GSL055DSCH',\n",
       " 'GSL055OWRI',\n",
       " 'GSL055RSTA',\n",
       " 'GSL056DWEI',\n",
       " 'GSL056OWRI',\n",
       " 'GSL057DALC',\n",
       " 'GSL057OWRI',\n",
       " 'GSL058DMIL',\n",
       " 'GSL058OWRI',\n",
       " 'GSL059DMCC',\n",
       " 'GSL059RSCH',\n",
       " 'GSL060DMCG',\n",
       " 'GSL060RSCH',\n",
       " 'GSL061RAWE',\n",
       " 'GSL062RGAR',\n",
       " 'GSL063REPL',\n",
       " 'GSL064DSME',\n",
       " 'GSL064RBLO',\n",
       " 'GSL065RUND',\n",
       " 'GSL066DCAR',\n",
       " 'GSL067DZIT',\n",
       " 'GSL067RDOD',\n",
       " 'GSL068DII',\n",
       " 'GSL068RBUT',\n",
       " 'GSL069DCRE',\n",
       " 'GSL069RSAN',\n",
       " 'GSL070RHIL',\n",
       " 'GSL071RHOW',\n",
       " 'GSL072RAND',\n",
       " 'GSL073RMAS',\n",
       " 'GSL074LHEI',\n",
       " 'GSL074ROWE',\n",
       " 'GSL075RCAR',\n",
       " 'GSL076DTOR',\n",
       " 'GSL076RSMI',\n",
       " 'GSL077RWIL',\n",
       " 'GSL078DSHI',\n",
       " 'GSL078OWRI',\n",
       " 'GSL078RESS',\n",
       " 'GSL079DTRI',\n",
       " 'GSL079RROT',\n",
       " 'GSL080RRHI',\n",
       " 'GSL081RCAR',\n",
       " 'GSL082DHOB',\n",
       " 'GSL082RHOW',\n",
       " 'GSL083DHEL',\n",
       " 'GSL084DCAR',\n",
       " 'GSL085DBRI',\n",
       " 'GSL085RPEN',\n",
       " 'GSL086DMIL',\n",
       " 'GSL086RLIN',\n",
       " 'GSL087DSTR',\n",
       " 'GSL087REST',\n",
       " 'GSL088DSCH',\n",
       " 'GSL088RPIC',\n",
       " 'GSL089DOHA',\n",
       " 'GSL090RMAU',\n",
       " 'GSL091DCHO',\n",
       " 'GSL091LBAI',\n",
       " 'GSL091RBER',\n",
       " 'GSL092DCAR',\n",
       " 'GSL093RBER',\n",
       " 'GSL094DHOW',\n",
       " 'GSL094RDEL',\n",
       " 'GSL095DSAW',\n",
       " 'GSL095RPAR',\n",
       " 'GSL096RKES',\n",
       " 'GSL097RHOH',\n",
       " 'GSL098RHOW',\n",
       " 'GSL099RHUM',\n",
       " 'GSL100DMCC',\n",
       " 'GSL100RHAW',\n",
       " 'GSL101RSEI',\n",
       " 'GSL102DPRO',\n",
       " 'GSL102RWHI',\n",
       " 'GSL103DMAR',\n",
       " 'GSL103LHER',\n",
       " 'GSL104DSTR',\n",
       " 'GSL104RWAG',\n",
       " 'GSL105DABE',\n",
       " 'GSL105RLAN',\n",
       " 'GSL106RMOS',\n",
       " 'GSL107RCON',\n",
       " 'GSL108DWOO',\n",
       " 'GSL108OWRI',\n",
       " 'GSL109LSOL',\n",
       " 'GSL109RWAY',\n",
       " 'GSL110RRAH',\n",
       " 'GSL111DHAM',\n",
       " 'GSL111RWAS',\n",
       " 'GSL112RBLE',\n",
       " 'GSL113DROT',\n",
       " 'GSL113RFAI',\n",
       " 'GSL114RMUR',\n",
       " 'GSL115RWHI',\n",
       " 'GSL116DBAR',\n",
       " 'GSL116RHOF',\n",
       " 'GSL117DTRI',\n",
       " 'GSL117OWRI',\n",
       " 'GSL117RTUR',\n",
       " 'GSL118RMIN',\n",
       " 'GSL119RGOE',\n",
       " 'GSL120RSMI',\n",
       " 'GSL121DPIN',\n",
       " 'GSL121OWRI',\n",
       " 'GSL121RRES',\n",
       " 'GSL122RCLI',\n",
       " 'GSL123RLEW',\n",
       " 'GSL124RYOU',\n",
       " 'GSL125RFRA',\n",
       " 'geometry']"
      ]
     },
     "execution_count": 51,
     "metadata": {},
     "output_type": "execute_result"
    }
   ],
   "source": [
    "list(vest22.columns)"
   ]
  },
  {
   "cell_type": "code",
   "execution_count": 52,
   "id": "bec79fba-3c90-4c0b-ae22-dae4253f3d26",
   "metadata": {},
   "outputs": [
    {
     "name": "stderr",
     "output_type": "stream",
     "text": [
      "100%|█████████████████████████████████████| 4379/4379 [00:02<00:00, 2009.42it/s]\n"
     ]
    },
    {
     "name": "stdout",
     "output_type": "stream",
     "text": [
      "There are 2327 overlaps.\n",
      "There are 4141 holes.\n",
      "There are some invalid geometries.\n",
      "Snapping all geometries to a grid with precision 10^( -5 ) to avoid GEOS errors.\n",
      "Identifying overlaps...\n"
     ]
    },
    {
     "name": "stderr",
     "output_type": "stream",
     "text": [
      "100%|███████████████████████████████████| 10156/10156 [00:02<00:00, 4928.59it/s]\n"
     ]
    },
    {
     "name": "stdout",
     "output_type": "stream",
     "text": [
      "Resolving overlaps...\n",
      "Assigning order 2 pieces...\n",
      "Assigning order 3 pieces...\n",
      "Filling gaps...\n"
     ]
    },
    {
     "name": "stderr",
     "output_type": "stream",
     "text": [
      "Gaps to simplify: 2697it [23:04,  1.95it/s]                                     \n",
      "Gaps to fill: 100%|███████████████████████████| 174/174 [03:17<00:00,  1.13s/it]\n",
      "100%|█████████████████████████████████████| 4379/4379 [00:02<00:00, 2097.90it/s]\n",
      "100%|█████████████████████████████████████| 4379/4379 [00:02<00:00, 1740.15it/s]\n",
      "100%|██████████████████████████████████████| 4379/4379 [00:08<00:00, 506.77it/s]\n",
      "100%|█████████████████████████████████████| 4062/4062 [00:02<00:00, 1619.54it/s]\n",
      "100%|██████████████████████████████████████| 4062/4062 [00:08<00:00, 473.98it/s]\n"
     ]
    },
    {
     "name": "stdout",
     "output_type": "stream",
     "text": [
      "population agrees\n"
     ]
    }
   ],
   "source": [
    "election_df = add_vest(vest22, election_df, '22', population_df, start_col=12, end_col = 29)"
   ]
  },
  {
   "cell_type": "markdown",
   "id": "10cf83d4-6005-485b-8193-c0149869a97e",
   "metadata": {},
   "source": [
    "## Add the district data"
   ]
  },
  {
   "cell_type": "code",
   "execution_count": 54,
   "id": "a0ccb606-7fe4-4b0a-998b-337d31f4abc5",
   "metadata": {},
   "outputs": [],
   "source": [
    "cong_df = gpd.read_file(cd_data)\n",
    "cong_df = cong_df.to_crs(cong_df.estimate_utm_crs())\n",
    "send = gpd.read_file(send_data)\n",
    "send = send.to_crs(send.estimate_utm_crs())\n",
    "hdist = gpd.read_file(hdist_data)\n",
    "hdist = hdist.to_crs(hdist.estimate_utm_crs())"
   ]
  },
  {
   "cell_type": "code",
   "execution_count": 55,
   "id": "da25c3ad-7318-4c92-b2f2-74982e9e317c",
   "metadata": {},
   "outputs": [
    {
     "data": {
      "text/html": [
       "<div>\n",
       "<style scoped>\n",
       "    .dataframe tbody tr th:only-of-type {\n",
       "        vertical-align: middle;\n",
       "    }\n",
       "\n",
       "    .dataframe tbody tr th {\n",
       "        vertical-align: top;\n",
       "    }\n",
       "\n",
       "    .dataframe thead th {\n",
       "        text-align: right;\n",
       "    }\n",
       "</style>\n",
       "<table border=\"1\" class=\"dataframe\">\n",
       "  <thead>\n",
       "    <tr style=\"text-align: right;\">\n",
       "      <th></th>\n",
       "      <th>ID</th>\n",
       "      <th>AREA</th>\n",
       "      <th>DATA</th>\n",
       "      <th>DISTRICT</th>\n",
       "      <th>MEMBERS</th>\n",
       "      <th>LOCKED</th>\n",
       "      <th>NAME</th>\n",
       "      <th>POPULATION</th>\n",
       "      <th>WHITE</th>\n",
       "      <th>BLACK</th>\n",
       "      <th>...</th>\n",
       "      <th>F_NH18_OTH</th>\n",
       "      <th>F_NH18_2_R</th>\n",
       "      <th>F_NH18_DOJ</th>\n",
       "      <th>F_NH18_DO1</th>\n",
       "      <th>F_NH18_DO2</th>\n",
       "      <th>F_NH18_DO3</th>\n",
       "      <th>F_NH18_DO4</th>\n",
       "      <th>F_NH18_DO5</th>\n",
       "      <th>DISTRICT_L</th>\n",
       "      <th>geometry</th>\n",
       "    </tr>\n",
       "  </thead>\n",
       "  <tbody>\n",
       "    <tr>\n",
       "      <th>0</th>\n",
       "      <td>1</td>\n",
       "      <td>8811.151360</td>\n",
       "      <td>33</td>\n",
       "      <td>39</td>\n",
       "      <td>1.0</td>\n",
       "      <td>None</td>\n",
       "      <td>None</td>\n",
       "      <td>72519</td>\n",
       "      <td>43311</td>\n",
       "      <td>1679</td>\n",
       "      <td>...</td>\n",
       "      <td>0.002041</td>\n",
       "      <td>0.016644</td>\n",
       "      <td>0.016327</td>\n",
       "      <td>0.012121</td>\n",
       "      <td>0.017030</td>\n",
       "      <td>0.000331</td>\n",
       "      <td>0.005764</td>\n",
       "      <td>0.001737</td>\n",
       "      <td>39|-1.26%</td>\n",
       "      <td>POLYGON ((392643.504 4235623.411, 392642.665 4...</td>\n",
       "    </tr>\n",
       "    <tr>\n",
       "      <th>1</th>\n",
       "      <td>2</td>\n",
       "      <td>12996.666900</td>\n",
       "      <td>35</td>\n",
       "      <td>40</td>\n",
       "      <td>1.0</td>\n",
       "      <td>None</td>\n",
       "      <td>None</td>\n",
       "      <td>72101</td>\n",
       "      <td>64437</td>\n",
       "      <td>876</td>\n",
       "      <td>...</td>\n",
       "      <td>0.001942</td>\n",
       "      <td>0.021622</td>\n",
       "      <td>0.012330</td>\n",
       "      <td>0.011082</td>\n",
       "      <td>0.006019</td>\n",
       "      <td>0.000374</td>\n",
       "      <td>0.007698</td>\n",
       "      <td>0.002954</td>\n",
       "      <td>40|-1.83%</td>\n",
       "      <td>POLYGON ((391543.538 4284020.586, 391261.894 4...</td>\n",
       "    </tr>\n",
       "    <tr>\n",
       "      <th>2</th>\n",
       "      <td>3</td>\n",
       "      <td>6000.474600</td>\n",
       "      <td>32</td>\n",
       "      <td>38</td>\n",
       "      <td>1.0</td>\n",
       "      <td>None</td>\n",
       "      <td>None</td>\n",
       "      <td>73453</td>\n",
       "      <td>40473</td>\n",
       "      <td>1739</td>\n",
       "      <td>...</td>\n",
       "      <td>0.001239</td>\n",
       "      <td>0.012607</td>\n",
       "      <td>0.017658</td>\n",
       "      <td>0.008699</td>\n",
       "      <td>0.011599</td>\n",
       "      <td>0.000123</td>\n",
       "      <td>0.003621</td>\n",
       "      <td>0.001457</td>\n",
       "      <td>38|0.01%</td>\n",
       "      <td>POLYGON ((451853.181 4094965.934, 451812.694 4...</td>\n",
       "    </tr>\n",
       "    <tr>\n",
       "      <th>3</th>\n",
       "      <td>4</td>\n",
       "      <td>3273.222160</td>\n",
       "      <td>28</td>\n",
       "      <td>34</td>\n",
       "      <td>1.0</td>\n",
       "      <td>None</td>\n",
       "      <td>None</td>\n",
       "      <td>73596</td>\n",
       "      <td>63543</td>\n",
       "      <td>1909</td>\n",
       "      <td>...</td>\n",
       "      <td>0.001834</td>\n",
       "      <td>0.027814</td>\n",
       "      <td>0.024186</td>\n",
       "      <td>0.020667</td>\n",
       "      <td>0.005788</td>\n",
       "      <td>0.000720</td>\n",
       "      <td>0.006712</td>\n",
       "      <td>0.001400</td>\n",
       "      <td>34|0.2%</td>\n",
       "      <td>POLYGON ((558089.868 4094866.866, 558012.194 4...</td>\n",
       "    </tr>\n",
       "    <tr>\n",
       "      <th>4</th>\n",
       "      <td>5</td>\n",
       "      <td>480.567993</td>\n",
       "      <td>19</td>\n",
       "      <td>26</td>\n",
       "      <td>1.0</td>\n",
       "      <td>None</td>\n",
       "      <td>None</td>\n",
       "      <td>73190</td>\n",
       "      <td>61536</td>\n",
       "      <td>1243</td>\n",
       "      <td>...</td>\n",
       "      <td>0.001886</td>\n",
       "      <td>0.031589</td>\n",
       "      <td>0.014906</td>\n",
       "      <td>0.022626</td>\n",
       "      <td>0.017885</td>\n",
       "      <td>0.000724</td>\n",
       "      <td>0.007323</td>\n",
       "      <td>0.002282</td>\n",
       "      <td>26|-0.35%</td>\n",
       "      <td>POLYGON ((605434.595 4148144.797, 605434.210 4...</td>\n",
       "    </tr>\n",
       "  </tbody>\n",
       "</table>\n",
       "<p>5 rows × 103 columns</p>\n",
       "</div>"
      ],
      "text/plain": [
       "   ID          AREA  DATA DISTRICT  MEMBERS LOCKED  NAME  POPULATION  WHITE  \\\n",
       "0   1   8811.151360    33       39      1.0   None  None       72519  43311   \n",
       "1   2  12996.666900    35       40      1.0   None  None       72101  64437   \n",
       "2   3   6000.474600    32       38      1.0   None  None       73453  40473   \n",
       "3   4   3273.222160    28       34      1.0   None  None       73596  63543   \n",
       "4   5    480.567993    19       26      1.0   None  None       73190  61536   \n",
       "\n",
       "   BLACK  ...  F_NH18_OTH  F_NH18_2_R  F_NH18_DOJ  F_NH18_DO1  F_NH18_DO2  \\\n",
       "0   1679  ...    0.002041    0.016644    0.016327    0.012121    0.017030   \n",
       "1    876  ...    0.001942    0.021622    0.012330    0.011082    0.006019   \n",
       "2   1739  ...    0.001239    0.012607    0.017658    0.008699    0.011599   \n",
       "3   1909  ...    0.001834    0.027814    0.024186    0.020667    0.005788   \n",
       "4   1243  ...    0.001886    0.031589    0.014906    0.022626    0.017885   \n",
       "\n",
       "   F_NH18_DO3  F_NH18_DO4  F_NH18_DO5  DISTRICT_L  \\\n",
       "0    0.000331    0.005764    0.001737   39|-1.26%   \n",
       "1    0.000374    0.007698    0.002954   40|-1.83%   \n",
       "2    0.000123    0.003621    0.001457    38|0.01%   \n",
       "3    0.000720    0.006712    0.001400     34|0.2%   \n",
       "4    0.000724    0.007323    0.002282   26|-0.35%   \n",
       "\n",
       "                                            geometry  \n",
       "0  POLYGON ((392643.504 4235623.411, 392642.665 4...  \n",
       "1  POLYGON ((391543.538 4284020.586, 391261.894 4...  \n",
       "2  POLYGON ((451853.181 4094965.934, 451812.694 4...  \n",
       "3  POLYGON ((558089.868 4094866.866, 558012.194 4...  \n",
       "4  POLYGON ((605434.595 4148144.797, 605434.210 4...  \n",
       "\n",
       "[5 rows x 103 columns]"
      ]
     },
     "execution_count": 55,
     "metadata": {},
     "output_type": "execute_result"
    }
   ],
   "source": [
    "send.head()"
   ]
  },
  {
   "cell_type": "code",
   "execution_count": 56,
   "id": "a9fe98af-f37e-4200-835e-f96695f68e41",
   "metadata": {
    "tags": []
   },
   "outputs": [
    {
     "name": "stderr",
     "output_type": "stream",
     "text": [
      "100%|██████████████████████████████████████████| 40/40 [00:00<00:00, 366.56it/s]\n",
      "100%|██████████████████████████████████████████| 40/40 [00:00<00:00, 550.39it/s]\n",
      "100%|███████████████████████████████████████████| 40/40 [00:00<00:00, 70.29it/s]\n"
     ]
    }
   ],
   "source": [
    "election_df = add_district(send, \"SEND\", election_df, \"DISTRICT\")"
   ]
  },
  {
   "cell_type": "code",
   "execution_count": 57,
   "id": "870104e2-8534-477f-8f66-384f88aa1251",
   "metadata": {},
   "outputs": [
    {
     "data": {
      "text/html": [
       "<div>\n",
       "<style scoped>\n",
       "    .dataframe tbody tr th:only-of-type {\n",
       "        vertical-align: middle;\n",
       "    }\n",
       "\n",
       "    .dataframe tbody tr th {\n",
       "        vertical-align: top;\n",
       "    }\n",
       "\n",
       "    .dataframe thead th {\n",
       "        text-align: right;\n",
       "    }\n",
       "</style>\n",
       "<table border=\"1\" class=\"dataframe\">\n",
       "  <thead>\n",
       "    <tr style=\"text-align: right;\">\n",
       "      <th></th>\n",
       "      <th>ID</th>\n",
       "      <th>AREA</th>\n",
       "      <th>DATA</th>\n",
       "      <th>DISTRICT</th>\n",
       "      <th>MEMBERS</th>\n",
       "      <th>LOCKED</th>\n",
       "      <th>NAME</th>\n",
       "      <th>POPULATION</th>\n",
       "      <th>WHITE</th>\n",
       "      <th>BLACK</th>\n",
       "      <th>...</th>\n",
       "      <th>F_NH18_OTH</th>\n",
       "      <th>F_NH18_2_R</th>\n",
       "      <th>F_NH18_DOJ</th>\n",
       "      <th>F_NH18_DO1</th>\n",
       "      <th>F_NH18_DO2</th>\n",
       "      <th>F_NH18_DO3</th>\n",
       "      <th>F_NH18_DO4</th>\n",
       "      <th>F_NH18_DO5</th>\n",
       "      <th>DISTRICT_L</th>\n",
       "      <th>geometry</th>\n",
       "    </tr>\n",
       "  </thead>\n",
       "  <tbody>\n",
       "    <tr>\n",
       "      <th>0</th>\n",
       "      <td>1</td>\n",
       "      <td>6.174718</td>\n",
       "      <td>109</td>\n",
       "      <td>84</td>\n",
       "      <td>1.0</td>\n",
       "      <td>None</td>\n",
       "      <td>None</td>\n",
       "      <td>23539</td>\n",
       "      <td>9738</td>\n",
       "      <td>7622</td>\n",
       "      <td>...</td>\n",
       "      <td>0.002974</td>\n",
       "      <td>0.039594</td>\n",
       "      <td>0.240410</td>\n",
       "      <td>0.015719</td>\n",
       "      <td>0.025320</td>\n",
       "      <td>0.001147</td>\n",
       "      <td>0.005268</td>\n",
       "      <td>0.013297</td>\n",
       "      <td>84|0.15%</td>\n",
       "      <td>POLYGON ((648212.263 4176375.919, 648219.578 4...</td>\n",
       "    </tr>\n",
       "    <tr>\n",
       "      <th>1</th>\n",
       "      <td>2</td>\n",
       "      <td>13.106968</td>\n",
       "      <td>114</td>\n",
       "      <td>89</td>\n",
       "      <td>1.0</td>\n",
       "      <td>None</td>\n",
       "      <td>None</td>\n",
       "      <td>24153</td>\n",
       "      <td>11290</td>\n",
       "      <td>7585</td>\n",
       "      <td>...</td>\n",
       "      <td>0.003643</td>\n",
       "      <td>0.033826</td>\n",
       "      <td>0.243200</td>\n",
       "      <td>0.014532</td>\n",
       "      <td>0.067362</td>\n",
       "      <td>0.000580</td>\n",
       "      <td>0.006459</td>\n",
       "      <td>0.009771</td>\n",
       "      <td>89|2.77%</td>\n",
       "      <td>POLYGON ((653033.154 4181588.061, 653033.609 4...</td>\n",
       "    </tr>\n",
       "    <tr>\n",
       "      <th>2</th>\n",
       "      <td>3</td>\n",
       "      <td>49.567436</td>\n",
       "      <td>107</td>\n",
       "      <td>82</td>\n",
       "      <td>1.0</td>\n",
       "      <td>None</td>\n",
       "      <td>None</td>\n",
       "      <td>23223</td>\n",
       "      <td>20067</td>\n",
       "      <td>303</td>\n",
       "      <td>...</td>\n",
       "      <td>0.001636</td>\n",
       "      <td>0.035267</td>\n",
       "      <td>0.011626</td>\n",
       "      <td>0.027559</td>\n",
       "      <td>0.013693</td>\n",
       "      <td>0.001033</td>\n",
       "      <td>0.006158</td>\n",
       "      <td>0.002067</td>\n",
       "      <td>82|-1.19%</td>\n",
       "      <td>POLYGON ((663287.842 4149229.466, 663293.312 4...</td>\n",
       "    </tr>\n",
       "    <tr>\n",
       "      <th>3</th>\n",
       "      <td>4</td>\n",
       "      <td>40.998199</td>\n",
       "      <td>106</td>\n",
       "      <td>81</td>\n",
       "      <td>1.0</td>\n",
       "      <td>None</td>\n",
       "      <td>None</td>\n",
       "      <td>23040</td>\n",
       "      <td>15471</td>\n",
       "      <td>1689</td>\n",
       "      <td>...</td>\n",
       "      <td>0.002387</td>\n",
       "      <td>0.035547</td>\n",
       "      <td>0.055903</td>\n",
       "      <td>0.021267</td>\n",
       "      <td>0.046745</td>\n",
       "      <td>0.002170</td>\n",
       "      <td>0.008377</td>\n",
       "      <td>0.004687</td>\n",
       "      <td>81|-1.97%</td>\n",
       "      <td>POLYGON ((663110.261 4160556.734, 663116.685 4...</td>\n",
       "    </tr>\n",
       "    <tr>\n",
       "      <th>4</th>\n",
       "      <td>5</td>\n",
       "      <td>15.171526</td>\n",
       "      <td>113</td>\n",
       "      <td>88</td>\n",
       "      <td>1.0</td>\n",
       "      <td>None</td>\n",
       "      <td>None</td>\n",
       "      <td>23527</td>\n",
       "      <td>12273</td>\n",
       "      <td>3682</td>\n",
       "      <td>...</td>\n",
       "      <td>0.002423</td>\n",
       "      <td>0.038381</td>\n",
       "      <td>0.121052</td>\n",
       "      <td>0.017257</td>\n",
       "      <td>0.125260</td>\n",
       "      <td>0.001785</td>\n",
       "      <td>0.006036</td>\n",
       "      <td>0.007268</td>\n",
       "      <td>88|0.1%</td>\n",
       "      <td>POLYGON ((664287.142 4167056.678, 664119.732 4...</td>\n",
       "    </tr>\n",
       "  </tbody>\n",
       "</table>\n",
       "<p>5 rows × 103 columns</p>\n",
       "</div>"
      ],
      "text/plain": [
       "   ID       AREA  DATA DISTRICT  MEMBERS LOCKED  NAME  POPULATION  WHITE  \\\n",
       "0   1   6.174718   109       84      1.0   None  None       23539   9738   \n",
       "1   2  13.106968   114       89      1.0   None  None       24153  11290   \n",
       "2   3  49.567436   107       82      1.0   None  None       23223  20067   \n",
       "3   4  40.998199   106       81      1.0   None  None       23040  15471   \n",
       "4   5  15.171526   113       88      1.0   None  None       23527  12273   \n",
       "\n",
       "   BLACK  ...  F_NH18_OTH  F_NH18_2_R  F_NH18_DOJ  F_NH18_DO1  F_NH18_DO2  \\\n",
       "0   7622  ...    0.002974    0.039594    0.240410    0.015719    0.025320   \n",
       "1   7585  ...    0.003643    0.033826    0.243200    0.014532    0.067362   \n",
       "2    303  ...    0.001636    0.035267    0.011626    0.027559    0.013693   \n",
       "3   1689  ...    0.002387    0.035547    0.055903    0.021267    0.046745   \n",
       "4   3682  ...    0.002423    0.038381    0.121052    0.017257    0.125260   \n",
       "\n",
       "   F_NH18_DO3  F_NH18_DO4  F_NH18_DO5  DISTRICT_L  \\\n",
       "0    0.001147    0.005268    0.013297    84|0.15%   \n",
       "1    0.000580    0.006459    0.009771    89|2.77%   \n",
       "2    0.001033    0.006158    0.002067   82|-1.19%   \n",
       "3    0.002170    0.008377    0.004687   81|-1.97%   \n",
       "4    0.001785    0.006036    0.007268     88|0.1%   \n",
       "\n",
       "                                            geometry  \n",
       "0  POLYGON ((648212.263 4176375.919, 648219.578 4...  \n",
       "1  POLYGON ((653033.154 4181588.061, 653033.609 4...  \n",
       "2  POLYGON ((663287.842 4149229.466, 663293.312 4...  \n",
       "3  POLYGON ((663110.261 4160556.734, 663116.685 4...  \n",
       "4  POLYGON ((664287.142 4167056.678, 664119.732 4...  \n",
       "\n",
       "[5 rows x 103 columns]"
      ]
     },
     "execution_count": 57,
     "metadata": {},
     "output_type": "execute_result"
    }
   ],
   "source": [
    "hdist.head()"
   ]
  },
  {
   "cell_type": "code",
   "execution_count": 58,
   "id": "da4c6235-1028-43d0-adde-affe669c3f20",
   "metadata": {
    "tags": []
   },
   "outputs": [
    {
     "name": "stderr",
     "output_type": "stream",
     "text": [
      "100%|████████████████████████████████████████| 125/125 [00:00<00:00, 646.58it/s]\n",
      "100%|███████████████████████████████████████| 125/125 [00:00<00:00, 1350.56it/s]\n",
      "100%|████████████████████████████████████████| 125/125 [00:00<00:00, 139.19it/s]\n"
     ]
    }
   ],
   "source": [
    "election_df = add_district(hdist, \"HDIST\", election_df, \"DISTRICT\")"
   ]
  },
  {
   "cell_type": "code",
   "execution_count": 59,
   "id": "901ce68a-746d-4324-9c5c-45868b5407ef",
   "metadata": {},
   "outputs": [
    {
     "data": {
      "text/html": [
       "<div>\n",
       "<style scoped>\n",
       "    .dataframe tbody tr th:only-of-type {\n",
       "        vertical-align: middle;\n",
       "    }\n",
       "\n",
       "    .dataframe tbody tr th {\n",
       "        vertical-align: top;\n",
       "    }\n",
       "\n",
       "    .dataframe thead th {\n",
       "        text-align: right;\n",
       "    }\n",
       "</style>\n",
       "<table border=\"1\" class=\"dataframe\">\n",
       "  <thead>\n",
       "    <tr style=\"text-align: right;\">\n",
       "      <th></th>\n",
       "      <th>ID</th>\n",
       "      <th>AREA</th>\n",
       "      <th>DATA</th>\n",
       "      <th>DISTRICT</th>\n",
       "      <th>MEMBERS</th>\n",
       "      <th>LOCKED</th>\n",
       "      <th>NAME</th>\n",
       "      <th>POPULATION</th>\n",
       "      <th>WHITE</th>\n",
       "      <th>BLACK</th>\n",
       "      <th>...</th>\n",
       "      <th>F_NH18_OTH</th>\n",
       "      <th>F_NH18_2_R</th>\n",
       "      <th>F_NH18_DOJ</th>\n",
       "      <th>F_NH18_DO1</th>\n",
       "      <th>F_NH18_DO2</th>\n",
       "      <th>F_NH18_DO3</th>\n",
       "      <th>F_NH18_DO4</th>\n",
       "      <th>F_NH18_DO5</th>\n",
       "      <th>DISTRICT_L</th>\n",
       "      <th>geometry</th>\n",
       "    </tr>\n",
       "  </thead>\n",
       "  <tbody>\n",
       "    <tr>\n",
       "      <th>0</th>\n",
       "      <td>1</td>\n",
       "      <td>14630.037109</td>\n",
       "      <td>4</td>\n",
       "      <td>4</td>\n",
       "      <td>1.0</td>\n",
       "      <td>None</td>\n",
       "      <td>None</td>\n",
       "      <td>734470</td>\n",
       "      <td>538330</td>\n",
       "      <td>50124</td>\n",
       "      <td>...</td>\n",
       "      <td>0.002334</td>\n",
       "      <td>0.033813</td>\n",
       "      <td>0.052942</td>\n",
       "      <td>0.023621</td>\n",
       "      <td>0.028845</td>\n",
       "      <td>0.001023</td>\n",
       "      <td>0.007322</td>\n",
       "      <td>0.003852</td>\n",
       "      <td>4|0%</td>\n",
       "      <td>POLYGON ((507647.689 4234787.534, 507658.797 4...</td>\n",
       "    </tr>\n",
       "    <tr>\n",
       "      <th>1</th>\n",
       "      <td>2</td>\n",
       "      <td>49802.121094</td>\n",
       "      <td>1</td>\n",
       "      <td>1</td>\n",
       "      <td>1.0</td>\n",
       "      <td>None</td>\n",
       "      <td>None</td>\n",
       "      <td>734470</td>\n",
       "      <td>579523</td>\n",
       "      <td>20476</td>\n",
       "      <td>...</td>\n",
       "      <td>0.002325</td>\n",
       "      <td>0.025802</td>\n",
       "      <td>0.024857</td>\n",
       "      <td>0.018484</td>\n",
       "      <td>0.017643</td>\n",
       "      <td>0.000767</td>\n",
       "      <td>0.007343</td>\n",
       "      <td>0.002298</td>\n",
       "      <td>1|0%</td>\n",
       "      <td>POLYGON ((451853.181 4094965.934, 451812.694 4...</td>\n",
       "    </tr>\n",
       "    <tr>\n",
       "      <th>2</th>\n",
       "      <td>3</td>\n",
       "      <td>15494.653320</td>\n",
       "      <td>2</td>\n",
       "      <td>2</td>\n",
       "      <td>1.0</td>\n",
       "      <td>None</td>\n",
       "      <td>None</td>\n",
       "      <td>734470</td>\n",
       "      <td>536135</td>\n",
       "      <td>63310</td>\n",
       "      <td>...</td>\n",
       "      <td>0.002287</td>\n",
       "      <td>0.033545</td>\n",
       "      <td>0.068788</td>\n",
       "      <td>0.024427</td>\n",
       "      <td>0.015332</td>\n",
       "      <td>0.001567</td>\n",
       "      <td>0.007433</td>\n",
       "      <td>0.003808</td>\n",
       "      <td>2|0%</td>\n",
       "      <td>POLYGON ((754626.007 4383797.637, 754592.973 4...</td>\n",
       "    </tr>\n",
       "    <tr>\n",
       "      <th>3</th>\n",
       "      <td>4</td>\n",
       "      <td>2292.086426</td>\n",
       "      <td>3</td>\n",
       "      <td>3</td>\n",
       "      <td>1.0</td>\n",
       "      <td>None</td>\n",
       "      <td>None</td>\n",
       "      <td>734470</td>\n",
       "      <td>568474</td>\n",
       "      <td>34899</td>\n",
       "      <td>...</td>\n",
       "      <td>0.002554</td>\n",
       "      <td>0.028442</td>\n",
       "      <td>0.037540</td>\n",
       "      <td>0.014473</td>\n",
       "      <td>0.039574</td>\n",
       "      <td>0.000705</td>\n",
       "      <td>0.008632</td>\n",
       "      <td>0.002285</td>\n",
       "      <td>3|0%</td>\n",
       "      <td>POLYGON ((841638.221 4322195.437, 841677.155 4...</td>\n",
       "    </tr>\n",
       "  </tbody>\n",
       "</table>\n",
       "<p>4 rows × 103 columns</p>\n",
       "</div>"
      ],
      "text/plain": [
       "   ID          AREA  DATA DISTRICT  MEMBERS LOCKED  NAME  POPULATION   WHITE  \\\n",
       "0   1  14630.037109     4        4      1.0   None  None      734470  538330   \n",
       "1   2  49802.121094     1        1      1.0   None  None      734470  579523   \n",
       "2   3  15494.653320     2        2      1.0   None  None      734470  536135   \n",
       "3   4   2292.086426     3        3      1.0   None  None      734470  568474   \n",
       "\n",
       "   BLACK  ...  F_NH18_OTH  F_NH18_2_R  F_NH18_DOJ  F_NH18_DO1  F_NH18_DO2  \\\n",
       "0  50124  ...    0.002334    0.033813    0.052942    0.023621    0.028845   \n",
       "1  20476  ...    0.002325    0.025802    0.024857    0.018484    0.017643   \n",
       "2  63310  ...    0.002287    0.033545    0.068788    0.024427    0.015332   \n",
       "3  34899  ...    0.002554    0.028442    0.037540    0.014473    0.039574   \n",
       "\n",
       "   F_NH18_DO3  F_NH18_DO4  F_NH18_DO5  DISTRICT_L  \\\n",
       "0    0.001023    0.007322    0.003852        4|0%   \n",
       "1    0.000767    0.007343    0.002298        1|0%   \n",
       "2    0.001567    0.007433    0.003808        2|0%   \n",
       "3    0.000705    0.008632    0.002285        3|0%   \n",
       "\n",
       "                                            geometry  \n",
       "0  POLYGON ((507647.689 4234787.534, 507658.797 4...  \n",
       "1  POLYGON ((451853.181 4094965.934, 451812.694 4...  \n",
       "2  POLYGON ((754626.007 4383797.637, 754592.973 4...  \n",
       "3  POLYGON ((841638.221 4322195.437, 841677.155 4...  \n",
       "\n",
       "[4 rows x 103 columns]"
      ]
     },
     "execution_count": 59,
     "metadata": {},
     "output_type": "execute_result"
    }
   ],
   "source": [
    "cong_df.head()"
   ]
  },
  {
   "cell_type": "code",
   "execution_count": 60,
   "id": "2b8fbf45-f392-4996-9dc6-e9ee67d0e715",
   "metadata": {
    "tags": []
   },
   "outputs": [
    {
     "name": "stderr",
     "output_type": "stream",
     "text": [
      "100%|████████████████████████████████████████████| 4/4 [00:00<00:00, 120.19it/s]\n",
      "100%|█████████████████████████████████████████████| 4/4 [00:00<00:00, 69.16it/s]\n",
      "100%|█████████████████████████████████████████████| 4/4 [00:00<00:00, 10.47it/s]\n"
     ]
    }
   ],
   "source": [
    "election_df = add_district(cong_df, \"CD\", election_df, \"DISTRICT\")"
   ]
  },
  {
   "cell_type": "markdown",
   "id": "7bd6d556-61c8-4bb4-bd8c-f3188d86377a",
   "metadata": {},
   "source": [
    "This assignment did not assign two precincts that have no population (we checked this separately).  We'll drop those precincts and then make sure the population is the same."
   ]
  },
  {
   "cell_type": "code",
   "execution_count": 62,
   "id": "34fe913e-7277-47a9-8eb7-2e51257f027b",
   "metadata": {},
   "outputs": [],
   "source": [
    "election_df = election_df.dropna(subset=['CD'])"
   ]
  },
  {
   "cell_type": "code",
   "execution_count": 63,
   "id": "04497cb9-94fe-43ea-a6d1-1817dcb91bd4",
   "metadata": {},
   "outputs": [
    {
     "name": "stdout",
     "output_type": "stream",
     "text": [
      "population agrees\n"
     ]
    }
   ],
   "source": [
    "check_population(population_df, vest_base)"
   ]
  },
  {
   "cell_type": "code",
   "execution_count": 64,
   "id": "aaee6a30-6a18-473e-bd02-7881c1e94e68",
   "metadata": {},
   "outputs": [
    {
     "data": {
      "text/plain": [
       "Index(['2MOREVAP', 'AMINVAP', 'ASIANVAP', 'ATG18D', 'ATG18R', 'ATG22D',\n",
       "       'ATG22R', 'BVAP', 'COUNTYFP', 'GOV18D', 'GOV18O', 'GOV18R', 'GOV22D',\n",
       "       'GOV22O', 'GOV22R', 'HISP', 'HVAP', 'H_2MORE', 'H_AMIN', 'H_ASIAN',\n",
       "       'H_BLACK', 'H_NHPI', 'H_OTHER', 'H_WHITE', 'INS18D', 'INS18R', 'INS22D',\n",
       "       'INS22R', 'NAMELSAD', 'NHPIVAP', 'NH_2MORE', 'NH_AMIN', 'NH_ASIAN',\n",
       "       'NH_BLACK', 'NH_NHPI', 'NH_OTHER', 'NH_WHITE', 'OTHERVAP', 'PRE16D',\n",
       "       'PRE16O', 'PRE16R', 'PRE20D', 'PRE20O', 'PRE20R', 'SOS18D', 'SOS18O',\n",
       "       'SOS18R', 'SOS22D', 'SOS22O', 'SOS22R', 'TOTPOP', 'TRE18D', 'TRE18R',\n",
       "       'TRE22D', 'TRE22O', 'TRE22R', 'USS16D', 'USS16O', 'USS16R', 'USS20D',\n",
       "       'USS20O', 'USS20R', 'USS22D', 'USS22O', 'USS22R', 'VAP', 'VTDST',\n",
       "       'WVAP', 'geometry', 'SEND', 'HDIST', 'CD'],\n",
       "      dtype='object')"
      ]
     },
     "execution_count": 64,
     "metadata": {},
     "output_type": "execute_result"
    }
   ],
   "source": [
    "election_df.columns"
   ]
  },
  {
   "cell_type": "markdown",
   "id": "0bba365b-7d46-45ea-9b8b-400fc162a82f",
   "metadata": {},
   "source": [
    "### Put the base precinct year after the precinct information column"
   ]
  },
  {
   "cell_type": "code",
   "execution_count": 66,
   "id": "7086205b-49f4-44a7-be19-9eeac924e07b",
   "metadata": {},
   "outputs": [],
   "source": [
    "base_columns = {}\n",
    "if 'COUNTYFP' + year not in election_df.columns:\n",
    "    base_columns = {\n",
    "        'STATEFP':'STATEFP'+year,\n",
    "        'COUNTYFP':'COUNTYFP'+year,\n",
    "        'VTDST':'VTDST'+year,\n",
    "        'GEOID':'GEOID'+year,\n",
    "        'NAME':'NAME'+year,\n",
    "        'NAMELSAD':'NAMELSAD'+year\n",
    "    }\n",
    "election_df.rename(columns=base_columns, inplace = True)"
   ]
  },
  {
   "cell_type": "code",
   "execution_count": 67,
   "id": "cb28c798-be17-47c5-8a0e-dd3f51306325",
   "metadata": {},
   "outputs": [
    {
     "data": {
      "text/plain": [
       "Index(['2MOREVAP', 'AMINVAP', 'ASIANVAP', 'ATG18D', 'ATG18R', 'ATG22D',\n",
       "       'ATG22R', 'BVAP', 'COUNTYFP20', 'GOV18D', 'GOV18O', 'GOV18R', 'GOV22D',\n",
       "       'GOV22O', 'GOV22R', 'HISP', 'HVAP', 'H_2MORE', 'H_AMIN', 'H_ASIAN',\n",
       "       'H_BLACK', 'H_NHPI', 'H_OTHER', 'H_WHITE', 'INS18D', 'INS18R', 'INS22D',\n",
       "       'INS22R', 'NAMELSAD20', 'NHPIVAP', 'NH_2MORE', 'NH_AMIN', 'NH_ASIAN',\n",
       "       'NH_BLACK', 'NH_NHPI', 'NH_OTHER', 'NH_WHITE', 'OTHERVAP', 'PRE16D',\n",
       "       'PRE16O', 'PRE16R', 'PRE20D', 'PRE20O', 'PRE20R', 'SOS18D', 'SOS18O',\n",
       "       'SOS18R', 'SOS22D', 'SOS22O', 'SOS22R', 'TOTPOP', 'TRE18D', 'TRE18R',\n",
       "       'TRE22D', 'TRE22O', 'TRE22R', 'USS16D', 'USS16O', 'USS16R', 'USS20D',\n",
       "       'USS20O', 'USS20R', 'USS22D', 'USS22O', 'USS22R', 'VAP', 'VTDST20',\n",
       "       'WVAP', 'geometry', 'SEND', 'HDIST', 'CD'],\n",
       "      dtype='object')"
      ]
     },
     "execution_count": 67,
     "metadata": {},
     "output_type": "execute_result"
    }
   ],
   "source": [
    "election_df.columns"
   ]
  },
  {
   "cell_type": "code",
   "execution_count": 68,
   "id": "e355b434-804c-4a5c-a8aa-cf2e966e3f87",
   "metadata": {},
   "outputs": [],
   "source": [
    "election_df = election_df.rename(columns={'NAMELSAD':'NAMELSAD'+year})"
   ]
  },
  {
   "cell_type": "code",
   "execution_count": 69,
   "id": "3ea62760-cc32-4fcc-8475-c3ba956cb901",
   "metadata": {},
   "outputs": [],
   "source": [
    "# reorder the columns\n",
    "fixed_columns = [\n",
    "    'COUNTYFP'+year,\n",
    "    'VTDST'+year,\n",
    "    'NAMELSAD'+year,\n",
    "    'CD',\n",
    "    'SEND',\n",
    "    'HDIST',\n",
    "    'TOTPOP',\n",
    "    'NH_2MORE',\n",
    "    'NH_AMIN',\n",
    "    'NH_ASIAN',\n",
    "    'NH_BLACK',\n",
    "    'NH_NHPI',\n",
    "    'NH_OTHER',\n",
    "    'NH_WHITE',\n",
    "    'HISP',\n",
    "    'H_AMIN',\n",
    "    'H_ASIAN',\n",
    "    'H_BLACK',\n",
    "    'H_NHPI',\n",
    "    'H_OTHER',\n",
    "    'H_WHITE',\n",
    "    'H_2MORE',\n",
    "    'VAP',\n",
    "    'HVAP',\n",
    "    'WVAP',\n",
    "    'BVAP',\n",
    "    'AMINVAP',\n",
    "    'ASIANVAP',\n",
    "    'NHPIVAP',\n",
    "    'OTHERVAP',\n",
    "    '2MOREVAP']\n",
    "\n",
    "election_columns = [col for col in election_df.columns if col not in fixed_columns]\n",
    "final_col = fixed_columns + election_columns\n",
    "election_df = election_df[final_col]"
   ]
  },
  {
   "cell_type": "code",
   "execution_count": 70,
   "id": "722788f7-89c6-477d-a2dc-2296739fff8c",
   "metadata": {},
   "outputs": [
    {
     "data": {
      "text/plain": [
       "['COUNTYFP20',\n",
       " 'VTDST20',\n",
       " 'NAMELSAD20',\n",
       " 'CD',\n",
       " 'SEND',\n",
       " 'HDIST',\n",
       " 'TOTPOP',\n",
       " 'NH_2MORE',\n",
       " 'NH_AMIN',\n",
       " 'NH_ASIAN',\n",
       " 'NH_BLACK',\n",
       " 'NH_NHPI',\n",
       " 'NH_OTHER',\n",
       " 'NH_WHITE',\n",
       " 'HISP',\n",
       " 'H_AMIN',\n",
       " 'H_ASIAN',\n",
       " 'H_BLACK',\n",
       " 'H_NHPI',\n",
       " 'H_OTHER',\n",
       " 'H_WHITE',\n",
       " 'H_2MORE',\n",
       " 'VAP',\n",
       " 'HVAP',\n",
       " 'WVAP',\n",
       " 'BVAP',\n",
       " 'AMINVAP',\n",
       " 'ASIANVAP',\n",
       " 'NHPIVAP',\n",
       " 'OTHERVAP',\n",
       " '2MOREVAP',\n",
       " 'ATG18D',\n",
       " 'ATG18R',\n",
       " 'ATG22D',\n",
       " 'ATG22R',\n",
       " 'GOV18D',\n",
       " 'GOV18O',\n",
       " 'GOV18R',\n",
       " 'GOV22D',\n",
       " 'GOV22O',\n",
       " 'GOV22R',\n",
       " 'INS18D',\n",
       " 'INS18R',\n",
       " 'INS22D',\n",
       " 'INS22R',\n",
       " 'PRE16D',\n",
       " 'PRE16O',\n",
       " 'PRE16R',\n",
       " 'PRE20D',\n",
       " 'PRE20O',\n",
       " 'PRE20R',\n",
       " 'SOS18D',\n",
       " 'SOS18O',\n",
       " 'SOS18R',\n",
       " 'SOS22D',\n",
       " 'SOS22O',\n",
       " 'SOS22R',\n",
       " 'TRE18D',\n",
       " 'TRE18R',\n",
       " 'TRE22D',\n",
       " 'TRE22O',\n",
       " 'TRE22R',\n",
       " 'USS16D',\n",
       " 'USS16O',\n",
       " 'USS16R',\n",
       " 'USS20D',\n",
       " 'USS20O',\n",
       " 'USS20R',\n",
       " 'USS22D',\n",
       " 'USS22O',\n",
       " 'USS22R',\n",
       " 'geometry']"
      ]
     },
     "execution_count": 70,
     "metadata": {},
     "output_type": "execute_result"
    }
   ],
   "source": [
    "list(election_df.columns)"
   ]
  },
  {
   "cell_type": "code",
   "execution_count": 71,
   "id": "1b198042-dbd4-408e-bfd4-4494f2b49245",
   "metadata": {
    "tags": []
   },
   "outputs": [],
   "source": [
    "# store the result in directory \"ks\"\n",
    "directory = \"./{}\".format(state_ab)\n",
    "if not os.path.exists(directory):\n",
    "    os.makedirs(directory)\n",
    "shapefile_path = \"./{}/{}.shp\".format(state_ab, state_ab)\n",
    "geojson_path = './{}/{}.geojson'.format(state_ab, state_ab)\n",
    "json_path = \"./{}.json\".format(state_ab, state_ab)\n",
    "\n",
    "# Check if the shapefile or geojson file already exists\n",
    "if os.path.exists(shapefile_path):\n",
    "    os.remove(shapefile_path)\n",
    "if os.path.exists(geojson_path):\n",
    "    os.remove(geojson_path)\n",
    "\n",
    "election_df.to_file(shapefile_path)\n",
    "election_df.to_file(geojson_path, driver='GeoJSON')\n",
    "\n",
    "# Only do once to build json and read from file when generating ensembles\n",
    "graph = Graph.from_file(shapefile_path, ignore_errors=True)\n",
    "graph.to_json(json_path)"
   ]
  },
  {
   "cell_type": "code",
   "execution_count": 72,
   "id": "6d74115d-97ac-4ad0-b354-7335cdcedcea",
   "metadata": {},
   "outputs": [
    {
     "data": {
      "text/plain": [
       "<Axes: >"
      ]
     },
     "execution_count": 72,
     "metadata": {},
     "output_type": "execute_result"
    },
    {
     "data": {
      "image/png": "[encoded data removed]",
      "text/plain": [
       "<Figure size 640x480 with 1 Axes>"
      ]
     },
     "metadata": {},
     "output_type": "display_data"
    }
   ],
   "source": [
    "shapefile_path = \"./{}/{}.shp\".format(state_ab, state_ab)\n",
    "shape=gpd.read_file(shapefile_path)\n",
    "shape.plot()"
   ]
  },
  {
   "cell_type": "code",
   "execution_count": null,
   "id": "41520040-aaeb-438d-85b5-abffd3b6a978",
   "metadata": {},
   "outputs": [],
   "source": []
  }
 ],
 "metadata": {
  "kernelspec": {
   "display_name": "gerry",
   "language": "python",
   "name": "gerry"
  },
  "language_info": {
   "codemirror_mode": {
    "name": "ipython",
    "version": 3
   },
   "file_extension": ".py",
   "mimetype": "text/x-python",
   "name": "python",
   "nbconvert_exporter": "python",
   "pygments_lexer": "ipython3",
   "version": "3.11.4"
  }
 },
 "nbformat": 4,
 "nbformat_minor": 5
}
