{
 "cells": [
  {
   "cell_type": "markdown",
   "id": "48a72edc-10d5-447e-bf59-a42b79b13098",
   "metadata": {},
   "source": [
    "# All the parameters that need to be changed"
   ]
  },
  {
   "cell_type": "code",
   "execution_count": 1,
   "id": "55545525-1a53-4366-88fa-4b4ecc94ecad",
   "metadata": {},
   "outputs": [],
   "source": [
    "# Kansas\n",
    "state_ab = \"ks\""
   ]
  },
  {
   "cell_type": "markdown",
   "id": "c3e1bdeb-55c5-4c10-83b5-de352e6d559d",
   "metadata": {
    "tags": []
   },
   "source": [
    "## Data\n",
    "1. Download all the data in directory \"il_data\"\n",
    "2. Eextract them all"
   ]
  },
  {
   "cell_type": "code",
   "execution_count": 2,
   "id": "1cbb32f0-472b-4441-abf2-6af58699cb5f",
   "metadata": {},
   "outputs": [],
   "source": [
    "data_folder = state_ab + \"_data/\"\n",
    "population1_data = \"./{}{}_pl2020_b/{}_pl2020_p1_b.shp\".format(data_folder, state_ab, state_ab)\n",
    "population2_data = \"./{}{}_pl2020_b/{}_pl2020_p2_b.shp\".format(data_folder, state_ab, state_ab)\n",
    "vap_data =  \"./{}{}_pl2020_b/{}_pl2020_p4_b.shp\".format(data_folder, state_ab, state_ab)\n",
    "vest20_data = \"./{}{}_vest_20/{}_vest_20.shp\".format(data_folder, state_ab, state_ab)\n",
    "vest18_data = \"./{}{}_vest_18/{}_vest_18.shp\".format(data_folder, state_ab, state_ab)\n",
    "vest16_data = \"./{}{}_vest_16/{}_vest_16.shp\".format(data_folder, state_ab, state_ab)\n",
    "cd_data = \"./{}{}_cong_adopted_2022/M3_AdAstra_2 for KLRD TR.shp\".format(data_folder, state_ab)\n",
    "send_data = \"./{}{}_sldu_adopted_2022/Liberty_3 for KLRD TR.shp\".format(data_folder, state_ab)\n",
    "hdist_data = \"./{}{}_sldl_adopted_2022/Freestate 3F for KLRD TR.shp\".format(data_folder, state_ab)"
   ]
  },
  {
   "cell_type": "markdown",
   "id": "2594a66a-efb1-443f-8b0a-b2c73257f1cc",
   "metadata": {},
   "source": [
    "## Parameters that needs to be manually checked\n",
    "\n",
    "### base vest data\n",
    "start_col = 5\\\n",
    "vest_base_data = vest20\\\n",
    "year = '20'\n",
    "\n",
    "### district data\n",
    "district column name of cong_df, send, hdist when calling add_dist()"
   ]
  },
  {
   "cell_type": "markdown",
   "id": "d9cfe42b-cfd8-4ad4-b255-31268cb35669",
   "metadata": {},
   "source": [
    "# Program starts"
   ]
  },
  {
   "cell_type": "code",
   "execution_count": 3,
   "id": "49a264d4-c255-4393-b5ae-74b6f7c645da",
   "metadata": {},
   "outputs": [
    {
     "name": "stderr",
     "output_type": "stream",
     "text": [
      "/opt/anaconda3/lib/python3.9/site-packages/pandas/core/computation/expressions.py:21: UserWarning: Pandas requires version '2.8.4' or newer of 'numexpr' (version '2.8.1' currently installed).\n",
      "  from pandas.core.computation.check import NUMEXPR_INSTALLED\n",
      "/opt/anaconda3/lib/python3.9/site-packages/pandas/core/arrays/masked.py:60: UserWarning: Pandas requires version '1.3.6' or newer of 'bottleneck' (version '1.3.4' currently installed).\n",
      "  from pandas.core import (\n"
     ]
    }
   ],
   "source": [
    "import pandas as pd\n",
    "import geopandas as gpd\n",
    "import maup\n",
    "import time\n",
    "from maup import smart_repair\n",
    "from gerrychain import Graph\n",
    "import os\n",
    "\n",
    "maup.progress.enabled = True"
   ]
  },
  {
   "cell_type": "code",
   "execution_count": 4,
   "id": "f78d28b6-abb4-4444-aa7e-f0eb73dab3f2",
   "metadata": {},
   "outputs": [],
   "source": [
    "import warnings\n",
    "warnings.filterwarnings(\"ignore\")"
   ]
  },
  {
   "cell_type": "code",
   "execution_count": 5,
   "id": "378425b3-9819-41bd-8212-2e031b571cf2",
   "metadata": {},
   "outputs": [],
   "source": [
    "def do_smart_repair(df):\n",
    "    # change it to the UTM it needs for smart_repair\n",
    "    df = df.to_crs(df.estimate_utm_crs())\n",
    "    df = smart_repair(df)\n",
    "    \n",
    "    # check maup doctor again to see if smart repair works\n",
    "    if maup.doctor(df) == True:\n",
    "        # change it back to this UTM for this data\n",
    "        df = df.to_crs('EPSG:4269')\n",
    "    else:\n",
    "        raise Exception('maup.doctor failed')\n",
    "    \n",
    "    return df"
   ]
  },
  {
   "cell_type": "code",
   "execution_count": 6,
   "id": "df3945da-c3af-41a8-9511-a5aba33fef0b",
   "metadata": {},
   "outputs": [],
   "source": [
    "def add_district(dist_df, dist_name, election_df, col_name):\n",
    "    # check if it needs to be smart_repair\n",
    "    if maup.doctor(dist_df) != True:\n",
    "        dist_df = do_smart_repair(dist_df)\n",
    "\n",
    "    election_df = gpd.GeoDataFrame(election_df, crs=\"EPSG:4269\")\n",
    "\n",
    "    # assigne the pricincts\n",
    "    precincts_to_district_assignment = maup.assign(election_df.geometry, dist_df.geometry)\n",
    "    election_df[dist_name] = precincts_to_district_assignment\n",
    "    for precinct_index in range(len(election_df)):\n",
    "        election_df.at[precinct_index, dist_name] = dist_df.at[election_df.at[precinct_index, dist_name], col_name]\n",
    "\n",
    "    return election_df"
   ]
  },
  {
   "cell_type": "code",
   "execution_count": 7,
   "id": "29c38a31-6707-4ab3-a9e4-38d69ce6838c",
   "metadata": {},
   "outputs": [],
   "source": [
    "def rename(original, year):\n",
    "    party = original[6]\n",
    "    if party == 'R' or party == 'D':\n",
    "        return original[3:6] + year + original[6]\n",
    "    else:\n",
    "        return original[3:6] + year + 'O'"
   ]
  },
  {
   "cell_type": "code",
   "execution_count": 8,
   "id": "9cbd02f8-308e-4fe9-804a-6bc8474b749b",
   "metadata": {},
   "outputs": [],
   "source": [
    "def check_population(population, df):\n",
    "    pop_check = pd.DataFrame({\n",
    "        'pop_col': pop_col,\n",
    "        'population_df': population[pop_col].sum(), \n",
    "        'vest_base': df[pop_col].sum(),\n",
    "        'equal': [x == y for x, y in zip(population[pop_col].sum(), df[pop_col].sum())]\n",
    "    })\n",
    "    if pop_check['equal'].mean() < 1:\n",
    "        print(pop_check)\n",
    "        raise Exception(\"population doesn't agree\")\n",
    "\n",
    "    else:\n",
    "        print(\"population agrees\")"
   ]
  },
  {
   "cell_type": "code",
   "execution_count": 9,
   "id": "c4508baf-84cd-4a31-97ad-059164232e8e",
   "metadata": {},
   "outputs": [],
   "source": [
    "def add_vest(vest, df, year, population, start_col):    \n",
    "     # check if it needs to be smart_repair\n",
    "    if maup.doctor(vest) != True:\n",
    "        vest = do_smart_repair(vest)\n",
    "    \n",
    "    # rename the columns\n",
    "    original_col = vest.columns[start_col:-1]\n",
    "    new_col = [rename(i, year) for i in original_col]\n",
    "    rename_dict = dict(zip(original_col, new_col))\n",
    "    vest = vest.rename(columns=rename_dict)\n",
    "    vest = vest.groupby(level=0, axis=1).sum() # combine all the other party's vote into columns with sufix \"O\"\n",
    "    col_name = list(set(new_col))\n",
    "    col_name.sort()\n",
    "    \n",
    "    # make the blocks from precincts by weight\n",
    "    vest = gpd.GeoDataFrame(vest, crs=\"EPSG:4269\")\n",
    "    election_in_block = population[[\"VAP\", 'geometry']] # population_df is in block scale\n",
    "    blocks_to_precincts_assignment = maup.assign(election_in_block.geometry, vest.geometry)\n",
    "    weights = election_in_block[\"VAP\"] / blocks_to_precincts_assignment.map(election_in_block[\"VAP\"].groupby(blocks_to_precincts_assignment).sum())\n",
    "    weights = weights.fillna(0)\n",
    "    prorated = maup.prorate(blocks_to_precincts_assignment, vest[col_name], weights)\n",
    "    election_in_block[col_name] = prorated\n",
    "    \n",
    "    # assign blocks to precincts\n",
    "    election_in_block = gpd.GeoDataFrame(election_in_block, crs=\"EPSG:4269\")\n",
    "    df = gpd.GeoDataFrame(df, crs=\"EPSG:4269\")\n",
    "    block_to_pricinct_assginment = maup.assign(election_in_block.geometry, df.geometry)\n",
    "    df[col_name] = election_in_block[col_name].groupby(block_to_pricinct_assginment).sum()\n",
    "    df = df.groupby(level=0, axis=1).sum()\n",
    "    \n",
    "    # check if population agrees\n",
    "    check_population(population, df)\n",
    "    \n",
    "    return df"
   ]
  },
  {
   "cell_type": "markdown",
   "id": "ab6ce8f5-f237-4d6c-8425-cd8a0b080f65",
   "metadata": {},
   "source": [
    "## Read the census data"
   ]
  },
  {
   "cell_type": "code",
   "execution_count": 10,
   "id": "185d2b84-d37f-4f24-86c1-1bcd0b4347e2",
   "metadata": {},
   "outputs": [],
   "source": [
    "population1_df = gpd.read_file(population1_data)\n",
    "population2_df = gpd.read_file(population2_data)\n",
    "vap_df = gpd.read_file(vap_data)"
   ]
  },
  {
   "cell_type": "code",
   "execution_count": 11,
   "id": "57b3b9bb-9721-469d-8eee-0dd5eb0e6015",
   "metadata": {},
   "outputs": [],
   "source": [
    "population2_df = population2_df.drop(columns=['SUMLEV', 'LOGRECNO', 'GEOID', 'COUNTY', 'geometry'])\n",
    "vap_df = vap_df.drop(columns=['SUMLEV', 'LOGRECNO', 'GEOID', 'COUNTY', 'geometry'])"
   ]
  },
  {
   "cell_type": "code",
   "execution_count": 12,
   "id": "daa935f7-bc02-4856-adb0-9cc9cf31ffca",
   "metadata": {},
   "outputs": [],
   "source": [
    "population_df = pd.merge(population1_df, population2_df, on='GEOID20')\n",
    "population_df = pd.merge(population_df, vap_df, on='GEOID20')"
   ]
  },
  {
   "cell_type": "code",
   "execution_count": 13,
   "id": "0845f50e-9920-404a-8284-c47df7b0f6ce",
   "metadata": {},
   "outputs": [],
   "source": [
    "rename_dict = {'P0020001': 'TOTPOP', 'P0020002': 'HISP', 'P0020005': 'NH_WHITE', 'P0020006': 'NH_BLACK', 'P0020007': 'NH_AMIN',\n",
    "               'P0020008': 'NH_ASIAN', 'P0020009': 'NH_NHPI', 'P0020010': 'NH_OTHER', 'P0020011': 'NH_2MORE',\n",
    "               'P0040001': 'VAP', 'P0040002': 'HVAP', 'P0040005': 'WVAP', 'P0040006': 'BVAP', 'P0040007': 'AMINVAP',\n",
    "               'P0040008': 'ASIANVAP', 'P0040009': 'NHPIVAP', 'P0040010': 'OTHERVAP', 'P0040011': '2MOREVAP'}"
   ]
  },
  {
   "cell_type": "code",
   "execution_count": 14,
   "id": "4d4f9723-ad23-46ff-bbd0-8d4ab628b69b",
   "metadata": {},
   "outputs": [],
   "source": [
    "population_df.rename(columns=rename_dict, inplace = True)"
   ]
  },
  {
   "cell_type": "code",
   "execution_count": 15,
   "id": "9550a841-5692-4d5f-a7f1-131d53eb9f12",
   "metadata": {},
   "outputs": [],
   "source": [
    "population_df['H_WHITE'] = population_df.apply(lambda t: t['P0010003'] - t['NH_WHITE'], 1)\n",
    "population_df['H_BLACK'] = population_df.apply(lambda t: t['P0010004'] - t['NH_BLACK'], 1)\n",
    "population_df['H_AMIN'] = population_df.apply(lambda t: t['P0010005'] - t['NH_AMIN'], 1)\n",
    "population_df['H_ASIAN'] = population_df.apply(lambda t: t['P0010006'] - t['NH_ASIAN'], 1)\n",
    "population_df['H_NHPI'] = population_df.apply(lambda t: t['P0010007'] - t['NH_NHPI'], 1)\n",
    "population_df['H_OTHER'] = population_df.apply(lambda t: t['P0010008'] - t['NH_OTHER'], 1)\n",
    "population_df['H_2MORE'] = population_df.apply(lambda t: t['P0010009'] - t['NH_2MORE'], 1)"
   ]
  },
  {
   "cell_type": "markdown",
   "id": "e1e89689-06e1-4937-9bee-b0442bfc33d5",
   "metadata": {},
   "source": [
    "# Read the base vest data\n",
    "Now using it as a \"base precinct\", but it could be vest 18 or vest 16 if vest 20 is not working"
   ]
  },
  {
   "cell_type": "code",
   "execution_count": 16,
   "id": "9f3f7fd2-4b38-4b7f-8352-b960681a83c0",
   "metadata": {},
   "outputs": [],
   "source": [
    "def add_vest_base(vest, start_col, year):\n",
    "    original_col = vest.columns[start_col:-1]\n",
    "    new_col = [rename(i, year) for i in original_col]\n",
    "    rename_dict = dict(zip(original_col, new_col))\n",
    "    vest = vest.rename(columns=rename_dict)\n",
    "    vest = vest.groupby(level=0, axis=1).sum()\n",
    "    vest = gpd.GeoDataFrame(vest, crs=\"EPSG:4269\")\n",
    "    \n",
    "    return vest"
   ]
  },
  {
   "cell_type": "markdown",
   "id": "bcfb3af1-db89-4463-98d8-3a0192067bb4",
   "metadata": {},
   "source": [
    "### Check if vest 20 can be used as base"
   ]
  },
  {
   "cell_type": "code",
   "execution_count": 17,
   "id": "397e9936-bfde-4b09-9dcb-207733dfb2dd",
   "metadata": {},
   "outputs": [],
   "source": [
    "vest20 = gpd.read_file(vest20_data)"
   ]
  },
  {
   "cell_type": "code",
   "execution_count": 18,
   "id": "dabe5bd2-39a8-40a6-93dc-a989a4c702b6",
   "metadata": {},
   "outputs": [
    {
     "name": "stderr",
     "output_type": "stream",
     "text": [
      "100%|██████████████████████████████████████| 4062/4062 [00:08<00:00, 501.85it/s]\n"
     ]
    },
    {
     "name": "stdout",
     "output_type": "stream",
     "text": [
      "There are 1289 overlaps.\n",
      "There are 9674 holes.\n",
      "There are some invalid geometries.\n",
      "Snapping all geometries to a grid with precision 10^( -5 ) to avoid GEOS errors.\n",
      "Identifying overlaps...\n"
     ]
    },
    {
     "name": "stderr",
     "output_type": "stream",
     "text": [
      "100%|█████████████████████████████████████| 6644/6644 [00:02<00:00, 2835.29it/s]\n"
     ]
    },
    {
     "name": "stdout",
     "output_type": "stream",
     "text": [
      "Resolving overlaps...\n",
      "Assigning order 2 pieces...\n",
      "Assigning order 3 pieces...\n",
      "Filling gaps...\n"
     ]
    },
    {
     "name": "stderr",
     "output_type": "stream",
     "text": [
      "Gaps to simplify: 1201it [23:41,  1.18s/it]                                     \n",
      "Gaps to fill: 100%|███████████████████████████| 112/112 [02:35<00:00,  1.39s/it]\n",
      "100%|██████████████████████████████████████| 4062/4062 [00:04<00:00, 823.95it/s]\n"
     ]
    }
   ],
   "source": [
    "if maup.doctor(vest20) != True:\n",
    "    vest20 = do_smart_repair(vest20)"
   ]
  },
  {
   "cell_type": "markdown",
   "id": "20718edd-b876-4d8d-8509-5eeee4b9b9be",
   "metadata": {},
   "source": [
    "### If it is true for maup doctor, we will use it as the base vest data.\n",
    "Check where the election column starts, this should be the same for all vest data in that state"
   ]
  },
  {
   "cell_type": "code",
   "execution_count": 19,
   "id": "2d744be1-7568-4b94-a383-17d219ac128b",
   "metadata": {},
   "outputs": [
    {
     "data": {
      "text/plain": [
       "Index(['COUNTYFP', 'VTDST', 'NAMELSAD', 'G20PREDBID', 'G20PRERTRU',\n",
       "       'G20PRELJOR', 'G20USSDBOL', 'G20USSRMAR', 'G20USSLBUC', 'geometry'],\n",
       "      dtype='object')"
      ]
     },
     "execution_count": 19,
     "metadata": {},
     "output_type": "execute_result"
    }
   ],
   "source": [
    "vest20.columns"
   ]
  },
  {
   "cell_type": "markdown",
   "id": "65620cab-599f-4232-818e-e85846d02694",
   "metadata": {},
   "source": [
    "## Parameters that need to be checked"
   ]
  },
  {
   "cell_type": "code",
   "execution_count": 20,
   "id": "4200a0f8-29dd-42f9-96e4-ff27188ce32a",
   "metadata": {},
   "outputs": [],
   "source": [
    "start_col = 3\n",
    "vest_base_data = vest20\n",
    "year = '20'"
   ]
  },
  {
   "cell_type": "code",
   "execution_count": 21,
   "id": "728420ec-9df2-4771-ae4c-1832fe3fb12f",
   "metadata": {},
   "outputs": [],
   "source": [
    "vest_base = add_vest_base(vest_base_data, start_col, year)"
   ]
  },
  {
   "cell_type": "code",
   "execution_count": 22,
   "id": "10e48467-d392-4312-b15f-bf18106f354c",
   "metadata": {},
   "outputs": [
    {
     "name": "stderr",
     "output_type": "stream",
     "text": [
      "100%|██████████████████████████████████████| 4062/4062 [00:05<00:00, 677.89it/s]\n",
      "100%|███████████████████████████████████████| 4062/4062 [00:41<00:00, 98.30it/s]\n"
     ]
    }
   ],
   "source": [
    "# vap and population have the same GEOID20\n",
    "blocks_to_precincts_assignment = maup.assign(population_df.geometry, vest_base.geometry)"
   ]
  },
  {
   "cell_type": "code",
   "execution_count": 23,
   "id": "ac015a92-391c-48c4-b26a-5c511b58e3ab",
   "metadata": {},
   "outputs": [],
   "source": [
    "pop_col = ['TOTPOP', 'HISP', 'NH_WHITE', 'NH_BLACK', 'NH_AMIN', 'NH_ASIAN', 'NH_NHPI', 'NH_OTHER', 'NH_2MORE', 'H_WHITE', 'H_BLACK', 'H_AMIN', 'H_ASIAN', 'H_NHPI', 'H_OTHER', 'H_2MORE', 'VAP', 'HVAP', 'WVAP', 'BVAP', 'AMINVAP', 'ASIANVAP', 'NHPIVAP', 'OTHERVAP', '2MOREVAP']"
   ]
  },
  {
   "cell_type": "code",
   "execution_count": 24,
   "id": "f91b6866-727d-40c9-9d43-4a0e6ae8c0e2",
   "metadata": {},
   "outputs": [],
   "source": [
    "vest_base[pop_col] = population_df[pop_col].groupby(blocks_to_precincts_assignment).sum()"
   ]
  },
  {
   "cell_type": "code",
   "execution_count": 25,
   "id": "ead5880d-f5f1-44f0-8024-ff4789ff2f15",
   "metadata": {},
   "outputs": [],
   "source": [
    "election_df = gpd.GeoDataFrame(vest_base, crs=\"EPSG:4269\")"
   ]
  },
  {
   "cell_type": "markdown",
   "id": "cf1aefdb-30e0-4d1f-9261-01a513f4e1d3",
   "metadata": {},
   "source": [
    "### Check if the population agrees"
   ]
  },
  {
   "cell_type": "code",
   "execution_count": 26,
   "id": "d6ff200d-d1d6-4f7d-ba3b-142cddc0eb85",
   "metadata": {},
   "outputs": [
    {
     "name": "stdout",
     "output_type": "stream",
     "text": [
      "population agrees\n"
     ]
    }
   ],
   "source": [
    "check_population(population_df, vest_base)"
   ]
  },
  {
   "cell_type": "markdown",
   "id": "2b677d1a-cbe3-47aa-ae8a-761d0dfc7ad1",
   "metadata": {},
   "source": [
    "# Add more vest data"
   ]
  },
  {
   "cell_type": "code",
   "execution_count": 27,
   "id": "a404637a-46a1-41f4-bd81-6842a9a7274c",
   "metadata": {},
   "outputs": [],
   "source": [
    "vest18 = gpd.read_file(vest18_data)"
   ]
  },
  {
   "cell_type": "code",
   "execution_count": 28,
   "id": "d94c3765-b784-4e9b-9b29-0c8a3bbdbf0d",
   "metadata": {},
   "outputs": [
    {
     "data": {
      "text/plain": [
       "Index(['COUNTYFP', 'VTDST', 'NAMELSAD', 'G18GOVDKEL', 'G18GOVRKOB',\n",
       "       'G18GOVIORM', 'G18GOVLCAL', 'G18GOVIKLO', 'G18SOSRSCH', 'G18SOSDMCC',\n",
       "       'G18SOSLHOD', 'G18ATGRSCH', 'G18ATGDSWA', 'G18INSDMCL', 'G18INSRSCH',\n",
       "       'G18TRERLAT', 'G18TREDFRA', 'geometry'],\n",
       "      dtype='object')"
      ]
     },
     "execution_count": 28,
     "metadata": {},
     "output_type": "execute_result"
    }
   ],
   "source": [
    "vest18.columns"
   ]
  },
  {
   "cell_type": "code",
   "execution_count": 29,
   "id": "5528f64a-1b5c-4b9f-b7cf-aefa45d4d25f",
   "metadata": {},
   "outputs": [
    {
     "name": "stderr",
     "output_type": "stream",
     "text": [
      "100%|██████████████████████████████████████| 4051/4051 [00:07<00:00, 523.51it/s]\n"
     ]
    },
    {
     "name": "stdout",
     "output_type": "stream",
     "text": [
      "There are 1137 overlaps.\n",
      "There are 7362 holes.\n",
      "There are some invalid geometries.\n",
      "Snapping all geometries to a grid with precision 10^( -5 ) to avoid GEOS errors.\n",
      "Identifying overlaps...\n"
     ]
    },
    {
     "name": "stderr",
     "output_type": "stream",
     "text": [
      "100%|█████████████████████████████████████| 6220/6220 [00:01<00:00, 3113.58it/s]\n"
     ]
    },
    {
     "name": "stdout",
     "output_type": "stream",
     "text": [
      "Resolving overlaps...\n",
      "Assigning order 2 pieces...\n",
      "Assigning order 3 pieces...\n",
      "Filling gaps...\n"
     ]
    },
    {
     "name": "stderr",
     "output_type": "stream",
     "text": [
      "Gaps to simplify: 1019it [21:05,  1.24s/it]                                     \n",
      "Gaps to fill: 100%|█████████████████████████████| 72/72 [01:29<00:00,  1.24s/it]\n",
      "100%|██████████████████████████████████████| 4051/4051 [00:04<00:00, 883.64it/s]\n",
      "100%|██████████████████████████████████████| 4051/4051 [00:04<00:00, 810.27it/s]\n",
      "100%|██████████████████████████████████████| 4051/4051 [00:39<00:00, 102.10it/s]\n",
      "100%|██████████████████████████████████████| 4062/4062 [00:05<00:00, 705.73it/s]\n",
      "100%|██████████████████████████████████████| 4062/4062 [00:38<00:00, 104.81it/s]\n"
     ]
    },
    {
     "name": "stdout",
     "output_type": "stream",
     "text": [
      "population agrees\n"
     ]
    }
   ],
   "source": [
    "# check the result here\n",
    "election_df = add_vest(vest18, election_df, '18', population_df, start_col)"
   ]
  },
  {
   "cell_type": "code",
   "execution_count": 30,
   "id": "4d7476dd-c003-4fa5-ab9b-8ed6f75bed39",
   "metadata": {
    "tags": []
   },
   "outputs": [
    {
     "name": "stderr",
     "output_type": "stream",
     "text": [
      "100%|██████████████████████████████████████| 4021/4021 [00:06<00:00, 584.43it/s]\n"
     ]
    },
    {
     "name": "stdout",
     "output_type": "stream",
     "text": [
      "There are 1323 overlaps.\n",
      "There are 11091 holes.\n",
      "There are some invalid geometries.\n",
      "Snapping all geometries to a grid with precision 10^( -5 ) to avoid GEOS errors.\n",
      "Identifying overlaps...\n"
     ]
    },
    {
     "name": "stderr",
     "output_type": "stream",
     "text": [
      "100%|█████████████████████████████████████| 6214/6214 [00:01<00:00, 3133.89it/s]\n"
     ]
    },
    {
     "name": "stdout",
     "output_type": "stream",
     "text": [
      "Resolving overlaps...\n",
      "Assigning order 2 pieces...\n",
      "Assigning order 3 pieces...\n",
      "Filling gaps...\n"
     ]
    },
    {
     "name": "stderr",
     "output_type": "stream",
     "text": [
      "Gaps to simplify: 1023it [21:13,  1.25s/it]                                     \n",
      "Gaps to fill: 100%|█████████████████████████████| 73/73 [01:29<00:00,  1.22s/it]\n",
      "100%|██████████████████████████████████████| 4021/4021 [00:04<00:00, 885.82it/s]\n",
      "100%|██████████████████████████████████████| 4021/4021 [00:04<00:00, 830.72it/s]\n",
      "100%|██████████████████████████████████████| 4021/4021 [00:38<00:00, 104.53it/s]\n",
      "100%|██████████████████████████████████████| 4062/4062 [00:04<00:00, 898.72it/s]\n",
      "100%|██████████████████████████████████████| 4062/4062 [00:37<00:00, 108.07it/s]\n"
     ]
    },
    {
     "name": "stdout",
     "output_type": "stream",
     "text": [
      "population agrees\n"
     ]
    }
   ],
   "source": [
    "vest16 = gpd.read_file(vest16_data)\n",
    "election_df = add_vest(vest16, election_df, '16', population_df, start_col)"
   ]
  },
  {
   "cell_type": "markdown",
   "id": "10cf83d4-6005-485b-8193-c0149869a97e",
   "metadata": {},
   "source": [
    "## Add the district data"
   ]
  },
  {
   "cell_type": "code",
   "execution_count": 31,
   "id": "a0ccb606-7fe4-4b0a-998b-337d31f4abc5",
   "metadata": {},
   "outputs": [],
   "source": [
    "cong_df = gpd.read_file(cd_data)\n",
    "send = gpd.read_file(send_data)\n",
    "hdist = gpd.read_file(hdist_data)"
   ]
  },
  {
   "cell_type": "code",
   "execution_count": 32,
   "id": "901ce68a-746d-4324-9c5c-45868b5407ef",
   "metadata": {},
   "outputs": [
    {
     "data": {
      "text/html": [
       "<div>\n",
       "<style scoped>\n",
       "    .dataframe tbody tr th:only-of-type {\n",
       "        vertical-align: middle;\n",
       "    }\n",
       "\n",
       "    .dataframe tbody tr th {\n",
       "        vertical-align: top;\n",
       "    }\n",
       "\n",
       "    .dataframe thead th {\n",
       "        text-align: right;\n",
       "    }\n",
       "</style>\n",
       "<table border=\"1\" class=\"dataframe\">\n",
       "  <thead>\n",
       "    <tr style=\"text-align: right;\">\n",
       "      <th></th>\n",
       "      <th>ID</th>\n",
       "      <th>AREA</th>\n",
       "      <th>DATA</th>\n",
       "      <th>DISTRICT</th>\n",
       "      <th>MEMBERS</th>\n",
       "      <th>LOCKED</th>\n",
       "      <th>NAME</th>\n",
       "      <th>POPULATION</th>\n",
       "      <th>WHITE</th>\n",
       "      <th>BLACK</th>\n",
       "      <th>...</th>\n",
       "      <th>F_NH18_OTH</th>\n",
       "      <th>F_NH18_2_R</th>\n",
       "      <th>F_NH18_DOJ</th>\n",
       "      <th>F_NH18_DO1</th>\n",
       "      <th>F_NH18_DO2</th>\n",
       "      <th>F_NH18_DO3</th>\n",
       "      <th>F_NH18_DO4</th>\n",
       "      <th>F_NH18_DO5</th>\n",
       "      <th>DISTRICT_L</th>\n",
       "      <th>geometry</th>\n",
       "    </tr>\n",
       "  </thead>\n",
       "  <tbody>\n",
       "    <tr>\n",
       "      <th>0</th>\n",
       "      <td>1</td>\n",
       "      <td>14630.037109</td>\n",
       "      <td>4</td>\n",
       "      <td>4</td>\n",
       "      <td>1.0</td>\n",
       "      <td>None</td>\n",
       "      <td>None</td>\n",
       "      <td>734470</td>\n",
       "      <td>538330</td>\n",
       "      <td>50124</td>\n",
       "      <td>...</td>\n",
       "      <td>0.002334</td>\n",
       "      <td>0.033813</td>\n",
       "      <td>0.052942</td>\n",
       "      <td>0.023621</td>\n",
       "      <td>0.028845</td>\n",
       "      <td>0.001023</td>\n",
       "      <td>0.007322</td>\n",
       "      <td>0.003852</td>\n",
       "      <td>4|0%</td>\n",
       "      <td>POLYGON ((-98.91258 38.26109, -98.91246 38.261...</td>\n",
       "    </tr>\n",
       "    <tr>\n",
       "      <th>1</th>\n",
       "      <td>2</td>\n",
       "      <td>49802.121094</td>\n",
       "      <td>1</td>\n",
       "      <td>1</td>\n",
       "      <td>1.0</td>\n",
       "      <td>None</td>\n",
       "      <td>None</td>\n",
       "      <td>734470</td>\n",
       "      <td>579523</td>\n",
       "      <td>20476</td>\n",
       "      <td>...</td>\n",
       "      <td>0.002325</td>\n",
       "      <td>0.025802</td>\n",
       "      <td>0.024857</td>\n",
       "      <td>0.018484</td>\n",
       "      <td>0.017643</td>\n",
       "      <td>0.000767</td>\n",
       "      <td>0.007343</td>\n",
       "      <td>0.002298</td>\n",
       "      <td>1|0%</td>\n",
       "      <td>POLYGON ((-99.54112 36.99961, -99.54157 36.999...</td>\n",
       "    </tr>\n",
       "    <tr>\n",
       "      <th>2</th>\n",
       "      <td>3</td>\n",
       "      <td>15494.653320</td>\n",
       "      <td>2</td>\n",
       "      <td>2</td>\n",
       "      <td>1.0</td>\n",
       "      <td>None</td>\n",
       "      <td>None</td>\n",
       "      <td>734470</td>\n",
       "      <td>536135</td>\n",
       "      <td>63310</td>\n",
       "      <td>...</td>\n",
       "      <td>0.002287</td>\n",
       "      <td>0.033545</td>\n",
       "      <td>0.068788</td>\n",
       "      <td>0.024427</td>\n",
       "      <td>0.015332</td>\n",
       "      <td>0.001567</td>\n",
       "      <td>0.007433</td>\n",
       "      <td>0.003808</td>\n",
       "      <td>2|0%</td>\n",
       "      <td>POLYGON ((-96.03595 39.56610, -96.03634 39.566...</td>\n",
       "    </tr>\n",
       "    <tr>\n",
       "      <th>3</th>\n",
       "      <td>4</td>\n",
       "      <td>2292.086426</td>\n",
       "      <td>3</td>\n",
       "      <td>3</td>\n",
       "      <td>1.0</td>\n",
       "      <td>None</td>\n",
       "      <td>None</td>\n",
       "      <td>734470</td>\n",
       "      <td>568474</td>\n",
       "      <td>34899</td>\n",
       "      <td>...</td>\n",
       "      <td>0.002554</td>\n",
       "      <td>0.028442</td>\n",
       "      <td>0.037540</td>\n",
       "      <td>0.014473</td>\n",
       "      <td>0.039574</td>\n",
       "      <td>0.000705</td>\n",
       "      <td>0.008632</td>\n",
       "      <td>0.002285</td>\n",
       "      <td>3|0%</td>\n",
       "      <td>POLYGON ((-95.05626 38.98212, -95.05582 38.981...</td>\n",
       "    </tr>\n",
       "  </tbody>\n",
       "</table>\n",
       "<p>4 rows × 103 columns</p>\n",
       "</div>"
      ],
      "text/plain": [
       "   ID          AREA  DATA DISTRICT  MEMBERS LOCKED  NAME  POPULATION   WHITE  \\\n",
       "0   1  14630.037109     4        4      1.0   None  None      734470  538330   \n",
       "1   2  49802.121094     1        1      1.0   None  None      734470  579523   \n",
       "2   3  15494.653320     2        2      1.0   None  None      734470  536135   \n",
       "3   4   2292.086426     3        3      1.0   None  None      734470  568474   \n",
       "\n",
       "   BLACK  ...  F_NH18_OTH  F_NH18_2_R  F_NH18_DOJ  F_NH18_DO1  F_NH18_DO2  \\\n",
       "0  50124  ...    0.002334    0.033813    0.052942    0.023621    0.028845   \n",
       "1  20476  ...    0.002325    0.025802    0.024857    0.018484    0.017643   \n",
       "2  63310  ...    0.002287    0.033545    0.068788    0.024427    0.015332   \n",
       "3  34899  ...    0.002554    0.028442    0.037540    0.014473    0.039574   \n",
       "\n",
       "   F_NH18_DO3  F_NH18_DO4  F_NH18_DO5  DISTRICT_L  \\\n",
       "0    0.001023    0.007322    0.003852        4|0%   \n",
       "1    0.000767    0.007343    0.002298        1|0%   \n",
       "2    0.001567    0.007433    0.003808        2|0%   \n",
       "3    0.000705    0.008632    0.002285        3|0%   \n",
       "\n",
       "                                            geometry  \n",
       "0  POLYGON ((-98.91258 38.26109, -98.91246 38.261...  \n",
       "1  POLYGON ((-99.54112 36.99961, -99.54157 36.999...  \n",
       "2  POLYGON ((-96.03595 39.56610, -96.03634 39.566...  \n",
       "3  POLYGON ((-95.05626 38.98212, -95.05582 38.981...  \n",
       "\n",
       "[4 rows x 103 columns]"
      ]
     },
     "execution_count": 32,
     "metadata": {},
     "output_type": "execute_result"
    }
   ],
   "source": [
    "cong_df"
   ]
  },
  {
   "cell_type": "code",
   "execution_count": 33,
   "id": "2b8fbf45-f392-4996-9dc6-e9ee67d0e715",
   "metadata": {
    "tags": []
   },
   "outputs": [
    {
     "name": "stderr",
     "output_type": "stream",
     "text": [
      "100%|█████████████████████████████████████████████| 4/4 [00:00<00:00, 40.21it/s]\n",
      "100%|█████████████████████████████████████████████| 4/4 [00:00<00:00, 20.13it/s]\n",
      "100%|█████████████████████████████████████████████| 4/4 [00:06<00:00,  1.74s/it]\n"
     ]
    }
   ],
   "source": [
    "election_df = add_district(cong_df, \"CD\", election_df, \"DISTRICT\")"
   ]
  },
  {
   "cell_type": "code",
   "execution_count": 34,
   "id": "da25c3ad-7318-4c92-b2f2-74982e9e317c",
   "metadata": {},
   "outputs": [
    {
     "data": {
      "text/html": [
       "<div>\n",
       "<style scoped>\n",
       "    .dataframe tbody tr th:only-of-type {\n",
       "        vertical-align: middle;\n",
       "    }\n",
       "\n",
       "    .dataframe tbody tr th {\n",
       "        vertical-align: top;\n",
       "    }\n",
       "\n",
       "    .dataframe thead th {\n",
       "        text-align: right;\n",
       "    }\n",
       "</style>\n",
       "<table border=\"1\" class=\"dataframe\">\n",
       "  <thead>\n",
       "    <tr style=\"text-align: right;\">\n",
       "      <th></th>\n",
       "      <th>ID</th>\n",
       "      <th>AREA</th>\n",
       "      <th>DATA</th>\n",
       "      <th>DISTRICT</th>\n",
       "      <th>MEMBERS</th>\n",
       "      <th>LOCKED</th>\n",
       "      <th>NAME</th>\n",
       "      <th>POPULATION</th>\n",
       "      <th>WHITE</th>\n",
       "      <th>BLACK</th>\n",
       "      <th>...</th>\n",
       "      <th>F_NH18_OTH</th>\n",
       "      <th>F_NH18_2_R</th>\n",
       "      <th>F_NH18_DOJ</th>\n",
       "      <th>F_NH18_DO1</th>\n",
       "      <th>F_NH18_DO2</th>\n",
       "      <th>F_NH18_DO3</th>\n",
       "      <th>F_NH18_DO4</th>\n",
       "      <th>F_NH18_DO5</th>\n",
       "      <th>DISTRICT_L</th>\n",
       "      <th>geometry</th>\n",
       "    </tr>\n",
       "  </thead>\n",
       "  <tbody>\n",
       "    <tr>\n",
       "      <th>0</th>\n",
       "      <td>1</td>\n",
       "      <td>8811.151360</td>\n",
       "      <td>33</td>\n",
       "      <td>39</td>\n",
       "      <td>1.0</td>\n",
       "      <td>None</td>\n",
       "      <td>None</td>\n",
       "      <td>72519</td>\n",
       "      <td>43311</td>\n",
       "      <td>1679</td>\n",
       "      <td>...</td>\n",
       "      <td>0.002041</td>\n",
       "      <td>0.016644</td>\n",
       "      <td>0.016327</td>\n",
       "      <td>0.012121</td>\n",
       "      <td>0.017030</td>\n",
       "      <td>0.000331</td>\n",
       "      <td>0.005764</td>\n",
       "      <td>0.001737</td>\n",
       "      <td>39|-1.26%</td>\n",
       "      <td>POLYGON ((-100.22714 38.26224, -100.22707 38.2...</td>\n",
       "    </tr>\n",
       "    <tr>\n",
       "      <th>1</th>\n",
       "      <td>2</td>\n",
       "      <td>12996.666900</td>\n",
       "      <td>35</td>\n",
       "      <td>40</td>\n",
       "      <td>1.0</td>\n",
       "      <td>None</td>\n",
       "      <td>None</td>\n",
       "      <td>72101</td>\n",
       "      <td>64437</td>\n",
       "      <td>876</td>\n",
       "      <td>...</td>\n",
       "      <td>0.001942</td>\n",
       "      <td>0.021622</td>\n",
       "      <td>0.012330</td>\n",
       "      <td>0.011082</td>\n",
       "      <td>0.006019</td>\n",
       "      <td>0.000374</td>\n",
       "      <td>0.007698</td>\n",
       "      <td>0.002954</td>\n",
       "      <td>40|-1.83%</td>\n",
       "      <td>POLYGON ((-100.24720 38.69817, -100.25044 38.6...</td>\n",
       "    </tr>\n",
       "    <tr>\n",
       "      <th>2</th>\n",
       "      <td>3</td>\n",
       "      <td>6000.474600</td>\n",
       "      <td>32</td>\n",
       "      <td>38</td>\n",
       "      <td>1.0</td>\n",
       "      <td>None</td>\n",
       "      <td>None</td>\n",
       "      <td>73453</td>\n",
       "      <td>40473</td>\n",
       "      <td>1739</td>\n",
       "      <td>...</td>\n",
       "      <td>0.001239</td>\n",
       "      <td>0.012607</td>\n",
       "      <td>0.017658</td>\n",
       "      <td>0.008699</td>\n",
       "      <td>0.011599</td>\n",
       "      <td>0.000123</td>\n",
       "      <td>0.003621</td>\n",
       "      <td>0.001457</td>\n",
       "      <td>38|0.01%</td>\n",
       "      <td>POLYGON ((-99.54112 36.99961, -99.54157 36.999...</td>\n",
       "    </tr>\n",
       "    <tr>\n",
       "      <th>3</th>\n",
       "      <td>4</td>\n",
       "      <td>3273.222160</td>\n",
       "      <td>28</td>\n",
       "      <td>34</td>\n",
       "      <td>1.0</td>\n",
       "      <td>None</td>\n",
       "      <td>None</td>\n",
       "      <td>73596</td>\n",
       "      <td>63543</td>\n",
       "      <td>1909</td>\n",
       "      <td>...</td>\n",
       "      <td>0.001834</td>\n",
       "      <td>0.027814</td>\n",
       "      <td>0.024186</td>\n",
       "      <td>0.020667</td>\n",
       "      <td>0.005788</td>\n",
       "      <td>0.000720</td>\n",
       "      <td>0.006712</td>\n",
       "      <td>0.001400</td>\n",
       "      <td>34|0.2%</td>\n",
       "      <td>POLYGON ((-98.34715 36.99815, -98.34802 36.998...</td>\n",
       "    </tr>\n",
       "    <tr>\n",
       "      <th>4</th>\n",
       "      <td>5</td>\n",
       "      <td>480.567993</td>\n",
       "      <td>19</td>\n",
       "      <td>26</td>\n",
       "      <td>1.0</td>\n",
       "      <td>None</td>\n",
       "      <td>None</td>\n",
       "      <td>73190</td>\n",
       "      <td>61536</td>\n",
       "      <td>1243</td>\n",
       "      <td>...</td>\n",
       "      <td>0.001886</td>\n",
       "      <td>0.031589</td>\n",
       "      <td>0.014906</td>\n",
       "      <td>0.022626</td>\n",
       "      <td>0.017885</td>\n",
       "      <td>0.000724</td>\n",
       "      <td>0.007323</td>\n",
       "      <td>0.002282</td>\n",
       "      <td>26|-0.35%</td>\n",
       "      <td>POLYGON ((-97.80760 37.47418, -97.80758 37.475...</td>\n",
       "    </tr>\n",
       "  </tbody>\n",
       "</table>\n",
       "<p>5 rows × 103 columns</p>\n",
       "</div>"
      ],
      "text/plain": [
       "   ID          AREA  DATA DISTRICT  MEMBERS LOCKED  NAME  POPULATION  WHITE  \\\n",
       "0   1   8811.151360    33       39      1.0   None  None       72519  43311   \n",
       "1   2  12996.666900    35       40      1.0   None  None       72101  64437   \n",
       "2   3   6000.474600    32       38      1.0   None  None       73453  40473   \n",
       "3   4   3273.222160    28       34      1.0   None  None       73596  63543   \n",
       "4   5    480.567993    19       26      1.0   None  None       73190  61536   \n",
       "\n",
       "   BLACK  ...  F_NH18_OTH  F_NH18_2_R  F_NH18_DOJ  F_NH18_DO1  F_NH18_DO2  \\\n",
       "0   1679  ...    0.002041    0.016644    0.016327    0.012121    0.017030   \n",
       "1    876  ...    0.001942    0.021622    0.012330    0.011082    0.006019   \n",
       "2   1739  ...    0.001239    0.012607    0.017658    0.008699    0.011599   \n",
       "3   1909  ...    0.001834    0.027814    0.024186    0.020667    0.005788   \n",
       "4   1243  ...    0.001886    0.031589    0.014906    0.022626    0.017885   \n",
       "\n",
       "   F_NH18_DO3  F_NH18_DO4  F_NH18_DO5  DISTRICT_L  \\\n",
       "0    0.000331    0.005764    0.001737   39|-1.26%   \n",
       "1    0.000374    0.007698    0.002954   40|-1.83%   \n",
       "2    0.000123    0.003621    0.001457    38|0.01%   \n",
       "3    0.000720    0.006712    0.001400     34|0.2%   \n",
       "4    0.000724    0.007323    0.002282   26|-0.35%   \n",
       "\n",
       "                                            geometry  \n",
       "0  POLYGON ((-100.22714 38.26224, -100.22707 38.2...  \n",
       "1  POLYGON ((-100.24720 38.69817, -100.25044 38.6...  \n",
       "2  POLYGON ((-99.54112 36.99961, -99.54157 36.999...  \n",
       "3  POLYGON ((-98.34715 36.99815, -98.34802 36.998...  \n",
       "4  POLYGON ((-97.80760 37.47418, -97.80758 37.475...  \n",
       "\n",
       "[5 rows x 103 columns]"
      ]
     },
     "execution_count": 34,
     "metadata": {},
     "output_type": "execute_result"
    }
   ],
   "source": [
    "send.head()"
   ]
  },
  {
   "cell_type": "code",
   "execution_count": 35,
   "id": "a9fe98af-f37e-4200-835e-f96695f68e41",
   "metadata": {
    "tags": []
   },
   "outputs": [
    {
     "name": "stderr",
     "output_type": "stream",
     "text": [
      "100%|██████████████████████████████████████████| 40/40 [00:00<00:00, 110.11it/s]\n",
      "100%|██████████████████████████████████████████| 40/40 [00:00<00:00, 198.89it/s]\n",
      "100%|███████████████████████████████████████████| 40/40 [00:04<00:00,  8.07it/s]\n"
     ]
    }
   ],
   "source": [
    "election_df = add_district(send, \"SEND\", election_df, \"DISTRICT\")"
   ]
  },
  {
   "cell_type": "code",
   "execution_count": 36,
   "id": "870104e2-8534-477f-8f66-384f88aa1251",
   "metadata": {},
   "outputs": [
    {
     "data": {
      "text/html": [
       "<div>\n",
       "<style scoped>\n",
       "    .dataframe tbody tr th:only-of-type {\n",
       "        vertical-align: middle;\n",
       "    }\n",
       "\n",
       "    .dataframe tbody tr th {\n",
       "        vertical-align: top;\n",
       "    }\n",
       "\n",
       "    .dataframe thead th {\n",
       "        text-align: right;\n",
       "    }\n",
       "</style>\n",
       "<table border=\"1\" class=\"dataframe\">\n",
       "  <thead>\n",
       "    <tr style=\"text-align: right;\">\n",
       "      <th></th>\n",
       "      <th>ID</th>\n",
       "      <th>AREA</th>\n",
       "      <th>DATA</th>\n",
       "      <th>DISTRICT</th>\n",
       "      <th>MEMBERS</th>\n",
       "      <th>LOCKED</th>\n",
       "      <th>NAME</th>\n",
       "      <th>POPULATION</th>\n",
       "      <th>WHITE</th>\n",
       "      <th>BLACK</th>\n",
       "      <th>...</th>\n",
       "      <th>F_NH18_OTH</th>\n",
       "      <th>F_NH18_2_R</th>\n",
       "      <th>F_NH18_DOJ</th>\n",
       "      <th>F_NH18_DO1</th>\n",
       "      <th>F_NH18_DO2</th>\n",
       "      <th>F_NH18_DO3</th>\n",
       "      <th>F_NH18_DO4</th>\n",
       "      <th>F_NH18_DO5</th>\n",
       "      <th>DISTRICT_L</th>\n",
       "      <th>geometry</th>\n",
       "    </tr>\n",
       "  </thead>\n",
       "  <tbody>\n",
       "    <tr>\n",
       "      <th>0</th>\n",
       "      <td>1</td>\n",
       "      <td>6.174718</td>\n",
       "      <td>109</td>\n",
       "      <td>84</td>\n",
       "      <td>1.0</td>\n",
       "      <td>None</td>\n",
       "      <td>None</td>\n",
       "      <td>23539</td>\n",
       "      <td>9738</td>\n",
       "      <td>7622</td>\n",
       "      <td>...</td>\n",
       "      <td>0.002974</td>\n",
       "      <td>0.039594</td>\n",
       "      <td>0.240410</td>\n",
       "      <td>0.015719</td>\n",
       "      <td>0.025320</td>\n",
       "      <td>0.001147</td>\n",
       "      <td>0.005268</td>\n",
       "      <td>0.013297</td>\n",
       "      <td>84|0.15%</td>\n",
       "      <td>POLYGON ((-97.31826 37.72266, -97.31817 37.722...</td>\n",
       "    </tr>\n",
       "    <tr>\n",
       "      <th>1</th>\n",
       "      <td>2</td>\n",
       "      <td>13.106968</td>\n",
       "      <td>114</td>\n",
       "      <td>89</td>\n",
       "      <td>1.0</td>\n",
       "      <td>None</td>\n",
       "      <td>None</td>\n",
       "      <td>24153</td>\n",
       "      <td>11290</td>\n",
       "      <td>7585</td>\n",
       "      <td>...</td>\n",
       "      <td>0.003643</td>\n",
       "      <td>0.033826</td>\n",
       "      <td>0.243200</td>\n",
       "      <td>0.014532</td>\n",
       "      <td>0.067362</td>\n",
       "      <td>0.000580</td>\n",
       "      <td>0.006459</td>\n",
       "      <td>0.009771</td>\n",
       "      <td>89|2.77%</td>\n",
       "      <td>POLYGON ((-97.26248 37.76883, -97.26248 37.768...</td>\n",
       "    </tr>\n",
       "    <tr>\n",
       "      <th>2</th>\n",
       "      <td>3</td>\n",
       "      <td>49.567436</td>\n",
       "      <td>107</td>\n",
       "      <td>82</td>\n",
       "      <td>1.0</td>\n",
       "      <td>None</td>\n",
       "      <td>None</td>\n",
       "      <td>23223</td>\n",
       "      <td>20067</td>\n",
       "      <td>303</td>\n",
       "      <td>...</td>\n",
       "      <td>0.001636</td>\n",
       "      <td>0.035267</td>\n",
       "      <td>0.011626</td>\n",
       "      <td>0.027559</td>\n",
       "      <td>0.013693</td>\n",
       "      <td>0.001033</td>\n",
       "      <td>0.006158</td>\n",
       "      <td>0.002067</td>\n",
       "      <td>82|-1.19%</td>\n",
       "      <td>POLYGON ((-97.15333 37.47554, -97.15329 37.474...</td>\n",
       "    </tr>\n",
       "    <tr>\n",
       "      <th>3</th>\n",
       "      <td>4</td>\n",
       "      <td>40.998199</td>\n",
       "      <td>106</td>\n",
       "      <td>81</td>\n",
       "      <td>1.0</td>\n",
       "      <td>None</td>\n",
       "      <td>None</td>\n",
       "      <td>23040</td>\n",
       "      <td>15471</td>\n",
       "      <td>1689</td>\n",
       "      <td>...</td>\n",
       "      <td>0.002387</td>\n",
       "      <td>0.035547</td>\n",
       "      <td>0.055903</td>\n",
       "      <td>0.021267</td>\n",
       "      <td>0.046745</td>\n",
       "      <td>0.002170</td>\n",
       "      <td>0.008377</td>\n",
       "      <td>0.004687</td>\n",
       "      <td>81|-1.97%</td>\n",
       "      <td>POLYGON ((-97.15282 37.57762, -97.15282 37.574...</td>\n",
       "    </tr>\n",
       "    <tr>\n",
       "      <th>4</th>\n",
       "      <td>5</td>\n",
       "      <td>15.171526</td>\n",
       "      <td>113</td>\n",
       "      <td>88</td>\n",
       "      <td>1.0</td>\n",
       "      <td>None</td>\n",
       "      <td>None</td>\n",
       "      <td>23527</td>\n",
       "      <td>12273</td>\n",
       "      <td>3682</td>\n",
       "      <td>...</td>\n",
       "      <td>0.002423</td>\n",
       "      <td>0.038381</td>\n",
       "      <td>0.121052</td>\n",
       "      <td>0.017257</td>\n",
       "      <td>0.125260</td>\n",
       "      <td>0.001785</td>\n",
       "      <td>0.006036</td>\n",
       "      <td>0.007268</td>\n",
       "      <td>88|0.1%</td>\n",
       "      <td>POLYGON ((-97.13804 37.63597, -97.13994 37.635...</td>\n",
       "    </tr>\n",
       "  </tbody>\n",
       "</table>\n",
       "<p>5 rows × 103 columns</p>\n",
       "</div>"
      ],
      "text/plain": [
       "   ID       AREA  DATA DISTRICT  MEMBERS LOCKED  NAME  POPULATION  WHITE  \\\n",
       "0   1   6.174718   109       84      1.0   None  None       23539   9738   \n",
       "1   2  13.106968   114       89      1.0   None  None       24153  11290   \n",
       "2   3  49.567436   107       82      1.0   None  None       23223  20067   \n",
       "3   4  40.998199   106       81      1.0   None  None       23040  15471   \n",
       "4   5  15.171526   113       88      1.0   None  None       23527  12273   \n",
       "\n",
       "   BLACK  ...  F_NH18_OTH  F_NH18_2_R  F_NH18_DOJ  F_NH18_DO1  F_NH18_DO2  \\\n",
       "0   7622  ...    0.002974    0.039594    0.240410    0.015719    0.025320   \n",
       "1   7585  ...    0.003643    0.033826    0.243200    0.014532    0.067362   \n",
       "2    303  ...    0.001636    0.035267    0.011626    0.027559    0.013693   \n",
       "3   1689  ...    0.002387    0.035547    0.055903    0.021267    0.046745   \n",
       "4   3682  ...    0.002423    0.038381    0.121052    0.017257    0.125260   \n",
       "\n",
       "   F_NH18_DO3  F_NH18_DO4  F_NH18_DO5  DISTRICT_L  \\\n",
       "0    0.001147    0.005268    0.013297    84|0.15%   \n",
       "1    0.000580    0.006459    0.009771    89|2.77%   \n",
       "2    0.001033    0.006158    0.002067   82|-1.19%   \n",
       "3    0.002170    0.008377    0.004687   81|-1.97%   \n",
       "4    0.001785    0.006036    0.007268     88|0.1%   \n",
       "\n",
       "                                            geometry  \n",
       "0  POLYGON ((-97.31826 37.72266, -97.31817 37.722...  \n",
       "1  POLYGON ((-97.26248 37.76883, -97.26248 37.768...  \n",
       "2  POLYGON ((-97.15333 37.47554, -97.15329 37.474...  \n",
       "3  POLYGON ((-97.15282 37.57762, -97.15282 37.574...  \n",
       "4  POLYGON ((-97.13804 37.63597, -97.13994 37.635...  \n",
       "\n",
       "[5 rows x 103 columns]"
      ]
     },
     "execution_count": 36,
     "metadata": {},
     "output_type": "execute_result"
    }
   ],
   "source": [
    "hdist.head()"
   ]
  },
  {
   "cell_type": "code",
   "execution_count": 37,
   "id": "da4c6235-1028-43d0-adde-affe669c3f20",
   "metadata": {
    "tags": []
   },
   "outputs": [
    {
     "name": "stderr",
     "output_type": "stream",
     "text": [
      "100%|████████████████████████████████████████| 125/125 [00:00<00:00, 192.94it/s]\n",
      "100%|████████████████████████████████████████| 125/125 [00:00<00:00, 541.50it/s]\n",
      "100%|█████████████████████████████████████████| 125/125 [00:05<00:00, 22.59it/s]\n"
     ]
    }
   ],
   "source": [
    "election_df = add_district(hdist, \"HDIST\", election_df, \"DISTRICT\")"
   ]
  },
  {
   "cell_type": "code",
   "execution_count": 38,
   "id": "aaee6a30-6a18-473e-bd02-7881c1e94e68",
   "metadata": {},
   "outputs": [
    {
     "data": {
      "text/plain": [
       "Index(['2MOREVAP', 'AMINVAP', 'ASIANVAP', 'ATG18D', 'ATG18R', 'BVAP',\n",
       "       'COUNTYFP', 'GOV18D', 'GOV18O', 'GOV18R', 'HISP', 'HVAP', 'H_2MORE',\n",
       "       'H_AMIN', 'H_ASIAN', 'H_BLACK', 'H_NHPI', 'H_OTHER', 'H_WHITE',\n",
       "       'INS18D', 'INS18R', 'NAMELSAD', 'NHPIVAP', 'NH_2MORE', 'NH_AMIN',\n",
       "       'NH_ASIAN', 'NH_BLACK', 'NH_NHPI', 'NH_OTHER', 'NH_WHITE', 'OTHERVAP',\n",
       "       'PRE16O', 'PRE16R', 'PRE20D', 'PRE20O', 'PRE20R', 'SOS18D', 'SOS18O',\n",
       "       'SOS18R', 'TOTPOP', 'TRE18D', 'TRE18R', 'USS16D', 'USS16O', 'USS16R',\n",
       "       'USS20D', 'USS20O', 'USS20R', 'VAP', 'VTDST', 'WVAP', 'geometry', 'CD',\n",
       "       'SEND', 'HDIST'],\n",
       "      dtype='object')"
      ]
     },
     "execution_count": 38,
     "metadata": {},
     "output_type": "execute_result"
    }
   ],
   "source": [
    "election_df.columns"
   ]
  },
  {
   "cell_type": "markdown",
   "id": "0bba365b-7d46-45ea-9b8b-400fc162a82f",
   "metadata": {},
   "source": [
    "### Put the base precinct year after the precinct information column"
   ]
  },
  {
   "cell_type": "code",
   "execution_count": 39,
   "id": "7086205b-49f4-44a7-be19-9eeac924e07b",
   "metadata": {},
   "outputs": [],
   "source": [
    "base_columns = {}\n",
    "if 'COUNTYFP' + year not in election_df.columns:\n",
    "    base_columns = {\n",
    "        'STATEFP':'STATEFP'+year,\n",
    "        'COUNTYFP':'COUNTYFP'+year,\n",
    "        'VTDST':'VTDST'+year,\n",
    "        'GEOID':'GEOID'+year,\n",
    "        'NAME':'NAME'+year,\n",
    "        'NAMELSAD':'NAMELSAD'+year\n",
    "    }\n",
    "election_df.rename(columns=base_columns, inplace = True)"
   ]
  },
  {
   "cell_type": "code",
   "execution_count": 40,
   "id": "cb28c798-be17-47c5-8a0e-dd3f51306325",
   "metadata": {},
   "outputs": [
    {
     "data": {
      "text/plain": [
       "Index(['2MOREVAP', 'AMINVAP', 'ASIANVAP', 'ATG18D', 'ATG18R', 'BVAP',\n",
       "       'COUNTYFP20', 'GOV18D', 'GOV18O', 'GOV18R', 'HISP', 'HVAP', 'H_2MORE',\n",
       "       'H_AMIN', 'H_ASIAN', 'H_BLACK', 'H_NHPI', 'H_OTHER', 'H_WHITE',\n",
       "       'INS18D', 'INS18R', 'NAMELSAD', 'NHPIVAP', 'NH_2MORE', 'NH_AMIN',\n",
       "       'NH_ASIAN', 'NH_BLACK', 'NH_NHPI', 'NH_OTHER', 'NH_WHITE', 'OTHERVAP',\n",
       "       'PRE16O', 'PRE16R', 'PRE20D', 'PRE20O', 'PRE20R', 'SOS18D', 'SOS18O',\n",
       "       'SOS18R', 'TOTPOP', 'TRE18D', 'TRE18R', 'USS16D', 'USS16O', 'USS16R',\n",
       "       'USS20D', 'USS20O', 'USS20R', 'VAP', 'VTDST20', 'WVAP', 'geometry',\n",
       "       'CD', 'SEND', 'HDIST'],\n",
       "      dtype='object')"
      ]
     },
     "execution_count": 40,
     "metadata": {},
     "output_type": "execute_result"
    }
   ],
   "source": [
    "election_df.columns"
   ]
  },
  {
   "cell_type": "code",
   "execution_count": 46,
   "id": "e355b434-804c-4a5c-a8aa-cf2e966e3f87",
   "metadata": {},
   "outputs": [],
   "source": [
    "election_df = election_df.rename(columns={'NAMELSAD':'NAMELSAD'+year})"
   ]
  },
  {
   "cell_type": "code",
   "execution_count": 47,
   "id": "3ea62760-cc32-4fcc-8475-c3ba956cb901",
   "metadata": {},
   "outputs": [],
   "source": [
    "# reorder the columns\n",
    "fixed_columns = [\n",
    "    'COUNTYFP'+year,\n",
    "    'VTDST'+year,\n",
    "    'NAMELSAD'+year,\n",
    "    'CD',\n",
    "    'SEND',\n",
    "    'HDIST',\n",
    "    'TOTPOP',\n",
    "    'NH_2MORE',\n",
    "    'NH_AMIN',\n",
    "    'NH_ASIAN',\n",
    "    'NH_BLACK',\n",
    "    'NH_NHPI',\n",
    "    'NH_OTHER',\n",
    "    'NH_WHITE',\n",
    "    'HISP',\n",
    "    'H_AMIN',\n",
    "    'H_ASIAN',\n",
    "    'H_BLACK',\n",
    "    'H_NHPI',\n",
    "    'H_OTHER',\n",
    "    'H_WHITE',\n",
    "    'H_2MORE',\n",
    "    'VAP',\n",
    "    'HVAP',\n",
    "    'WVAP',\n",
    "    'BVAP',\n",
    "    'AMINVAP',\n",
    "    'ASIANVAP',\n",
    "    'NHPIVAP',\n",
    "    'OTHERVAP',\n",
    "    '2MOREVAP']\n",
    "\n",
    "election_columns = [col for col in election_df.columns if col not in fixed_columns]\n",
    "final_col = fixed_columns + election_columns\n",
    "election_df = election_df[final_col]"
   ]
  },
  {
   "cell_type": "code",
   "execution_count": 48,
   "id": "722788f7-89c6-477d-a2dc-2296739fff8c",
   "metadata": {},
   "outputs": [
    {
     "data": {
      "text/plain": [
       "['COUNTYFP20',\n",
       " 'VTDST20',\n",
       " 'NAMELSAD20',\n",
       " 'CD',\n",
       " 'SEND',\n",
       " 'HDIST',\n",
       " 'TOTPOP',\n",
       " 'NH_2MORE',\n",
       " 'NH_AMIN',\n",
       " 'NH_ASIAN',\n",
       " 'NH_BLACK',\n",
       " 'NH_NHPI',\n",
       " 'NH_OTHER',\n",
       " 'NH_WHITE',\n",
       " 'HISP',\n",
       " 'H_AMIN',\n",
       " 'H_ASIAN',\n",
       " 'H_BLACK',\n",
       " 'H_NHPI',\n",
       " 'H_OTHER',\n",
       " 'H_WHITE',\n",
       " 'H_2MORE',\n",
       " 'VAP',\n",
       " 'HVAP',\n",
       " 'WVAP',\n",
       " 'BVAP',\n",
       " 'AMINVAP',\n",
       " 'ASIANVAP',\n",
       " 'NHPIVAP',\n",
       " 'OTHERVAP',\n",
       " '2MOREVAP',\n",
       " 'ATG18D',\n",
       " 'ATG18R',\n",
       " 'GOV18D',\n",
       " 'GOV18O',\n",
       " 'GOV18R',\n",
       " 'INS18D',\n",
       " 'INS18R',\n",
       " 'PRE16O',\n",
       " 'PRE16R',\n",
       " 'PRE20D',\n",
       " 'PRE20O',\n",
       " 'PRE20R',\n",
       " 'SOS18D',\n",
       " 'SOS18O',\n",
       " 'SOS18R',\n",
       " 'TRE18D',\n",
       " 'TRE18R',\n",
       " 'USS16D',\n",
       " 'USS16O',\n",
       " 'USS16R',\n",
       " 'USS20D',\n",
       " 'USS20O',\n",
       " 'USS20R',\n",
       " 'geometry']"
      ]
     },
     "execution_count": 48,
     "metadata": {},
     "output_type": "execute_result"
    }
   ],
   "source": [
    "list(election_df.columns)"
   ]
  },
  {
   "cell_type": "code",
   "execution_count": 49,
   "id": "1b198042-dbd4-408e-bfd4-4494f2b49245",
   "metadata": {
    "tags": []
   },
   "outputs": [],
   "source": [
    "# store the result in directory \"ks\"\n",
    "os.makedirs(\"./{}\".format(state_ab))\n",
    "election_df.to_file(\"./{}/{}.shp\".format(state_ab, state_ab))\n",
    "election_df.to_file('./{}/{}.geojson'.format(state_ab, state_ab), driver='GeoJSON')\n",
    "\n",
    "# Only do once to build json and read from file when generating ensembles\n",
    "graph = Graph.from_file(\"./{}/{}.shp\".format(state_ab, state_ab), ignore_errors=True)\n",
    "graph.to_json(\"./{}/{}.json\".format(state_ab, state_ab))"
   ]
  },
  {
   "cell_type": "code",
   "execution_count": null,
   "id": "6d74115d-97ac-4ad0-b354-7335cdcedcea",
   "metadata": {},
   "outputs": [],
   "source": []
  }
 ],
 "metadata": {
  "kernelspec": {
   "display_name": "maup",
   "language": "python",
   "name": "maup"
  },
  "language_info": {
   "codemirror_mode": {
    "name": "ipython",
    "version": 3
   },
   "file_extension": ".py",
   "mimetype": "text/x-python",
   "name": "python",
   "nbconvert_exporter": "python",
   "pygments_lexer": "ipython3",
   "version": "3.9.12"
  }
 },
 "nbformat": 4,
 "nbformat_minor": 5
}
